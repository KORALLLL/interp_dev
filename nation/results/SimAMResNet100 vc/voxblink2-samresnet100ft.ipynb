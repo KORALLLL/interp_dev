{
 "cells": [
  {
   "cell_type": "markdown",
   "metadata": {},
   "source": [
    "# voxblink2_samresnet100\n"
   ]
  },
  {
   "cell_type": "markdown",
   "metadata": {
    "id": "NZVHMrNr6YT-"
   },
   "source": [
    "### Импорт библиотек"
   ]
  },
  {
   "cell_type": "code",
   "execution_count": 1,
   "metadata": {
    "execution": {
     "iopub.execute_input": "2025-05-12T18:17:42.407619Z",
     "iopub.status.busy": "2025-05-12T18:17:42.407408Z",
     "iopub.status.idle": "2025-05-12T18:19:10.778748Z",
     "shell.execute_reply": "2025-05-12T18:19:10.778088Z",
     "shell.execute_reply.started": "2025-05-12T18:17:42.407597Z"
    },
    "trusted": true
   },
   "outputs": [
    {
     "name": "stdout",
     "output_type": "stream",
     "text": [
      "Collecting git+https://github.com/wenet-e2e/wespeaker.git\n",
      "  Cloning https://github.com/wenet-e2e/wespeaker.git to /tmp/pip-req-build-8pj43ypn\n",
      "  Running command git clone --filter=blob:none --quiet https://github.com/wenet-e2e/wespeaker.git /tmp/pip-req-build-8pj43ypn\n",
      "  Resolved https://github.com/wenet-e2e/wespeaker.git to commit 310a15850895b54e20845e107b54c9a275d39a2d\n",
      "  Preparing metadata (setup.py) ... \u001b[?25l\u001b[?25hdone\n",
      "Requirement already satisfied: tqdm in /usr/local/lib/python3.11/dist-packages (from wespeaker==0.0.0) (4.67.1)\n",
      "Collecting kaldiio (from wespeaker==0.0.0)\n",
      "  Downloading kaldiio-2.18.1-py3-none-any.whl.metadata (13 kB)\n",
      "Collecting hdbscan==0.8.37 (from wespeaker==0.0.0)\n",
      "  Downloading hdbscan-0.8.37-cp311-cp311-manylinux_2_17_x86_64.manylinux2014_x86_64.whl.metadata (13 kB)\n",
      "Collecting umap-learn==0.5.6 (from wespeaker==0.0.0)\n",
      "  Downloading umap_learn-0.5.6-py3-none-any.whl.metadata (21 kB)\n",
      "Requirement already satisfied: torch>=1.12.0 in /usr/local/lib/python3.11/dist-packages (from wespeaker==0.0.0) (2.5.1+cu124)\n",
      "Requirement already satisfied: torchaudio>=0.12.0 in /usr/local/lib/python3.11/dist-packages (from wespeaker==0.0.0) (2.5.1+cu124)\n",
      "Collecting silero-vad (from wespeaker==0.0.0)\n",
      "  Downloading silero_vad-5.1.2-py3-none-any.whl.metadata (7.9 kB)\n",
      "Collecting cython<3,>=0.27 (from hdbscan==0.8.37->wespeaker==0.0.0)\n",
      "  Downloading Cython-0.29.37-cp311-cp311-manylinux_2_17_x86_64.manylinux2014_x86_64.manylinux_2_24_x86_64.whl.metadata (3.1 kB)\n",
      "Requirement already satisfied: numpy<2,>=1.20 in /usr/local/lib/python3.11/dist-packages (from hdbscan==0.8.37->wespeaker==0.0.0) (1.26.4)\n",
      "Requirement already satisfied: scipy>=1.0 in /usr/local/lib/python3.11/dist-packages (from hdbscan==0.8.37->wespeaker==0.0.0) (1.15.2)\n",
      "Requirement already satisfied: scikit-learn>=0.20 in /usr/local/lib/python3.11/dist-packages (from hdbscan==0.8.37->wespeaker==0.0.0) (1.2.2)\n",
      "Requirement already satisfied: joblib>=1.0 in /usr/local/lib/python3.11/dist-packages (from hdbscan==0.8.37->wespeaker==0.0.0) (1.4.2)\n",
      "Requirement already satisfied: numba>=0.51.2 in /usr/local/lib/python3.11/dist-packages (from umap-learn==0.5.6->wespeaker==0.0.0) (0.60.0)\n",
      "Collecting pynndescent>=0.5 (from umap-learn==0.5.6->wespeaker==0.0.0)\n",
      "  Downloading pynndescent-0.5.13-py3-none-any.whl.metadata (6.8 kB)\n",
      "Requirement already satisfied: filelock in /usr/local/lib/python3.11/dist-packages (from torch>=1.12.0->wespeaker==0.0.0) (3.18.0)\n",
      "Requirement already satisfied: typing-extensions>=4.8.0 in /usr/local/lib/python3.11/dist-packages (from torch>=1.12.0->wespeaker==0.0.0) (4.13.1)\n",
      "Requirement already satisfied: networkx in /usr/local/lib/python3.11/dist-packages (from torch>=1.12.0->wespeaker==0.0.0) (3.4.2)\n",
      "Requirement already satisfied: jinja2 in /usr/local/lib/python3.11/dist-packages (from torch>=1.12.0->wespeaker==0.0.0) (3.1.6)\n",
      "Requirement already satisfied: fsspec in /usr/local/lib/python3.11/dist-packages (from torch>=1.12.0->wespeaker==0.0.0) (2025.3.2)\n",
      "Requirement already satisfied: nvidia-cuda-nvrtc-cu12==12.4.127 in /usr/local/lib/python3.11/dist-packages (from torch>=1.12.0->wespeaker==0.0.0) (12.4.127)\n",
      "Requirement already satisfied: nvidia-cuda-runtime-cu12==12.4.127 in /usr/local/lib/python3.11/dist-packages (from torch>=1.12.0->wespeaker==0.0.0) (12.4.127)\n",
      "Requirement already satisfied: nvidia-cuda-cupti-cu12==12.4.127 in /usr/local/lib/python3.11/dist-packages (from torch>=1.12.0->wespeaker==0.0.0) (12.4.127)\n",
      "Collecting nvidia-cudnn-cu12==9.1.0.70 (from torch>=1.12.0->wespeaker==0.0.0)\n",
      "  Downloading nvidia_cudnn_cu12-9.1.0.70-py3-none-manylinux2014_x86_64.whl.metadata (1.6 kB)\n",
      "Collecting nvidia-cublas-cu12==12.4.5.8 (from torch>=1.12.0->wespeaker==0.0.0)\n",
      "  Downloading nvidia_cublas_cu12-12.4.5.8-py3-none-manylinux2014_x86_64.whl.metadata (1.5 kB)\n",
      "Collecting nvidia-cufft-cu12==11.2.1.3 (from torch>=1.12.0->wespeaker==0.0.0)\n",
      "  Downloading nvidia_cufft_cu12-11.2.1.3-py3-none-manylinux2014_x86_64.whl.metadata (1.5 kB)\n",
      "Collecting nvidia-curand-cu12==10.3.5.147 (from torch>=1.12.0->wespeaker==0.0.0)\n",
      "  Downloading nvidia_curand_cu12-10.3.5.147-py3-none-manylinux2014_x86_64.whl.metadata (1.5 kB)\n",
      "Collecting nvidia-cusolver-cu12==11.6.1.9 (from torch>=1.12.0->wespeaker==0.0.0)\n",
      "  Downloading nvidia_cusolver_cu12-11.6.1.9-py3-none-manylinux2014_x86_64.whl.metadata (1.6 kB)\n",
      "Collecting nvidia-cusparse-cu12==12.3.1.170 (from torch>=1.12.0->wespeaker==0.0.0)\n",
      "  Downloading nvidia_cusparse_cu12-12.3.1.170-py3-none-manylinux2014_x86_64.whl.metadata (1.6 kB)\n",
      "Requirement already satisfied: nvidia-nccl-cu12==2.21.5 in /usr/local/lib/python3.11/dist-packages (from torch>=1.12.0->wespeaker==0.0.0) (2.21.5)\n",
      "Requirement already satisfied: nvidia-nvtx-cu12==12.4.127 in /usr/local/lib/python3.11/dist-packages (from torch>=1.12.0->wespeaker==0.0.0) (12.4.127)\n",
      "Collecting nvidia-nvjitlink-cu12==12.4.127 (from torch>=1.12.0->wespeaker==0.0.0)\n",
      "  Downloading nvidia_nvjitlink_cu12-12.4.127-py3-none-manylinux2014_x86_64.whl.metadata (1.5 kB)\n",
      "Requirement already satisfied: triton==3.1.0 in /usr/local/lib/python3.11/dist-packages (from torch>=1.12.0->wespeaker==0.0.0) (3.1.0)\n",
      "Requirement already satisfied: sympy==1.13.1 in /usr/local/lib/python3.11/dist-packages (from torch>=1.12.0->wespeaker==0.0.0) (1.13.1)\n",
      "Requirement already satisfied: mpmath<1.4,>=1.1.0 in /usr/local/lib/python3.11/dist-packages (from sympy==1.13.1->torch>=1.12.0->wespeaker==0.0.0) (1.3.0)\n",
      "Collecting onnxruntime>=1.16.1 (from silero-vad->wespeaker==0.0.0)\n",
      "  Downloading onnxruntime-1.22.0-cp311-cp311-manylinux_2_27_x86_64.manylinux_2_28_x86_64.whl.metadata (4.5 kB)\n",
      "Requirement already satisfied: llvmlite<0.44,>=0.43.0dev0 in /usr/local/lib/python3.11/dist-packages (from numba>=0.51.2->umap-learn==0.5.6->wespeaker==0.0.0) (0.43.0)\n",
      "Requirement already satisfied: mkl_fft in /usr/local/lib/python3.11/dist-packages (from numpy<2,>=1.20->hdbscan==0.8.37->wespeaker==0.0.0) (1.3.8)\n",
      "Requirement already satisfied: mkl_random in /usr/local/lib/python3.11/dist-packages (from numpy<2,>=1.20->hdbscan==0.8.37->wespeaker==0.0.0) (1.2.4)\n",
      "Requirement already satisfied: mkl_umath in /usr/local/lib/python3.11/dist-packages (from numpy<2,>=1.20->hdbscan==0.8.37->wespeaker==0.0.0) (0.1.1)\n",
      "Requirement already satisfied: mkl in /usr/local/lib/python3.11/dist-packages (from numpy<2,>=1.20->hdbscan==0.8.37->wespeaker==0.0.0) (2025.1.0)\n",
      "Requirement already satisfied: tbb4py in /usr/local/lib/python3.11/dist-packages (from numpy<2,>=1.20->hdbscan==0.8.37->wespeaker==0.0.0) (2022.1.0)\n",
      "Requirement already satisfied: mkl-service in /usr/local/lib/python3.11/dist-packages (from numpy<2,>=1.20->hdbscan==0.8.37->wespeaker==0.0.0) (2.4.1)\n",
      "Collecting coloredlogs (from onnxruntime>=1.16.1->silero-vad->wespeaker==0.0.0)\n",
      "  Downloading coloredlogs-15.0.1-py2.py3-none-any.whl.metadata (12 kB)\n",
      "Requirement already satisfied: flatbuffers in /usr/local/lib/python3.11/dist-packages (from onnxruntime>=1.16.1->silero-vad->wespeaker==0.0.0) (25.2.10)\n",
      "Requirement already satisfied: packaging in /usr/local/lib/python3.11/dist-packages (from onnxruntime>=1.16.1->silero-vad->wespeaker==0.0.0) (24.2)\n",
      "Requirement already satisfied: protobuf in /usr/local/lib/python3.11/dist-packages (from onnxruntime>=1.16.1->silero-vad->wespeaker==0.0.0) (3.20.3)\n",
      "Requirement already satisfied: threadpoolctl>=2.0.0 in /usr/local/lib/python3.11/dist-packages (from scikit-learn>=0.20->hdbscan==0.8.37->wespeaker==0.0.0) (3.6.0)\n",
      "Requirement already satisfied: MarkupSafe>=2.0 in /usr/local/lib/python3.11/dist-packages (from jinja2->torch>=1.12.0->wespeaker==0.0.0) (3.0.2)\n",
      "Collecting humanfriendly>=9.1 (from coloredlogs->onnxruntime>=1.16.1->silero-vad->wespeaker==0.0.0)\n",
      "  Downloading humanfriendly-10.0-py2.py3-none-any.whl.metadata (9.2 kB)\n",
      "Requirement already satisfied: intel-openmp<2026,>=2024 in /usr/local/lib/python3.11/dist-packages (from mkl->numpy<2,>=1.20->hdbscan==0.8.37->wespeaker==0.0.0) (2024.2.0)\n",
      "Requirement already satisfied: tbb==2022.* in /usr/local/lib/python3.11/dist-packages (from mkl->numpy<2,>=1.20->hdbscan==0.8.37->wespeaker==0.0.0) (2022.1.0)\n",
      "Requirement already satisfied: tcmlib==1.* in /usr/local/lib/python3.11/dist-packages (from tbb==2022.*->mkl->numpy<2,>=1.20->hdbscan==0.8.37->wespeaker==0.0.0) (1.2.0)\n",
      "Requirement already satisfied: intel-cmplr-lib-rt in /usr/local/lib/python3.11/dist-packages (from mkl_umath->numpy<2,>=1.20->hdbscan==0.8.37->wespeaker==0.0.0) (2024.2.0)\n",
      "Requirement already satisfied: intel-cmplr-lib-ur==2024.2.0 in /usr/local/lib/python3.11/dist-packages (from intel-openmp<2026,>=2024->mkl->numpy<2,>=1.20->hdbscan==0.8.37->wespeaker==0.0.0) (2024.2.0)\n",
      "Downloading hdbscan-0.8.37-cp311-cp311-manylinux_2_17_x86_64.manylinux2014_x86_64.whl (3.8 MB)\n",
      "\u001b[2K   \u001b[90m━━━━━━━━━━━━━━━━━━━━━━━━━━━━━━━━━━━━━━━━\u001b[0m \u001b[32m3.8/3.8 MB\u001b[0m \u001b[31m38.9 MB/s\u001b[0m eta \u001b[36m0:00:00\u001b[0ma \u001b[36m0:00:01\u001b[0m\n",
      "\u001b[?25hDownloading umap_learn-0.5.6-py3-none-any.whl (85 kB)\n",
      "\u001b[2K   \u001b[90m━━━━━━━━━━━━━━━━━━━━━━━━━━━━━━━━━━━━━━━━\u001b[0m \u001b[32m85.7/85.7 kB\u001b[0m \u001b[31m5.7 MB/s\u001b[0m eta \u001b[36m0:00:00\u001b[0m\n",
      "\u001b[?25hDownloading nvidia_cublas_cu12-12.4.5.8-py3-none-manylinux2014_x86_64.whl (363.4 MB)\n",
      "\u001b[2K   \u001b[90m━━━━━━━━━━━━━━━━━━━━━━━━━━━━━━━━━━━━━━━━\u001b[0m \u001b[32m363.4/363.4 MB\u001b[0m \u001b[31m4.7 MB/s\u001b[0m eta \u001b[36m0:00:00\u001b[0m0:00:01\u001b[0m00:01\u001b[0m\n",
      "\u001b[?25hDownloading nvidia_cudnn_cu12-9.1.0.70-py3-none-manylinux2014_x86_64.whl (664.8 MB)\n",
      "\u001b[2K   \u001b[90m━━━━━━━━━━━━━━━━━━━━━━━━━━━━━━━━━━━━━━━━\u001b[0m \u001b[32m664.8/664.8 MB\u001b[0m \u001b[31m2.6 MB/s\u001b[0m eta \u001b[36m0:00:00\u001b[0m0:00:01\u001b[0m00:01\u001b[0m\n",
      "\u001b[?25hDownloading nvidia_cufft_cu12-11.2.1.3-py3-none-manylinux2014_x86_64.whl (211.5 MB)\n",
      "\u001b[2K   \u001b[90m━━━━━━━━━━━━━━━━━━━━━━━━━━━━━━━━━━━━━━━━\u001b[0m \u001b[32m211.5/211.5 MB\u001b[0m \u001b[31m8.1 MB/s\u001b[0m eta \u001b[36m0:00:00\u001b[0m0:00:01\u001b[0m00:01\u001b[0m\n",
      "\u001b[?25hDownloading nvidia_curand_cu12-10.3.5.147-py3-none-manylinux2014_x86_64.whl (56.3 MB)\n",
      "\u001b[2K   \u001b[90m━━━━━━━━━━━━━━━━━━━━━━━━━━━━━━━━━━━━━━━━\u001b[0m \u001b[32m56.3/56.3 MB\u001b[0m \u001b[31m31.3 MB/s\u001b[0m eta \u001b[36m0:00:00\u001b[0m:00:01\u001b[0m00:01\u001b[0m\n",
      "\u001b[?25hDownloading nvidia_cusolver_cu12-11.6.1.9-py3-none-manylinux2014_x86_64.whl (127.9 MB)\n",
      "\u001b[2K   \u001b[90m━━━━━━━━━━━━━━━━━━━━━━━━━━━━━━━━━━━━━━━━\u001b[0m \u001b[32m127.9/127.9 MB\u001b[0m \u001b[31m11.4 MB/s\u001b[0m eta \u001b[36m0:00:00\u001b[0m:00:01\u001b[0m00:01\u001b[0m\n",
      "\u001b[?25hDownloading nvidia_cusparse_cu12-12.3.1.170-py3-none-manylinux2014_x86_64.whl (207.5 MB)\n",
      "\u001b[2K   \u001b[90m━━━━━━━━━━━━━━━━━━━━━━━━━━━━━━━━━━━━━━━━\u001b[0m \u001b[32m207.5/207.5 MB\u001b[0m \u001b[31m8.3 MB/s\u001b[0m eta \u001b[36m0:00:00\u001b[0m0:00:01\u001b[0m00:01\u001b[0m\n",
      "\u001b[?25hDownloading nvidia_nvjitlink_cu12-12.4.127-py3-none-manylinux2014_x86_64.whl (21.1 MB)\n",
      "\u001b[2K   \u001b[90m━━━━━━━━━━━━━━━━━━━━━━━━━━━━━━━━━━━━━━━━\u001b[0m \u001b[32m21.1/21.1 MB\u001b[0m \u001b[31m70.9 MB/s\u001b[0m eta \u001b[36m0:00:00\u001b[0m:00:01\u001b[0m00:01\u001b[0m\n",
      "\u001b[?25hDownloading kaldiio-2.18.1-py3-none-any.whl (29 kB)\n",
      "Downloading silero_vad-5.1.2-py3-none-any.whl (5.0 MB)\n",
      "\u001b[2K   \u001b[90m━━━━━━━━━━━━━━━━━━━━━━━━━━━━━━━━━━━━━━━━\u001b[0m \u001b[32m5.0/5.0 MB\u001b[0m \u001b[31m102.0 MB/s\u001b[0m eta \u001b[36m0:00:00\u001b[0m00:01\u001b[0m\n",
      "\u001b[?25hDownloading Cython-0.29.37-cp311-cp311-manylinux_2_17_x86_64.manylinux2014_x86_64.manylinux_2_24_x86_64.whl (1.9 MB)\n",
      "\u001b[2K   \u001b[90m━━━━━━━━━━━━━━━━━━━━━━━━━━━━━━━━━━━━━━━━\u001b[0m \u001b[32m1.9/1.9 MB\u001b[0m \u001b[31m73.0 MB/s\u001b[0m eta \u001b[36m0:00:00\u001b[0m\n",
      "\u001b[?25hDownloading onnxruntime-1.22.0-cp311-cp311-manylinux_2_27_x86_64.manylinux_2_28_x86_64.whl (16.4 MB)\n",
      "\u001b[2K   \u001b[90m━━━━━━━━━━━━━━━━━━━━━━━━━━━━━━━━━━━━━━━━\u001b[0m \u001b[32m16.4/16.4 MB\u001b[0m \u001b[31m85.4 MB/s\u001b[0m eta \u001b[36m0:00:00\u001b[0m:00:01\u001b[0m00:01\u001b[0m\n",
      "\u001b[?25hDownloading pynndescent-0.5.13-py3-none-any.whl (56 kB)\n",
      "\u001b[2K   \u001b[90m━━━━━━━━━━━━━━━━━━━━━━━━━━━━━━━━━━━━━━━━\u001b[0m \u001b[32m56.9/56.9 kB\u001b[0m \u001b[31m3.8 MB/s\u001b[0m eta \u001b[36m0:00:00\u001b[0m\n",
      "\u001b[?25hDownloading coloredlogs-15.0.1-py2.py3-none-any.whl (46 kB)\n",
      "\u001b[2K   \u001b[90m━━━━━━━━━━━━━━━━━━━━━━━━━━━━━━━━━━━━━━━━\u001b[0m \u001b[32m46.0/46.0 kB\u001b[0m \u001b[31m3.7 MB/s\u001b[0m eta \u001b[36m0:00:00\u001b[0m\n",
      "\u001b[?25hDownloading humanfriendly-10.0-py2.py3-none-any.whl (86 kB)\n",
      "\u001b[2K   \u001b[90m━━━━━━━━━━━━━━━━━━━━━━━━━━━━━━━━━━━━━━━━\u001b[0m \u001b[32m86.8/86.8 kB\u001b[0m \u001b[31m6.7 MB/s\u001b[0m eta \u001b[36m0:00:00\u001b[0m\n",
      "\u001b[?25hBuilding wheels for collected packages: wespeaker\n",
      "  Building wheel for wespeaker (setup.py) ... \u001b[?25l\u001b[?25hdone\n",
      "  Created wheel for wespeaker: filename=wespeaker-0.0.0-py3-none-any.whl size=172908 sha256=f229b8c7100c63fde9f1e6119aa64e0a1b4694629dd80d9bb071c03ce1e88d02\n",
      "  Stored in directory: /tmp/pip-ephem-wheel-cache-4z_vs8f8/wheels/0d/89/04/3177e719031c72c3fdccfe41a6797a5d539c61548fb93c0062\n",
      "Successfully built wespeaker\n",
      "Installing collected packages: nvidia-nvjitlink-cu12, nvidia-curand-cu12, nvidia-cufft-cu12, nvidia-cublas-cu12, humanfriendly, cython, nvidia-cusparse-cu12, nvidia-cudnn-cu12, coloredlogs, nvidia-cusolver-cu12, pynndescent, onnxruntime, umap-learn, silero-vad, kaldiio, hdbscan, wespeaker\n",
      "  Attempting uninstall: nvidia-nvjitlink-cu12\n",
      "    Found existing installation: nvidia-nvjitlink-cu12 12.8.93\n",
      "    Uninstalling nvidia-nvjitlink-cu12-12.8.93:\n",
      "      Successfully uninstalled nvidia-nvjitlink-cu12-12.8.93\n",
      "  Attempting uninstall: nvidia-curand-cu12\n",
      "    Found existing installation: nvidia-curand-cu12 10.3.9.90\n",
      "    Uninstalling nvidia-curand-cu12-10.3.9.90:\n",
      "      Successfully uninstalled nvidia-curand-cu12-10.3.9.90\n",
      "  Attempting uninstall: nvidia-cufft-cu12\n",
      "    Found existing installation: nvidia-cufft-cu12 11.3.3.83\n",
      "    Uninstalling nvidia-cufft-cu12-11.3.3.83:\n",
      "      Successfully uninstalled nvidia-cufft-cu12-11.3.3.83\n",
      "  Attempting uninstall: nvidia-cublas-cu12\n",
      "    Found existing installation: nvidia-cublas-cu12 12.8.4.1\n",
      "    Uninstalling nvidia-cublas-cu12-12.8.4.1:\n",
      "      Successfully uninstalled nvidia-cublas-cu12-12.8.4.1\n",
      "  Attempting uninstall: cython\n",
      "    Found existing installation: Cython 3.0.12\n",
      "    Uninstalling Cython-3.0.12:\n",
      "      Successfully uninstalled Cython-3.0.12\n",
      "  Attempting uninstall: nvidia-cusparse-cu12\n",
      "    Found existing installation: nvidia-cusparse-cu12 12.5.8.93\n",
      "    Uninstalling nvidia-cusparse-cu12-12.5.8.93:\n",
      "      Successfully uninstalled nvidia-cusparse-cu12-12.5.8.93\n",
      "  Attempting uninstall: nvidia-cudnn-cu12\n",
      "    Found existing installation: nvidia-cudnn-cu12 9.3.0.75\n",
      "    Uninstalling nvidia-cudnn-cu12-9.3.0.75:\n",
      "      Successfully uninstalled nvidia-cudnn-cu12-9.3.0.75\n",
      "  Attempting uninstall: nvidia-cusolver-cu12\n",
      "    Found existing installation: nvidia-cusolver-cu12 11.7.3.90\n",
      "    Uninstalling nvidia-cusolver-cu12-11.7.3.90:\n",
      "      Successfully uninstalled nvidia-cusolver-cu12-11.7.3.90\n",
      "\u001b[31mERROR: pip's dependency resolver does not currently take into account all the packages that are installed. This behaviour is the source of the following dependency conflicts.\n",
      "pylibcugraph-cu12 24.12.0 requires pylibraft-cu12==24.12.*, but you have pylibraft-cu12 25.2.0 which is incompatible.\n",
      "pylibcugraph-cu12 24.12.0 requires rmm-cu12==24.12.*, but you have rmm-cu12 25.2.0 which is incompatible.\u001b[0m\u001b[31m\n",
      "\u001b[0mSuccessfully installed coloredlogs-15.0.1 cython-0.29.37 hdbscan-0.8.37 humanfriendly-10.0 kaldiio-2.18.1 nvidia-cublas-cu12-12.4.5.8 nvidia-cudnn-cu12-9.1.0.70 nvidia-cufft-cu12-11.2.1.3 nvidia-curand-cu12-10.3.5.147 nvidia-cusolver-cu12-11.6.1.9 nvidia-cusparse-cu12-12.3.1.170 nvidia-nvjitlink-cu12-12.4.127 onnxruntime-1.22.0 pynndescent-0.5.13 silero-vad-5.1.2 umap-learn-0.5.6 wespeaker-0.0.0\n"
     ]
    }
   ],
   "source": [
    "!pip install git+https://github.com/wenet-e2e/wespeaker.git"
   ]
  },
  {
   "cell_type": "code",
   "execution_count": 2,
   "metadata": {
    "execution": {
     "iopub.execute_input": "2025-05-12T18:20:52.585917Z",
     "iopub.status.busy": "2025-05-12T18:20:52.585645Z",
     "iopub.status.idle": "2025-05-12T18:21:21.531133Z",
     "shell.execute_reply": "2025-05-12T18:21:21.530374Z",
     "shell.execute_reply.started": "2025-05-12T18:20:52.585892Z"
    },
    "id": "2u_MjIFO9Lz_",
    "trusted": true
   },
   "outputs": [
    {
     "name": "stderr",
     "output_type": "stream",
     "text": [
      "2025-05-12 18:21:10.406116: E external/local_xla/xla/stream_executor/cuda/cuda_fft.cc:477] Unable to register cuFFT factory: Attempting to register factory for plugin cuFFT when one has already been registered\n",
      "WARNING: All log messages before absl::InitializeLog() is called are written to STDERR\n",
      "E0000 00:00:1747074070.621537      31 cuda_dnn.cc:8310] Unable to register cuDNN factory: Attempting to register factory for plugin cuDNN when one has already been registered\n",
      "E0000 00:00:1747074070.681781      31 cuda_blas.cc:1418] Unable to register cuBLAS factory: Attempting to register factory for plugin cuBLAS when one has already been registered\n"
     ]
    }
   ],
   "source": [
    "import wespeaker\n",
    "import os\n",
    "import zipfile\n",
    "from pathlib import Path\n",
    "import numpy as np\n",
    "import matplotlib.pyplot as plt\n",
    "from sklearn.preprocessing import LabelEncoder\n",
    "from sklearn.metrics import accuracy_score, f1_score\n",
    "from torch.utils.data import Dataset, DataLoader\n",
    "import torch\n",
    "import torch.nn as nn\n",
    "import torch.optim as optim\n",
    "import torchaudio\n",
    "import torchaudio.compliance.kaldi as kaldi\n",
    "from tqdm import tqdm\n",
    "import pandas as pd"
   ]
  },
  {
   "cell_type": "code",
   "execution_count": null,
   "metadata": {
    "id": "bsGV7v4H9o-1",
    "trusted": true
   },
   "outputs": [],
   "source": [
    "with zipfile.ZipFile(r'C:\\Users\\Nastya\\Desktop\\nationality\\datasetNationality.zip', 'r') as zip_ref:\n",
    "    zip_ref.extractall('dataset')\n",
    "\n",
    "with zipfile.ZipFile(r'C:\\Users\\Nastya\\Desktop\\nationality\\voxblink2_samresnet34.zip', 'r') as zip_ref:\n",
    "    zip_ref.extractall('model')"
   ]
  },
  {
   "cell_type": "markdown",
   "metadata": {
    "id": "K0md91B99h4v"
   },
   "source": [
    "### Функции для получения активаций"
   ]
  },
  {
   "cell_type": "code",
   "execution_count": 6,
   "metadata": {
    "execution": {
     "iopub.execute_input": "2025-05-12T18:23:29.002290Z",
     "iopub.status.busy": "2025-05-12T18:23:29.001628Z",
     "iopub.status.idle": "2025-05-12T18:23:29.009696Z",
     "shell.execute_reply": "2025-05-12T18:23:29.008909Z",
     "shell.execute_reply.started": "2025-05-12T18:23:29.002259Z"
    },
    "id": "YK72HZXm9hMo",
    "trusted": true
   },
   "outputs": [],
   "source": [
    "class ActivationDataset(Dataset):\n",
    "    def __init__(self, activations, labels):\n",
    "        self.X = self.pad_activations(activations)\n",
    "        self.y = torch.tensor(labels, dtype=torch.long)\n",
    "\n",
    "    def __getitem__(self, idx):\n",
    "        return self.X[idx], self.y[idx]\n",
    "\n",
    "    def __len__(self):\n",
    "        return len(self.y)\n",
    "\n",
    "    def pad_activations(self, activations):\n",
    "        activations = [act.view(1, -1) if len(act.shape) != 2 else act for act in activations]\n",
    "        max_len = max(act.shape[1] for act in activations)\n",
    "\n",
    "        padded_activations = [\n",
    "            torch.nn.functional.pad(act, (0, max_len - act.shape[1]))\n",
    "            for act in activations\n",
    "        ]\n",
    "\n",
    "        return torch.stack(padded_activations).squeeze(1)"
   ]
  },
  {
   "cell_type": "code",
   "execution_count": 7,
   "metadata": {
    "execution": {
     "iopub.execute_input": "2025-05-12T18:23:31.437428Z",
     "iopub.status.busy": "2025-05-12T18:23:31.437160Z",
     "iopub.status.idle": "2025-05-12T18:23:31.444798Z",
     "shell.execute_reply": "2025-05-12T18:23:31.443873Z",
     "shell.execute_reply.started": "2025-05-12T18:23:31.437407Z"
    },
    "id": "Vm1KGsPl-oVN",
    "trusted": true
   },
   "outputs": [],
   "source": [
    "class GetActivations(nn.Module):\n",
    "    \"\"\"\n",
    "    Class for getting activations from a model.\n",
    "    \"\"\"\n",
    "\n",
    "    def __init__(self, model):\n",
    "        super(GetActivations, self).__init__()\n",
    "        self.model = model\n",
    "\n",
    "    def forward(self, x):\n",
    "        out = x.permute(0, 2, 1)\n",
    "        activations = []\n",
    "        model_front = self.model.model.front\n",
    "\n",
    "        x = out.unsqueeze(dim=1)\n",
    "\n",
    "        out = model_front.relu(model_front.bn1(model_front.conv1(x)))\n",
    "        activations.append({\"first relu\": out})\n",
    "\n",
    "        for name, layer in model_front.named_children():\n",
    "            c_sim = 0\n",
    "            c_relu = 0\n",
    "            if name in ['layer1', 'layer2', 'layer3', 'layer4']:\n",
    "                for sec_name, sec_layer in layer.named_children():\n",
    "                    identity = out\n",
    "\n",
    "                    out = sec_layer.relu(sec_layer.bn1(sec_layer.conv1(out)))\n",
    "                    c_relu += 1\n",
    "                    activations.append({f\"{name} relu {c_relu}\": out})\n",
    "\n",
    "                    out = sec_layer.bn2(sec_layer.conv2(out))\n",
    "                    out = sec_layer.SimAM(out)\n",
    "                    c_sim += 1\n",
    "                    activations.append({f\"{name} SimAM {c_sim}\": out})\n",
    "\n",
    "                    if sec_layer.downsample is not None:\n",
    "                        identity = sec_layer.downsample(identity)\n",
    "\n",
    "                    out += identity\n",
    "                    out = sec_layer.relu(out)\n",
    "                    c_relu += 1\n",
    "                    activations.append({f\"{name} relu {c_relu}\": out})\n",
    "\n",
    "        out = self.model.model.pooling(out)\n",
    "        activations.append({\"pooling\": out})\n",
    "\n",
    "        if self.model.model.drop:\n",
    "            out = self.model.model.drop(out)\n",
    "\n",
    "        out = self.model.model.bottleneck(out)\n",
    "\n",
    "        return activations, out"
   ]
  },
  {
   "cell_type": "code",
   "execution_count": 8,
   "metadata": {
    "execution": {
     "iopub.execute_input": "2025-05-12T18:23:36.184865Z",
     "iopub.status.busy": "2025-05-12T18:23:36.184396Z",
     "iopub.status.idle": "2025-05-12T18:23:36.188927Z",
     "shell.execute_reply": "2025-05-12T18:23:36.188378Z",
     "shell.execute_reply.started": "2025-05-12T18:23:36.184835Z"
    },
    "id": "_7CRjkFw-sGo",
    "trusted": true
   },
   "outputs": [],
   "source": [
    "class NationalityCls(nn.Module):\n",
    "    \"\"\"\n",
    "    Model class for nationality classification\n",
    "    \"\"\"\n",
    "\n",
    "    def __init__(self, input_size, num_classes=16):\n",
    "        super(NationalityCls, self).__init__()\n",
    "        self.fc1 = nn.Linear(input_size, 128)\n",
    "        self.fc2 = nn.Linear(128, num_classes)\n",
    "        self.relu = nn.ReLU()\n",
    "\n",
    "    def forward(self, x):\n",
    "        return self.fc2(self.relu(self.fc1(x)))"
   ]
  },
  {
   "cell_type": "code",
   "execution_count": 9,
   "metadata": {
    "execution": {
     "iopub.execute_input": "2025-05-12T18:23:38.726541Z",
     "iopub.status.busy": "2025-05-12T18:23:38.725869Z",
     "iopub.status.idle": "2025-05-12T18:23:38.730204Z",
     "shell.execute_reply": "2025-05-12T18:23:38.729648Z",
     "shell.execute_reply.started": "2025-05-12T18:23:38.726519Z"
    },
    "id": "qu8c3NtpB_3I",
    "trusted": true
   },
   "outputs": [],
   "source": [
    "def compute_fbank(wavform,\n",
    "                  sample_rate=16000,\n",
    "                  num_mel_bins=80,\n",
    "                  frame_length=25,\n",
    "                  frame_shift=10,\n",
    "                  cmn=True):\n",
    "    feat = kaldi.fbank(wavform,\n",
    "                       num_mel_bins=num_mel_bins,\n",
    "                       frame_length=frame_length,\n",
    "                       frame_shift=frame_shift,\n",
    "                       sample_frequency=sample_rate)\n",
    "    if cmn:\n",
    "        feat = feat - torch.mean(feat, 0)\n",
    "    return feat"
   ]
  },
  {
   "cell_type": "code",
   "execution_count": 11,
   "metadata": {
    "execution": {
     "iopub.execute_input": "2025-05-12T18:23:42.785395Z",
     "iopub.status.busy": "2025-05-12T18:23:42.785124Z",
     "iopub.status.idle": "2025-05-12T18:23:42.790198Z",
     "shell.execute_reply": "2025-05-12T18:23:42.789535Z",
     "shell.execute_reply.started": "2025-05-12T18:23:42.785377Z"
    },
    "id": "7LSDvx80By47",
    "trusted": true
   },
   "outputs": [],
   "source": [
    "resample_rate = 16000\n",
    "device = torch.device(\"cuda\" if torch.cuda.is_available() else \"cpu\")\n",
    "\n",
    "def extract_feature_from_pcm(pcm: torch.Tensor, sample_rate: int):\n",
    "    pcm = pcm.to(torch.float)\n",
    "    if sample_rate != resample_rate:\n",
    "        pcm = torchaudio.transforms.Resample(\n",
    "            orig_freq=sample_rate, new_freq=resample_rate)(pcm)\n",
    "    feats = compute_fbank(pcm,\n",
    "                          sample_rate=resample_rate,\n",
    "                          cmn=True)\n",
    "    feats = feats.unsqueeze(0)\n",
    "    feats = feats.to(device)\n",
    "\n",
    "    return feats"
   ]
  },
  {
   "cell_type": "code",
   "execution_count": 13,
   "metadata": {
    "execution": {
     "iopub.execute_input": "2025-05-12T18:23:48.241207Z",
     "iopub.status.busy": "2025-05-12T18:23:48.240696Z",
     "iopub.status.idle": "2025-05-12T18:23:48.244427Z",
     "shell.execute_reply": "2025-05-12T18:23:48.243782Z",
     "shell.execute_reply.started": "2025-05-12T18:23:48.241185Z"
    },
    "id": "30ti-3TGCBLC",
    "trusted": true
   },
   "outputs": [],
   "source": [
    "def extract_features(pcm: torch.Tensor, sample_rate: int):\n",
    "    return extract_feature_from_pcm(pcm, sample_rate)"
   ]
  },
  {
   "cell_type": "code",
   "execution_count": 14,
   "metadata": {
    "id": "WLIknZMx-4N9",
    "trusted": true
   },
   "outputs": [],
   "source": [
    "def get_activations(model, audio_path, device, target_samples=16000):\n",
    "    \"\"\"\n",
    "    Gets model activations.\n",
    "    \"\"\"\n",
    "    waveform, sr = torchaudio.load(audio_path)\n",
    "\n",
    "    if waveform.shape[1] > target_samples:\n",
    "        waveform = waveform[:, :target_samples]\n",
    "    else:\n",
    "        padding = target_samples - waveform.shape[1]\n",
    "        waveform = torch.nn.functional.pad(waveform, (0, padding))\n",
    "\n",
    "    feats = extract_features(waveform, sr)\n",
    "\n",
    "    with torch.no_grad():\n",
    "        activations = model(feats)\n",
    "\n",
    "    return {\n",
    "        'file_path': str(audio_path),\n",
    "        'act': activations[0] if isinstance(activations, tuple) else activations\n",
    "    }"
   ]
  },
  {
   "cell_type": "code",
   "execution_count": 15,
   "metadata": {
    "id": "-DZpWu1GCO0-",
    "trusted": true
   },
   "outputs": [],
   "source": [
    "def get_activations_for_layer(model, audio_files, device,\n",
    "                              layer_name, labels, target_samples=16000):\n",
    "    \"\"\"\n",
    "    Gets model activations for a specified layer.\n",
    "    \"\"\"\n",
    "    label_encoder = LabelEncoder()\n",
    "    labels = label_encoder.fit_transform(labels)\n",
    "\n",
    "    activations = []\n",
    "    with torch.no_grad():\n",
    "        for audio_input in audio_files:\n",
    "            waveform, sr = torchaudio.load(str(audio_input))\n",
    "            if waveform.shape[1] > target_samples:\n",
    "                waveform = waveform[:, :target_samples]\n",
    "            else:\n",
    "                padding = target_samples - waveform.shape[1]\n",
    "                waveform = torch.nn.functional.pad(waveform, (0, padding))\n",
    "            feats = extract_features(waveform, sr)\n",
    "\n",
    "            feats = feats.to(device)\n",
    "            acts, _ = model(feats)\n",
    "\n",
    "            activation = next((d[layer_name] for d in acts if layer_name in d), None)\n",
    "            if activation is not None:\n",
    "                activations.append(activation.cpu())\n",
    "\n",
    "    return activations, labels"
   ]
  },
  {
   "cell_type": "code",
   "execution_count": null,
   "metadata": {
    "execution": {
     "iopub.execute_input": "2025-05-12T18:33:27.333913Z",
     "iopub.status.busy": "2025-05-12T18:33:27.333647Z",
     "iopub.status.idle": "2025-05-12T18:33:27.339967Z",
     "shell.execute_reply": "2025-05-12T18:33:27.339148Z",
     "shell.execute_reply.started": "2025-05-12T18:33:27.333892Z"
    },
    "id": "wNw6_rAcC7T4",
    "trusted": true
   },
   "outputs": [],
   "source": [
    "def train(train_loader, input_size, layer, device,\n",
    "          num_epochs=30,\n",
    "          lr=5e-4,          \n",
    "          step_size=10,   \n",
    "          gamma=0.8):        \n",
    "    \"\"\"\n",
    "    Обучение модели с более мягким StepLR\n",
    "    \"\"\"\n",
    "    model = NationalityCls(input_size).to(device)\n",
    "    criterion = nn.CrossEntropyLoss()\n",
    "    optimizer = optim.Adam(model.parameters(), lr=lr)\n",
    "    scheduler = optim.lr_scheduler.StepLR(optimizer,\n",
    "                                          step_size=step_size,\n",
    "                                          gamma=gamma)\n",
    "\n",
    "    for epoch in range(1, num_epochs+1):\n",
    "        model.train()\n",
    "        running_loss = 0.0\n",
    "\n",
    "        for X, y in train_loader:\n",
    "            X, y = X.to(device), y.to(device)\n",
    "\n",
    "            optimizer.zero_grad()\n",
    "            loss = criterion(model(X), y)\n",
    "            loss.backward()\n",
    "            optimizer.step()\n",
    "\n",
    "            running_loss += loss.item()\n",
    "\n",
    "        scheduler.step()\n",
    "        avg_loss = running_loss / len(train_loader)\n",
    "\n",
    "    return model"
   ]
  },
  {
   "cell_type": "code",
   "execution_count": 17,
   "metadata": {
    "execution": {
     "iopub.execute_input": "2025-05-12T18:24:00.226625Z",
     "iopub.status.busy": "2025-05-12T18:24:00.225848Z",
     "iopub.status.idle": "2025-05-12T18:24:00.233277Z",
     "shell.execute_reply": "2025-05-12T18:24:00.232503Z",
     "shell.execute_reply.started": "2025-05-12T18:24:00.226596Z"
    },
    "id": "qYzfd70RC710",
    "trusted": true
   },
   "outputs": [],
   "source": [
    "def evaluate(model, test_loader, device):\n",
    "    \"\"\"\n",
    "    Evaluates a model on a test dataset.\n",
    "    Calculates accuracy and f1-score\n",
    "    \"\"\"\n",
    "    model.eval()\n",
    "    y_true, y_pred = [], []\n",
    "    with torch.no_grad():\n",
    "        for X, y in test_loader:\n",
    "            X, y = X.to(device), y.to(device)\n",
    "            outputs = model(X)\n",
    "            preds = outputs.argmax(axis=1)\n",
    "\n",
    "            y_true.extend(y.cpu().numpy())\n",
    "            y_pred.extend(preds.cpu().numpy())\n",
    "\n",
    "    y_true = np.array(y_true)\n",
    "    y_pred = np.array(y_pred)\n",
    "\n",
    "    metrics = {\n",
    "        \"accuracy\": accuracy_score(y_true, y_pred),\n",
    "        \"f1_score\": f1_score(y_true, y_pred, average=\"weighted\")\n",
    "    }\n",
    "\n",
    "    return metrics"
   ]
  },
  {
   "cell_type": "code",
   "execution_count": 18,
   "metadata": {
    "execution": {
     "iopub.execute_input": "2025-05-12T18:24:02.768736Z",
     "iopub.status.busy": "2025-05-12T18:24:02.768481Z",
     "iopub.status.idle": "2025-05-12T18:24:02.774386Z",
     "shell.execute_reply": "2025-05-12T18:24:02.773653Z",
     "shell.execute_reply.started": "2025-05-12T18:24:02.768718Z"
    },
    "id": "NrkyUltUC975",
    "trusted": true
   },
   "outputs": [],
   "source": [
    "def plot_metrics(metrics_list, save_path):\n",
    "    layers = [m[0] for m in metrics_list]\n",
    "    accuracies = [m[1][\"accuracy\"] for m in metrics_list]\n",
    "    f1_scores = [m[1][\"f1_score\"] for m in metrics_list]\n",
    "\n",
    "    plt.figure(figsize=(10, 5))\n",
    "\n",
    "    plt.subplot(1, 2, 1)\n",
    "    plt.plot(range(1, len(layers)+1), accuracies, color='b', label=\"Accuracy\")\n",
    "    plt.xlabel(\"Layers\")\n",
    "    plt.ylabel(\"Accuracy\")\n",
    "    plt.title(\"Accuracy across layers\")\n",
    "    plt.legend()\n",
    "\n",
    "    plt.subplot(1, 2, 2)\n",
    "    plt.plot(range(1, len(layers)+1), f1_scores, color='g', label=\"F1-score\")\n",
    "    plt.xlabel(\"Layers\")\n",
    "    plt.ylabel(\"F1-score\")\n",
    "    plt.title(\"F1-score across layers\")\n",
    "    plt.legend()\n",
    "\n",
    "    plt.tight_layout()\n",
    "    plt.savefig(save_path)"
   ]
  },
  {
   "cell_type": "code",
   "execution_count": 19,
   "metadata": {
    "execution": {
     "iopub.execute_input": "2025-05-12T18:24:06.911714Z",
     "iopub.status.busy": "2025-05-12T18:24:06.911206Z",
     "iopub.status.idle": "2025-05-12T18:24:06.916567Z",
     "shell.execute_reply": "2025-05-12T18:24:06.915746Z",
     "shell.execute_reply.started": "2025-05-12T18:24:06.911688Z"
    },
    "id": "TrU8lJVZDBUa",
    "trusted": true
   },
   "outputs": [],
   "source": [
    "def save_metrics(metrics_list, save_path):\n",
    "    \"\"\"\n",
    "    Saves computed metrics in .txt file\n",
    "    \"\"\"\n",
    "    os.makedirs(os.path.dirname(save_path), exist_ok=True)\n",
    "\n",
    "    with open(save_path, 'w') as f:\n",
    "        for layer, metrics in metrics_list:\n",
    "            f.write(f\"{layer}\\n\")\n",
    "            for key, value in metrics.items():\n",
    "                f.write(f\"{key}: {value}\\n\")"
   ]
  },
  {
   "cell_type": "markdown",
   "metadata": {
    "id": "gMl7pOrCDR-H"
   },
   "source": [
    "### Получение активаций"
   ]
  },
  {
   "cell_type": "code",
   "execution_count": 20,
   "metadata": {
    "execution": {
     "iopub.execute_input": "2025-05-12T18:24:09.481562Z",
     "iopub.status.busy": "2025-05-12T18:24:09.481011Z",
     "iopub.status.idle": "2025-05-12T18:24:09.581342Z",
     "shell.execute_reply": "2025-05-12T18:24:09.580803Z",
     "shell.execute_reply.started": "2025-05-12T18:24:09.481542Z"
    },
    "id": "VhC1ZVjwDDgz",
    "trusted": true
   },
   "outputs": [],
   "source": [
    "df_train = pd.read_csv(\"/kaggle/input/dataset/dataset/train_data.csv\")\n",
    "df_test = pd.read_csv(\"/kaggle/input/dataset/dataset/test_data.csv\")"
   ]
  },
  {
   "cell_type": "code",
   "execution_count": 21,
   "metadata": {
    "execution": {
     "iopub.execute_input": "2025-05-12T18:24:11.500337Z",
     "iopub.status.busy": "2025-05-12T18:24:11.499816Z",
     "iopub.status.idle": "2025-05-12T18:24:11.509235Z",
     "shell.execute_reply": "2025-05-12T18:24:11.508494Z",
     "shell.execute_reply.started": "2025-05-12T18:24:11.500313Z"
    },
    "id": "hJfRQVj0EPQr",
    "trusted": true
   },
   "outputs": [],
   "source": [
    "df_train[\"filename\"] = \"/kaggle/input/dataset/dataset/\" + df_train[\"filename\"]\n",
    "df_test[\"filename\"] = \"/kaggle/input/dataset/dataset/\" + df_test[\"filename\"]"
   ]
  },
  {
   "cell_type": "code",
   "execution_count": 22,
   "metadata": {
    "execution": {
     "iopub.execute_input": "2025-05-12T18:24:14.687678Z",
     "iopub.status.busy": "2025-05-12T18:24:14.687414Z",
     "iopub.status.idle": "2025-05-12T18:24:14.691838Z",
     "shell.execute_reply": "2025-05-12T18:24:14.691297Z",
     "shell.execute_reply.started": "2025-05-12T18:24:14.687660Z"
    },
    "id": "BsqThvYEElfF",
    "trusted": true
   },
   "outputs": [],
   "source": [
    "train_files = df_train[\"filename\"].to_list()\n",
    "test_files = df_test[\"filename\"].to_list()\n",
    "\n",
    "train_labels = df_train[\"accent\"].to_list()\n",
    "test_labels = df_test[\"accent\"].to_list()"
   ]
  },
  {
   "cell_type": "code",
   "execution_count": 23,
   "metadata": {
    "execution": {
     "iopub.execute_input": "2025-05-12T18:24:17.115692Z",
     "iopub.status.busy": "2025-05-12T18:24:17.115428Z",
     "iopub.status.idle": "2025-05-12T18:24:21.003322Z",
     "shell.execute_reply": "2025-05-12T18:24:21.002757Z",
     "shell.execute_reply.started": "2025-05-12T18:24:17.115674Z"
    },
    "id": "8KaVdGYDFANA",
    "trusted": true
   },
   "outputs": [
    {
     "name": "stderr",
     "output_type": "stream",
     "text": [
      "/usr/local/lib/python3.11/dist-packages/wespeaker/utils/checkpoint.py:21: FutureWarning: You are using `torch.load` with `weights_only=False` (the current default value), which uses the default pickle module implicitly. It is possible to construct malicious pickle data which will execute arbitrary code during unpickling (See https://github.com/pytorch/pytorch/blob/main/SECURITY.md#untrusted-models for more details). In a future release, the default value for `weights_only` will be flipped to `True`. This limits the functions that could be executed during unpickling. Arbitrary objects will no longer be allowed to be loaded via this mode unless they are explicitly allowlisted by the user via `torch.serialization.add_safe_globals`. We recommend you start setting `weights_only=True` for any use case where you don't have full control of the loaded file. Please open an issue on GitHub for any issues related to this experimental feature.\n",
      "  checkpoint = torch.load(path, map_location='cpu')\n"
     ]
    }
   ],
   "source": [
    "device = torch.device(\"cuda\" if torch.cuda.is_available() else \"cpu\")\n",
    "\n",
    "model = wespeaker.load_model_local(\"/kaggle/input/voxblink2_samresnet100_ft/other/default/1/voxblink2_samresnet100_ft\")\n",
    "model.set_device(device) \n",
    "\n",
    "acts_model = GetActivations(model)\n",
    "acts = get_activations(acts_model, train_files[0], device)\n",
    "layers = [list(item.keys())[0] for item in acts['act']]"
   ]
  },
  {
   "cell_type": "code",
   "execution_count": 24,
   "metadata": {
    "execution": {
     "iopub.execute_input": "2025-05-12T18:24:23.967535Z",
     "iopub.status.busy": "2025-05-12T18:24:23.966849Z",
     "iopub.status.idle": "2025-05-12T18:24:23.971064Z",
     "shell.execute_reply": "2025-05-12T18:24:23.970364Z",
     "shell.execute_reply.started": "2025-05-12T18:24:23.967513Z"
    },
    "trusted": true
   },
   "outputs": [],
   "source": [
    "import os\n",
    "\n",
    "out_dir = \"/kaggle/working/model_test/\"\n",
    "os.makedirs(out_dir, exist_ok=True)"
   ]
  },
  {
   "cell_type": "code",
   "execution_count": null,
   "metadata": {
    "execution": {
     "iopub.execute_input": "2025-05-12T18:33:33.585964Z",
     "iopub.status.busy": "2025-05-12T18:33:33.585650Z",
     "iopub.status.idle": "2025-05-12T21:55:30.331697Z",
     "shell.execute_reply": "2025-05-12T21:55:30.330886Z",
     "shell.execute_reply.started": "2025-05-12T18:33:33.585918Z"
    },
    "trusted": true
   },
   "outputs": [
    {
     "data": {
      "application/vnd.jupyter.widget-view+json": {
       "model_id": "e71704ee1e134bd3ae3be8112338d745",
       "version_major": 2,
       "version_minor": 0
      },
      "text/plain": [
       "Processing layers:   0%|          | 0/149 [00:00<?, ?it/s]"
      ]
     },
     "metadata": {},
     "output_type": "display_data"
    },
    {
     "name": "stdout",
     "output_type": "stream",
     "text": [
      "first relu {'accuracy': 0.2548596112311015, 'f1_score': 0.21989243123078997}\n",
      "layer1 relu 1 {'accuracy': 0.24406047516198703, 'f1_score': 0.23602675508375487}\n",
      "layer1 SimAM 1 {'accuracy': 0.23110151187904968, 'f1_score': 0.20245509257681013}\n",
      "layer1 relu 2 {'accuracy': 0.27645788336933047, 'f1_score': 0.23310782788074771}\n",
      "layer1 relu 3 {'accuracy': 0.2678185745140389, 'f1_score': 0.23911531107383532}\n",
      "layer1 SimAM 2 {'accuracy': 0.3347732181425486, 'f1_score': 0.33027028722024837}\n",
      "layer1 relu 4 {'accuracy': 0.2937365010799136, 'f1_score': 0.2740471585077871}\n",
      "layer1 relu 5 {'accuracy': 0.28077753779697623, 'f1_score': 0.2603354522197445}\n",
      "layer1 SimAM 3 {'accuracy': 0.3002159827213823, 'f1_score': 0.2803304201374571}\n",
      "layer1 relu 6 {'accuracy': 0.26997840172786175, 'f1_score': 0.2397709555005275}\n",
      "layer1 relu 7 {'accuracy': 0.3023758099352052, 'f1_score': 0.30256631363841296}\n",
      "layer1 SimAM 4 {'accuracy': 0.30885529157667385, 'f1_score': 0.3063494755811925}\n",
      "layer1 relu 8 {'accuracy': 0.26997840172786175, 'f1_score': 0.26493789822439157}\n",
      "layer1 relu 9 {'accuracy': 0.34773218142548595, 'f1_score': 0.35205193074905317}\n",
      "layer1 SimAM 5 {'accuracy': 0.20518358531317496, 'f1_score': 0.20115768681391416}\n",
      "layer1 relu 10 {'accuracy': 0.2915766738660907, 'f1_score': 0.2699104319341618}\n",
      "layer1 relu 11 {'accuracy': 0.35205183585313177, 'f1_score': 0.33543190162806985}\n",
      "layer1 SimAM 6 {'accuracy': 0.3347732181425486, 'f1_score': 0.2907182200346856}\n",
      "layer1 relu 12 {'accuracy': 0.28509719222462204, 'f1_score': 0.2540609340398411}\n",
      "layer2 relu 1 {'accuracy': 0.3563714902807775, 'f1_score': 0.36080961230818054}\n",
      "layer2 SimAM 1 {'accuracy': 0.3326133909287257, 'f1_score': 0.341226670985608}\n",
      "layer2 relu 2 {'accuracy': 0.3779697624190065, 'f1_score': 0.37486244642824385}\n",
      "layer2 relu 3 {'accuracy': 0.3801295896328294, 'f1_score': 0.39212214931206885}\n",
      "layer2 SimAM 2 {'accuracy': 0.30885529157667385, 'f1_score': 0.28353743069452797}\n",
      "layer2 relu 4 {'accuracy': 0.3434125269978402, 'f1_score': 0.3360543453650002}\n",
      "layer2 relu 5 {'accuracy': 0.39092872570194387, 'f1_score': 0.4107478752094396}\n",
      "layer2 SimAM 3 {'accuracy': 0.3304535637149028, 'f1_score': 0.33562990367491163}\n",
      "layer2 relu 6 {'accuracy': 0.2915766738660907, 'f1_score': 0.2985833457176151}\n",
      "layer2 relu 7 {'accuracy': 0.34773218142548595, 'f1_score': 0.34557553201298924}\n",
      "layer2 SimAM 4 {'accuracy': 0.36285097192224625, 'f1_score': 0.34096798807598055}\n",
      "layer2 relu 8 {'accuracy': 0.3174946004319654, 'f1_score': 0.3272515714076876}\n",
      "layer2 relu 9 {'accuracy': 0.4190064794816415, 'f1_score': 0.42397801206266955}\n",
      "layer2 SimAM 5 {'accuracy': 0.367170626349892, 'f1_score': 0.3814544406899023}\n",
      "layer2 relu 10 {'accuracy': 0.38660907127429806, 'f1_score': 0.3935203663131788}\n",
      "layer2 relu 11 {'accuracy': 0.4103671706263499, 'f1_score': 0.4111354951463254}\n",
      "layer2 SimAM 6 {'accuracy': 0.3779697624190065, 'f1_score': 0.3703345558859774}\n",
      "layer2 relu 12 {'accuracy': 0.27645788336933047, 'f1_score': 0.2746718989631879}\n",
      "layer2 relu 13 {'accuracy': 0.4017278617710583, 'f1_score': 0.420070005074713}\n",
      "layer2 SimAM 7 {'accuracy': 0.3282937365010799, 'f1_score': 0.3201737775333867}\n",
      "layer2 relu 14 {'accuracy': 0.3693304535637149, 'f1_score': 0.3477133577316724}\n",
      "layer2 relu 15 {'accuracy': 0.4168466522678186, 'f1_score': 0.40846073875900535}\n",
      "layer2 SimAM 8 {'accuracy': 0.3347732181425486, 'f1_score': 0.33006429917993985}\n",
      "layer2 relu 16 {'accuracy': 0.3779697624190065, 'f1_score': 0.38267483689788856}\n",
      "layer2 relu 17 {'accuracy': 0.3952483801295896, 'f1_score': 0.3939810797736743}\n",
      "layer2 SimAM 9 {'accuracy': 0.3434125269978402, 'f1_score': 0.3354034765878724}\n",
      "layer2 relu 18 {'accuracy': 0.3779697624190065, 'f1_score': 0.3831780827695173}\n",
      "layer2 relu 19 {'accuracy': 0.3758099352051836, 'f1_score': 0.35871929415093423}\n",
      "layer2 SimAM 10 {'accuracy': 0.3693304535637149, 'f1_score': 0.33682444539801865}\n",
      "layer2 relu 20 {'accuracy': 0.2505399568034557, 'f1_score': 0.23802237973497595}\n",
      "layer2 relu 21 {'accuracy': 0.3693304535637149, 'f1_score': 0.35780775756264627}\n",
      "layer2 SimAM 11 {'accuracy': 0.3002159827213823, 'f1_score': 0.3078563198715967}\n",
      "layer2 relu 22 {'accuracy': 0.28725701943844495, 'f1_score': 0.27866801168108724}\n",
      "layer2 relu 23 {'accuracy': 0.38876889848812096, 'f1_score': 0.39249688728140897}\n",
      "layer2 SimAM 12 {'accuracy': 0.3693304535637149, 'f1_score': 0.39725812634792335}\n",
      "layer2 relu 24 {'accuracy': 0.23758099352051837, 'f1_score': 0.21010783337667907}\n",
      "layer2 relu 25 {'accuracy': 0.38228941684665224, 'f1_score': 0.3848123058339667}\n",
      "layer2 SimAM 13 {'accuracy': 0.2937365010799136, 'f1_score': 0.3235038486759989}\n",
      "layer2 relu 26 {'accuracy': 0.31965442764578833, 'f1_score': 0.32315968507776816}\n",
      "layer2 relu 27 {'accuracy': 0.38444924406047515, 'f1_score': 0.3975935777076146}\n",
      "layer2 SimAM 14 {'accuracy': 0.27645788336933047, 'f1_score': 0.27882021119422423}\n",
      "layer2 relu 28 {'accuracy': 0.23326133909287258, 'f1_score': 0.24127952824288368}\n",
      "layer2 relu 29 {'accuracy': 0.35853131749460043, 'f1_score': 0.3822733749306605}\n",
      "layer2 SimAM 15 {'accuracy': 0.3002159827213823, 'f1_score': 0.30025457883096285}\n",
      "layer2 relu 30 {'accuracy': 0.3174946004319654, 'f1_score': 0.32395586504980045}\n",
      "layer2 relu 31 {'accuracy': 0.36285097192224625, 'f1_score': 0.37227206613305064}\n",
      "layer2 SimAM 16 {'accuracy': 0.30885529157667385, 'f1_score': 0.30506160855096026}\n",
      "layer2 relu 32 {'accuracy': 0.23974082073434125, 'f1_score': 0.23506197950424956}\n",
      "layer3 relu 1 {'accuracy': 0.35853131749460043, 'f1_score': 0.35869786287607225}\n",
      "layer3 SimAM 1 {'accuracy': 0.38444924406047515, 'f1_score': 0.3827938347489349}\n",
      "layer3 relu 2 {'accuracy': 0.38228941684665224, 'f1_score': 0.3745555634974424}\n",
      "layer3 relu 3 {'accuracy': 0.3801295896328294, 'f1_score': 0.38772654369362236}\n",
      "layer3 SimAM 2 {'accuracy': 0.3779697624190065, 'f1_score': 0.36288213415857995}\n",
      "layer3 relu 4 {'accuracy': 0.3650107991360691, 'f1_score': 0.37120955825710483}\n",
      "layer3 relu 5 {'accuracy': 0.36069114470842334, 'f1_score': 0.3712461821602458}\n",
      "layer3 SimAM 3 {'accuracy': 0.3045356371490281, 'f1_score': 0.3279892362503499}\n",
      "layer3 relu 6 {'accuracy': 0.35853131749460043, 'f1_score': 0.35538271044317504}\n",
      "layer3 relu 7 {'accuracy': 0.3714902807775378, 'f1_score': 0.37213318078062513}\n",
      "layer3 SimAM 4 {'accuracy': 0.34773218142548595, 'f1_score': 0.34371086837785314}\n",
      "layer3 relu 8 {'accuracy': 0.3542116630669546, 'f1_score': 0.3481554468123907}\n",
      "layer3 relu 9 {'accuracy': 0.34989200863930886, 'f1_score': 0.3544029127821859}\n",
      "layer3 SimAM 5 {'accuracy': 0.3542116630669546, 'f1_score': 0.35607619519484374}\n",
      "layer3 relu 10 {'accuracy': 0.3390928725701944, 'f1_score': 0.34319959205512157}\n",
      "layer3 relu 11 {'accuracy': 0.34557235421166305, 'f1_score': 0.3497968544887483}\n",
      "layer3 SimAM 6 {'accuracy': 0.3326133909287257, 'f1_score': 0.32124829308569897}\n",
      "layer3 relu 12 {'accuracy': 0.3304535637149028, 'f1_score': 0.34444932019265084}\n",
      "layer3 relu 13 {'accuracy': 0.34989200863930886, 'f1_score': 0.35042875947971497}\n",
      "layer3 SimAM 7 {'accuracy': 0.31317494600431967, 'f1_score': 0.30970062387059016}\n",
      "layer3 relu 14 {'accuracy': 0.35853131749460043, 'f1_score': 0.3423614354401997}\n",
      "layer3 relu 15 {'accuracy': 0.3304535637149028, 'f1_score': 0.33767442703012107}\n",
      "layer3 SimAM 8 {'accuracy': 0.3347732181425486, 'f1_score': 0.34020888366195073}\n",
      "layer3 relu 16 {'accuracy': 0.3390928725701944, 'f1_score': 0.34781726518823836}\n",
      "layer3 relu 17 {'accuracy': 0.31965442764578833, 'f1_score': 0.32692913855655253}\n",
      "layer3 SimAM 9 {'accuracy': 0.32181425485961124, 'f1_score': 0.31730343044759}\n",
      "layer3 relu 18 {'accuracy': 0.30885529157667385, 'f1_score': 0.3178555436816812}\n",
      "layer3 relu 19 {'accuracy': 0.3282937365010799, 'f1_score': 0.3288176063688798}\n",
      "layer3 SimAM 10 {'accuracy': 0.26997840172786175, 'f1_score': 0.26406014036924413}\n",
      "layer3 relu 20 {'accuracy': 0.30885529157667385, 'f1_score': 0.3058381832695294}\n",
      "layer3 relu 21 {'accuracy': 0.34557235421166305, 'f1_score': 0.3418248767182645}\n",
      "layer3 SimAM 11 {'accuracy': 0.34989200863930886, 'f1_score': 0.3389603955116109}\n",
      "layer3 relu 22 {'accuracy': 0.34557235421166305, 'f1_score': 0.33277551850207754}\n",
      "layer3 relu 23 {'accuracy': 0.3347732181425486, 'f1_score': 0.341474796710784}\n",
      "layer3 SimAM 12 {'accuracy': 0.2980561555075594, 'f1_score': 0.31959752850411643}\n",
      "layer3 relu 24 {'accuracy': 0.2613390928725702, 'f1_score': 0.26276410930118677}\n",
      "layer3 relu 25 {'accuracy': 0.36285097192224625, 'f1_score': 0.3562285605192358}\n",
      "layer3 SimAM 13 {'accuracy': 0.31533477321814257, 'f1_score': 0.3364645586267299}\n",
      "layer3 relu 26 {'accuracy': 0.31101511879049676, 'f1_score': 0.314038308000148}\n",
      "layer3 relu 27 {'accuracy': 0.3282937365010799, 'f1_score': 0.33337307836329955}\n",
      "layer3 SimAM 14 {'accuracy': 0.30885529157667385, 'f1_score': 0.2656694409007739}\n",
      "layer3 relu 28 {'accuracy': 0.2958963282937365, 'f1_score': 0.3189951587923306}\n",
      "layer3 relu 29 {'accuracy': 0.34989200863930886, 'f1_score': 0.3541503058508551}\n",
      "layer3 SimAM 15 {'accuracy': 0.3347732181425486, 'f1_score': 0.3129865786248833}\n",
      "layer3 relu 30 {'accuracy': 0.3023758099352052, 'f1_score': 0.2750751054407112}\n",
      "layer3 relu 31 {'accuracy': 0.3347732181425486, 'f1_score': 0.3440986580099189}\n",
      "layer3 SimAM 16 {'accuracy': 0.2613390928725702, 'f1_score': 0.27570707640235875}\n",
      "layer3 relu 32 {'accuracy': 0.30669546436285094, 'f1_score': 0.31233279335159003}\n",
      "layer3 relu 33 {'accuracy': 0.34773218142548595, 'f1_score': 0.34747531360568706}\n",
      "layer3 SimAM 17 {'accuracy': 0.2958963282937365, 'f1_score': 0.310010116956988}\n",
      "layer3 relu 34 {'accuracy': 0.3369330453563715, 'f1_score': 0.337821340613054}\n",
      "layer3 relu 35 {'accuracy': 0.34989200863930886, 'f1_score': 0.350399268021556}\n",
      "layer3 SimAM 18 {'accuracy': 0.31533477321814257, 'f1_score': 0.303760075817395}\n",
      "layer3 relu 36 {'accuracy': 0.30669546436285094, 'f1_score': 0.29032636988835464}\n",
      "layer3 relu 37 {'accuracy': 0.3563714902807775, 'f1_score': 0.35732615409262697}\n",
      "layer3 SimAM 19 {'accuracy': 0.31317494600431967, 'f1_score': 0.2958966436274465}\n",
      "layer3 relu 38 {'accuracy': 0.2786177105831533, 'f1_score': 0.28560954134906363}\n",
      "layer3 relu 39 {'accuracy': 0.326133909287257, 'f1_score': 0.3257942247822809}\n",
      "layer3 SimAM 20 {'accuracy': 0.31101511879049676, 'f1_score': 0.3220129807621953}\n",
      "layer3 relu 40 {'accuracy': 0.3174946004319654, 'f1_score': 0.3140171886235667}\n",
      "layer3 relu 41 {'accuracy': 0.3347732181425486, 'f1_score': 0.34088519541651496}\n",
      "layer3 SimAM 21 {'accuracy': 0.30669546436285094, 'f1_score': 0.30846702188880026}\n",
      "layer3 relu 42 {'accuracy': 0.31317494600431967, 'f1_score': 0.3133987633760794}\n",
      "layer3 relu 43 {'accuracy': 0.3282937365010799, 'f1_score': 0.3321344408911564}\n",
      "layer3 SimAM 22 {'accuracy': 0.24838012958963282, 'f1_score': 0.24369303165519435}\n",
      "layer3 relu 44 {'accuracy': 0.28725701943844495, 'f1_score': 0.27433960496561316}\n",
      "layer3 relu 45 {'accuracy': 0.3326133909287257, 'f1_score': 0.3358623033006793}\n",
      "layer3 SimAM 23 {'accuracy': 0.3045356371490281, 'f1_score': 0.28884703649842725}\n",
      "layer3 relu 46 {'accuracy': 0.27429805615550756, 'f1_score': 0.2681619126263546}\n",
      "layer3 relu 47 {'accuracy': 0.32397408207343414, 'f1_score': 0.3255708382835042}\n",
      "layer3 SimAM 24 {'accuracy': 0.27645788336933047, 'f1_score': 0.26873172188337346}\n",
      "layer3 relu 48 {'accuracy': 0.265658747300216, 'f1_score': 0.25243010064226906}\n",
      "layer4 relu 1 {'accuracy': 0.31965442764578833, 'f1_score': 0.32499366937400564}\n",
      "layer4 SimAM 1 {'accuracy': 0.3347732181425486, 'f1_score': 0.33545579145250237}\n",
      "layer4 relu 2 {'accuracy': 0.31965442764578833, 'f1_score': 0.3269374865248797}\n",
      "layer4 relu 3 {'accuracy': 0.3002159827213823, 'f1_score': 0.30521110573779675}\n",
      "layer4 SimAM 2 {'accuracy': 0.32397408207343414, 'f1_score': 0.31927565058213525}\n",
      "layer4 relu 4 {'accuracy': 0.3326133909287257, 'f1_score': 0.3276936866241172}\n",
      "layer4 relu 5 {'accuracy': 0.2915766738660907, 'f1_score': 0.2860403798013897}\n",
      "layer4 SimAM 3 {'accuracy': 0.3304535637149028, 'f1_score': 0.33679434464786073}\n",
      "layer4 relu 6 {'accuracy': 0.32181425485961124, 'f1_score': 0.32263513740765093}\n",
      "pooling {'accuracy': 0.28293736501079914, 'f1_score': 0.274369641472928}\n"
     ]
    },
    {
     "data": {
      "image/png": "[encoded data removed]",
      "text/plain": [
       "<Figure size 1000x500 with 2 Axes>"
      ]
     },
     "metadata": {},
     "output_type": "display_data"
    }
   ],
   "source": [
    "from tqdm.auto import tqdm\n",
    "import gc\n",
    "\n",
    "metrics_list = []\n",
    "\n",
    "main_progress = tqdm(layers, desc=\"Processing layers\", position=0, leave=True)\n",
    "\n",
    "for layer in main_progress:\n",
    "    main_progress.set_postfix_str(f\"Current: {layer[:15]}...\")  \n",
    "    \n",
    "    try:\n",
    "        train_acts, train_labels = get_activations_for_layer(\n",
    "            acts_model, train_files, device, layer, train_labels)\n",
    "        test_acts, test_labels = get_activations_for_layer(\n",
    "            acts_model, test_files, device, layer, test_labels)\n",
    "\n",
    "        train_dataset = ActivationDataset(train_acts, train_labels)\n",
    "        train_loader = DataLoader(train_dataset, batch_size=16, shuffle=True)\n",
    "\n",
    "        test_dataset = ActivationDataset(test_acts, test_labels)\n",
    "        test_loader = DataLoader(test_dataset, batch_size=16, shuffle=False)\n",
    "\n",
    "        trained_model = train(\n",
    "                            train_loader,\n",
    "                            train_dataset.X.shape[-1],\n",
    "                            layer,\n",
    "                            device,\n",
    "                            num_epochs=30,    \n",
    "                            lr=5e-4,          \n",
    "                            step_size=10,    \n",
    "                            gamma=0.8         \n",
    "                        )\n",
    "        \n",
    "        torch.save(trained_model.state_dict(), \n",
    "                  f\"/kaggle/working/model_test.pth\")\n",
    "        \n",
    "        metrics = evaluate(trained_model, test_loader, device)\n",
    "        metrics_list.append((layer, metrics))\n",
    "        print(layer, metrics)\n",
    "\n",
    "        del (train_acts, test_acts, train_dataset, test_dataset, \n",
    "             trained_model, train_loader, test_loader)\n",
    "        gc.collect()\n",
    "        torch.cuda.empty_cache()\n",
    "\n",
    "    except Exception as e:\n",
    "        print(f\"\\nERROR in {layer}: {str(e)}\")\n",
    "        continue\n",
    "\n",
    "save_metrics(metrics_list, '/kaggle/working/probing1.txt')\n",
    "plot_metrics(metrics_list, '/kaggle/working/probing1.png')"
   ]
  }
 ],
 "metadata": {
  "accelerator": "GPU",
  "colab": {
   "gpuType": "T4",
   "provenance": []
  },
  "kaggle": {
   "accelerator": "nvidiaTeslaT4",
   "dataSources": [
    {
     "datasetId": 7313524,
     "sourceId": 11653846,
     "sourceType": "datasetVersion"
    },
    {
     "isSourceIdPinned": true,
     "modelId": 330058,
     "modelInstanceId": 309685,
     "sourceId": 374599,
     "sourceType": "modelInstanceVersion"
    }
   ],
   "dockerImageVersionId": 31011,
   "isGpuEnabled": true,
   "isInternetEnabled": true,
   "language": "python",
   "sourceType": "notebook"
  },
  "kernelspec": {
   "display_name": "Python 3",
   "language": "python",
   "name": "python3"
  },
  "language_info": {
   "codemirror_mode": {
    "name": "ipython",
    "version": 3
   },
   "file_extension": ".py",
   "mimetype": "text/x-python",
   "name": "python",
   "nbconvert_exporter": "python",
   "pygments_lexer": "ipython3",
   "version": "3.11.11"
  }
 },
 "nbformat": 4,
 "nbformat_minor": 4
}
