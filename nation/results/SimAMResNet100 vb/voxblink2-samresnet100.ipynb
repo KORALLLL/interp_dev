{
 "cells": [
  {
   "cell_type": "markdown",
   "metadata": {},
   "source": [
    "# voxblink2_samresnet100\n"
   ]
  },
  {
   "cell_type": "markdown",
   "metadata": {
    "id": "NZVHMrNr6YT-"
   },
   "source": [
    "### Импорт библиотек"
   ]
  },
  {
   "cell_type": "code",
   "execution_count": 27,
   "metadata": {
    "execution": {
     "iopub.execute_input": "2025-05-03T14:47:55.191335Z",
     "iopub.status.busy": "2025-05-03T14:47:55.190680Z",
     "iopub.status.idle": "2025-05-03T14:48:01.115883Z",
     "shell.execute_reply": "2025-05-03T14:48:01.115093Z",
     "shell.execute_reply.started": "2025-05-03T14:47:55.191312Z"
    },
    "trusted": true
   },
   "outputs": [
    {
     "name": "stdout",
     "output_type": "stream",
     "text": [
      "Collecting git+https://github.com/wenet-e2e/wespeaker.git\n",
      "  Cloning https://github.com/wenet-e2e/wespeaker.git to /tmp/pip-req-build-suztx451\n",
      "  Running command git clone --filter=blob:none --quiet https://github.com/wenet-e2e/wespeaker.git /tmp/pip-req-build-suztx451\n",
      "  Resolved https://github.com/wenet-e2e/wespeaker.git to commit 310a15850895b54e20845e107b54c9a275d39a2d\n",
      "  Preparing metadata (setup.py) ... \u001b[?25l\u001b[?25hdone\n",
      "Requirement already satisfied: tqdm in /usr/local/lib/python3.11/dist-packages (from wespeaker==0.0.0) (4.67.1)\n",
      "Requirement already satisfied: kaldiio in /usr/local/lib/python3.11/dist-packages (from wespeaker==0.0.0) (2.18.1)\n",
      "Requirement already satisfied: hdbscan==0.8.37 in /usr/local/lib/python3.11/dist-packages (from wespeaker==0.0.0) (0.8.37)\n",
      "Requirement already satisfied: umap-learn==0.5.6 in /usr/local/lib/python3.11/dist-packages (from wespeaker==0.0.0) (0.5.6)\n",
      "Requirement already satisfied: torch>=1.12.0 in /usr/local/lib/python3.11/dist-packages (from wespeaker==0.0.0) (2.5.1+cu124)\n",
      "Requirement already satisfied: torchaudio>=0.12.0 in /usr/local/lib/python3.11/dist-packages (from wespeaker==0.0.0) (2.5.1+cu124)\n",
      "Requirement already satisfied: silero-vad in /usr/local/lib/python3.11/dist-packages (from wespeaker==0.0.0) (5.1.2)\n",
      "Requirement already satisfied: cython<3,>=0.27 in /usr/local/lib/python3.11/dist-packages (from hdbscan==0.8.37->wespeaker==0.0.0) (0.29.37)\n",
      "Requirement already satisfied: numpy<2,>=1.20 in /usr/local/lib/python3.11/dist-packages (from hdbscan==0.8.37->wespeaker==0.0.0) (1.26.4)\n",
      "Requirement already satisfied: scipy>=1.0 in /usr/local/lib/python3.11/dist-packages (from hdbscan==0.8.37->wespeaker==0.0.0) (1.15.2)\n",
      "Requirement already satisfied: scikit-learn>=0.20 in /usr/local/lib/python3.11/dist-packages (from hdbscan==0.8.37->wespeaker==0.0.0) (1.2.2)\n",
      "Requirement already satisfied: joblib>=1.0 in /usr/local/lib/python3.11/dist-packages (from hdbscan==0.8.37->wespeaker==0.0.0) (1.4.2)\n",
      "Requirement already satisfied: numba>=0.51.2 in /usr/local/lib/python3.11/dist-packages (from umap-learn==0.5.6->wespeaker==0.0.0) (0.60.0)\n",
      "Requirement already satisfied: pynndescent>=0.5 in /usr/local/lib/python3.11/dist-packages (from umap-learn==0.5.6->wespeaker==0.0.0) (0.5.13)\n",
      "Requirement already satisfied: filelock in /usr/local/lib/python3.11/dist-packages (from torch>=1.12.0->wespeaker==0.0.0) (3.18.0)\n",
      "Requirement already satisfied: typing-extensions>=4.8.0 in /usr/local/lib/python3.11/dist-packages (from torch>=1.12.0->wespeaker==0.0.0) (4.13.1)\n",
      "Requirement already satisfied: networkx in /usr/local/lib/python3.11/dist-packages (from torch>=1.12.0->wespeaker==0.0.0) (3.4.2)\n",
      "Requirement already satisfied: jinja2 in /usr/local/lib/python3.11/dist-packages (from torch>=1.12.0->wespeaker==0.0.0) (3.1.6)\n",
      "Requirement already satisfied: fsspec in /usr/local/lib/python3.11/dist-packages (from torch>=1.12.0->wespeaker==0.0.0) (2025.3.2)\n",
      "Requirement already satisfied: nvidia-cuda-nvrtc-cu12==12.4.127 in /usr/local/lib/python3.11/dist-packages (from torch>=1.12.0->wespeaker==0.0.0) (12.4.127)\n",
      "Requirement already satisfied: nvidia-cuda-runtime-cu12==12.4.127 in /usr/local/lib/python3.11/dist-packages (from torch>=1.12.0->wespeaker==0.0.0) (12.4.127)\n",
      "Requirement already satisfied: nvidia-cuda-cupti-cu12==12.4.127 in /usr/local/lib/python3.11/dist-packages (from torch>=1.12.0->wespeaker==0.0.0) (12.4.127)\n",
      "Requirement already satisfied: nvidia-cudnn-cu12==9.1.0.70 in /usr/local/lib/python3.11/dist-packages (from torch>=1.12.0->wespeaker==0.0.0) (9.1.0.70)\n",
      "Requirement already satisfied: nvidia-cublas-cu12==12.4.5.8 in /usr/local/lib/python3.11/dist-packages (from torch>=1.12.0->wespeaker==0.0.0) (12.4.5.8)\n",
      "Requirement already satisfied: nvidia-cufft-cu12==11.2.1.3 in /usr/local/lib/python3.11/dist-packages (from torch>=1.12.0->wespeaker==0.0.0) (11.2.1.3)\n",
      "Requirement already satisfied: nvidia-curand-cu12==10.3.5.147 in /usr/local/lib/python3.11/dist-packages (from torch>=1.12.0->wespeaker==0.0.0) (10.3.5.147)\n",
      "Requirement already satisfied: nvidia-cusolver-cu12==11.6.1.9 in /usr/local/lib/python3.11/dist-packages (from torch>=1.12.0->wespeaker==0.0.0) (11.6.1.9)\n",
      "Requirement already satisfied: nvidia-cusparse-cu12==12.3.1.170 in /usr/local/lib/python3.11/dist-packages (from torch>=1.12.0->wespeaker==0.0.0) (12.3.1.170)\n",
      "Requirement already satisfied: nvidia-nccl-cu12==2.21.5 in /usr/local/lib/python3.11/dist-packages (from torch>=1.12.0->wespeaker==0.0.0) (2.21.5)\n",
      "Requirement already satisfied: nvidia-nvtx-cu12==12.4.127 in /usr/local/lib/python3.11/dist-packages (from torch>=1.12.0->wespeaker==0.0.0) (12.4.127)\n",
      "Requirement already satisfied: nvidia-nvjitlink-cu12==12.4.127 in /usr/local/lib/python3.11/dist-packages (from torch>=1.12.0->wespeaker==0.0.0) (12.4.127)\n",
      "Requirement already satisfied: triton==3.1.0 in /usr/local/lib/python3.11/dist-packages (from torch>=1.12.0->wespeaker==0.0.0) (3.1.0)\n",
      "Requirement already satisfied: sympy==1.13.1 in /usr/local/lib/python3.11/dist-packages (from torch>=1.12.0->wespeaker==0.0.0) (1.13.1)\n",
      "Requirement already satisfied: mpmath<1.4,>=1.1.0 in /usr/local/lib/python3.11/dist-packages (from sympy==1.13.1->torch>=1.12.0->wespeaker==0.0.0) (1.3.0)\n",
      "Requirement already satisfied: onnxruntime>=1.16.1 in /usr/local/lib/python3.11/dist-packages (from silero-vad->wespeaker==0.0.0) (1.21.1)\n",
      "Requirement already satisfied: llvmlite<0.44,>=0.43.0dev0 in /usr/local/lib/python3.11/dist-packages (from numba>=0.51.2->umap-learn==0.5.6->wespeaker==0.0.0) (0.43.0)\n",
      "Requirement already satisfied: mkl_fft in /usr/local/lib/python3.11/dist-packages (from numpy<2,>=1.20->hdbscan==0.8.37->wespeaker==0.0.0) (1.3.8)\n",
      "Requirement already satisfied: mkl_random in /usr/local/lib/python3.11/dist-packages (from numpy<2,>=1.20->hdbscan==0.8.37->wespeaker==0.0.0) (1.2.4)\n",
      "Requirement already satisfied: mkl_umath in /usr/local/lib/python3.11/dist-packages (from numpy<2,>=1.20->hdbscan==0.8.37->wespeaker==0.0.0) (0.1.1)\n",
      "Requirement already satisfied: mkl in /usr/local/lib/python3.11/dist-packages (from numpy<2,>=1.20->hdbscan==0.8.37->wespeaker==0.0.0) (2025.1.0)\n",
      "Requirement already satisfied: tbb4py in /usr/local/lib/python3.11/dist-packages (from numpy<2,>=1.20->hdbscan==0.8.37->wespeaker==0.0.0) (2022.1.0)\n",
      "Requirement already satisfied: mkl-service in /usr/local/lib/python3.11/dist-packages (from numpy<2,>=1.20->hdbscan==0.8.37->wespeaker==0.0.0) (2.4.1)\n",
      "Requirement already satisfied: coloredlogs in /usr/local/lib/python3.11/dist-packages (from onnxruntime>=1.16.1->silero-vad->wespeaker==0.0.0) (15.0.1)\n",
      "Requirement already satisfied: flatbuffers in /usr/local/lib/python3.11/dist-packages (from onnxruntime>=1.16.1->silero-vad->wespeaker==0.0.0) (25.2.10)\n",
      "Requirement already satisfied: packaging in /usr/local/lib/python3.11/dist-packages (from onnxruntime>=1.16.1->silero-vad->wespeaker==0.0.0) (24.2)\n",
      "Requirement already satisfied: protobuf in /usr/local/lib/python3.11/dist-packages (from onnxruntime>=1.16.1->silero-vad->wespeaker==0.0.0) (3.20.3)\n",
      "Requirement already satisfied: threadpoolctl>=2.0.0 in /usr/local/lib/python3.11/dist-packages (from scikit-learn>=0.20->hdbscan==0.8.37->wespeaker==0.0.0) (3.6.0)\n",
      "Requirement already satisfied: MarkupSafe>=2.0 in /usr/local/lib/python3.11/dist-packages (from jinja2->torch>=1.12.0->wespeaker==0.0.0) (3.0.2)\n",
      "Requirement already satisfied: humanfriendly>=9.1 in /usr/local/lib/python3.11/dist-packages (from coloredlogs->onnxruntime>=1.16.1->silero-vad->wespeaker==0.0.0) (10.0)\n",
      "Requirement already satisfied: intel-openmp<2026,>=2024 in /usr/local/lib/python3.11/dist-packages (from mkl->numpy<2,>=1.20->hdbscan==0.8.37->wespeaker==0.0.0) (2024.2.0)\n",
      "Requirement already satisfied: tbb==2022.* in /usr/local/lib/python3.11/dist-packages (from mkl->numpy<2,>=1.20->hdbscan==0.8.37->wespeaker==0.0.0) (2022.1.0)\n",
      "Requirement already satisfied: tcmlib==1.* in /usr/local/lib/python3.11/dist-packages (from tbb==2022.*->mkl->numpy<2,>=1.20->hdbscan==0.8.37->wespeaker==0.0.0) (1.2.0)\n",
      "Requirement already satisfied: intel-cmplr-lib-rt in /usr/local/lib/python3.11/dist-packages (from mkl_umath->numpy<2,>=1.20->hdbscan==0.8.37->wespeaker==0.0.0) (2024.2.0)\n",
      "Requirement already satisfied: intel-cmplr-lib-ur==2024.2.0 in /usr/local/lib/python3.11/dist-packages (from intel-openmp<2026,>=2024->mkl->numpy<2,>=1.20->hdbscan==0.8.37->wespeaker==0.0.0) (2024.2.0)\n"
     ]
    }
   ],
   "source": [
    "!pip install git+https://github.com/wenet-e2e/wespeaker.git"
   ]
  },
  {
   "cell_type": "code",
   "execution_count": 28,
   "metadata": {
    "execution": {
     "iopub.execute_input": "2025-05-03T14:48:04.995353Z",
     "iopub.status.busy": "2025-05-03T14:48:04.994588Z",
     "iopub.status.idle": "2025-05-03T14:48:05.000433Z",
     "shell.execute_reply": "2025-05-03T14:48:04.999696Z",
     "shell.execute_reply.started": "2025-05-03T14:48:04.995324Z"
    },
    "id": "2u_MjIFO9Lz_",
    "trusted": true
   },
   "outputs": [],
   "source": [
    "import wespeaker\n",
    "import os\n",
    "import zipfile\n",
    "from pathlib import Path\n",
    "import numpy as np\n",
    "import matplotlib.pyplot as plt\n",
    "from sklearn.preprocessing import LabelEncoder\n",
    "from sklearn.metrics import accuracy_score, f1_score\n",
    "from torch.utils.data import Dataset, DataLoader\n",
    "import torch\n",
    "import torch.nn as nn\n",
    "import torch.optim as optim\n",
    "import torchaudio\n",
    "import torchaudio.compliance.kaldi as kaldi\n",
    "from tqdm import tqdm\n",
    "import pandas as pd"
   ]
  },
  {
   "cell_type": "code",
   "execution_count": null,
   "metadata": {
    "execution": {
     "iopub.execute_input": "2025-05-03T12:14:40.888512Z",
     "iopub.status.busy": "2025-05-03T12:14:40.887989Z",
     "iopub.status.idle": "2025-05-03T12:14:41.145707Z",
     "shell.execute_reply": "2025-05-03T12:14:41.144729Z",
     "shell.execute_reply.started": "2025-05-03T12:14:40.888490Z"
    },
    "id": "bsGV7v4H9o-1",
    "trusted": true
   },
   "outputs": [],
   "source": [
    "with zipfile.ZipFile(r'C:\\Users\\Nastya\\Desktop\\nationality\\datasetNationality.zip', 'r') as zip_ref:\n",
    "    zip_ref.extractall('dataset')\n",
    "\n",
    "with zipfile.ZipFile(r'C:\\Users\\Nastya\\Desktop\\nationality\\voxblink2_samresnet34.zip', 'r') as zip_ref:\n",
    "    zip_ref.extractall('model')"
   ]
  },
  {
   "cell_type": "markdown",
   "metadata": {
    "id": "K0md91B99h4v"
   },
   "source": [
    "### Функции для получения активаций"
   ]
  },
  {
   "cell_type": "code",
   "execution_count": 29,
   "metadata": {
    "execution": {
     "iopub.execute_input": "2025-05-03T14:48:10.390727Z",
     "iopub.status.busy": "2025-05-03T14:48:10.390455Z",
     "iopub.status.idle": "2025-05-03T14:48:10.397057Z",
     "shell.execute_reply": "2025-05-03T14:48:10.396089Z",
     "shell.execute_reply.started": "2025-05-03T14:48:10.390709Z"
    },
    "id": "YK72HZXm9hMo",
    "trusted": true
   },
   "outputs": [],
   "source": [
    "class ActivationDataset(Dataset):\n",
    "    def __init__(self, activations, labels):\n",
    "        self.X = self.pad_activations(activations)\n",
    "        self.y = torch.tensor(labels, dtype=torch.long)\n",
    "\n",
    "    def __getitem__(self, idx):\n",
    "        return self.X[idx], self.y[idx]\n",
    "\n",
    "    def __len__(self):\n",
    "        return len(self.y)\n",
    "\n",
    "    def pad_activations(self, activations):\n",
    "        activations = [act.view(1, -1) if len(act.shape) != 2 else act for act in activations]\n",
    "        max_len = max(act.shape[1] for act in activations)\n",
    "\n",
    "        padded_activations = [\n",
    "            torch.nn.functional.pad(act, (0, max_len - act.shape[1]))\n",
    "            for act in activations\n",
    "        ]\n",
    "\n",
    "        return torch.stack(padded_activations).squeeze(1)"
   ]
  },
  {
   "cell_type": "code",
   "execution_count": 30,
   "metadata": {
    "execution": {
     "iopub.execute_input": "2025-05-03T14:48:12.849360Z",
     "iopub.status.busy": "2025-05-03T14:48:12.849086Z",
     "iopub.status.idle": "2025-05-03T14:48:12.857910Z",
     "shell.execute_reply": "2025-05-03T14:48:12.857080Z",
     "shell.execute_reply.started": "2025-05-03T14:48:12.849340Z"
    },
    "id": "Vm1KGsPl-oVN",
    "trusted": true
   },
   "outputs": [],
   "source": [
    "class GetActivations(nn.Module):\n",
    "    \"\"\"\n",
    "    Class for getting activations from a model.\n",
    "    \"\"\"\n",
    "\n",
    "    def __init__(self, model):\n",
    "        super(GetActivations, self).__init__()\n",
    "        self.model = model\n",
    "\n",
    "    def forward(self, x):\n",
    "        out = x.permute(0, 2, 1)\n",
    "        activations = []\n",
    "        model_front = self.model.model.front\n",
    "\n",
    "        x = out.unsqueeze(dim=1)\n",
    "\n",
    "        out = model_front.relu(model_front.bn1(model_front.conv1(x)))\n",
    "        activations.append({\"first relu\": out})\n",
    "\n",
    "        for name, layer in model_front.named_children():\n",
    "            c_sim = 0\n",
    "            c_relu = 0\n",
    "            if name in ['layer1', 'layer2', 'layer3', 'layer4']:\n",
    "                for sec_name, sec_layer in layer.named_children():\n",
    "                    identity = out\n",
    "\n",
    "                    out = sec_layer.relu(sec_layer.bn1(sec_layer.conv1(out)))\n",
    "                    c_relu += 1\n",
    "                    activations.append({f\"{name} relu {c_relu}\": out})\n",
    "\n",
    "                    out = sec_layer.bn2(sec_layer.conv2(out))\n",
    "                    out = sec_layer.SimAM(out)\n",
    "                    c_sim += 1\n",
    "                    activations.append({f\"{name} SimAM {c_sim}\": out})\n",
    "\n",
    "                    if sec_layer.downsample is not None:\n",
    "                        identity = sec_layer.downsample(identity)\n",
    "\n",
    "                    out += identity\n",
    "                    out = sec_layer.relu(out)\n",
    "                    c_relu += 1\n",
    "                    activations.append({f\"{name} relu {c_relu}\": out})\n",
    "\n",
    "        out = self.model.model.pooling(out)\n",
    "        activations.append({\"pooling\": out})\n",
    "\n",
    "        if self.model.model.drop:\n",
    "            out = self.model.model.drop(out)\n",
    "\n",
    "        out = self.model.model.bottleneck(out)\n",
    "\n",
    "        return activations, out"
   ]
  },
  {
   "cell_type": "code",
   "execution_count": 31,
   "metadata": {
    "execution": {
     "iopub.execute_input": "2025-05-03T14:48:18.812654Z",
     "iopub.status.busy": "2025-05-03T14:48:18.811741Z",
     "iopub.status.idle": "2025-05-03T14:48:18.817134Z",
     "shell.execute_reply": "2025-05-03T14:48:18.816359Z",
     "shell.execute_reply.started": "2025-05-03T14:48:18.812624Z"
    },
    "id": "_7CRjkFw-sGo",
    "trusted": true
   },
   "outputs": [],
   "source": [
    "class NationalityCls(nn.Module):\n",
    "    \"\"\"\n",
    "    Model class for nationality classification\n",
    "    \"\"\"\n",
    "\n",
    "    def __init__(self, input_size, num_classes=16):\n",
    "        super(NationalityCls, self).__init__()\n",
    "        self.fc = nn.Linear(input_size, num_classes)\n",
    "\n",
    "    def forward(self, x):\n",
    "        return self.fc(x)"
   ]
  },
  {
   "cell_type": "code",
   "execution_count": 32,
   "metadata": {
    "execution": {
     "iopub.execute_input": "2025-05-03T14:48:21.291914Z",
     "iopub.status.busy": "2025-05-03T14:48:21.291625Z",
     "iopub.status.idle": "2025-05-03T14:48:21.296313Z",
     "shell.execute_reply": "2025-05-03T14:48:21.295499Z",
     "shell.execute_reply.started": "2025-05-03T14:48:21.291895Z"
    },
    "id": "qu8c3NtpB_3I",
    "trusted": true
   },
   "outputs": [],
   "source": [
    "def compute_fbank(wavform,\n",
    "                  sample_rate=16000,\n",
    "                  num_mel_bins=80,\n",
    "                  frame_length=25,\n",
    "                  frame_shift=10,\n",
    "                  cmn=True):\n",
    "    feat = kaldi.fbank(wavform,\n",
    "                       num_mel_bins=num_mel_bins,\n",
    "                       frame_length=frame_length,\n",
    "                       frame_shift=frame_shift,\n",
    "                       sample_frequency=sample_rate)\n",
    "    if cmn:\n",
    "        feat = feat - torch.mean(feat, 0)\n",
    "    return feat"
   ]
  },
  {
   "cell_type": "code",
   "execution_count": 33,
   "metadata": {
    "execution": {
     "iopub.execute_input": "2025-05-03T14:48:23.867493Z",
     "iopub.status.busy": "2025-05-03T14:48:23.867217Z",
     "iopub.status.idle": "2025-05-03T14:48:23.872733Z",
     "shell.execute_reply": "2025-05-03T14:48:23.871998Z",
     "shell.execute_reply.started": "2025-05-03T14:48:23.867471Z"
    },
    "id": "7LSDvx80By47",
    "trusted": true
   },
   "outputs": [],
   "source": [
    "resample_rate = 16000\n",
    "device = torch.device(\"cuda\" if torch.cuda.is_available() else \"cpu\")\n",
    "\n",
    "def extract_feature_from_pcm(pcm: torch.Tensor, sample_rate: int):\n",
    "    pcm = pcm.to(torch.float)\n",
    "    if sample_rate != resample_rate:\n",
    "        pcm = torchaudio.transforms.Resample(\n",
    "            orig_freq=sample_rate, new_freq=resample_rate)(pcm)\n",
    "    feats = compute_fbank(pcm,\n",
    "                          sample_rate=resample_rate,\n",
    "                          cmn=True)\n",
    "    feats = feats.unsqueeze(0)\n",
    "    feats = feats.to(device)\n",
    "\n",
    "    return feats"
   ]
  },
  {
   "cell_type": "code",
   "execution_count": 34,
   "metadata": {
    "execution": {
     "iopub.execute_input": "2025-05-03T14:48:27.460120Z",
     "iopub.status.busy": "2025-05-03T14:48:27.459591Z",
     "iopub.status.idle": "2025-05-03T14:48:27.463768Z",
     "shell.execute_reply": "2025-05-03T14:48:27.462985Z",
     "shell.execute_reply.started": "2025-05-03T14:48:27.460095Z"
    },
    "id": "30ti-3TGCBLC",
    "trusted": true
   },
   "outputs": [],
   "source": [
    "def extract_features(pcm: torch.Tensor, sample_rate: int):\n",
    "    return extract_feature_from_pcm(pcm, sample_rate)"
   ]
  },
  {
   "cell_type": "code",
   "execution_count": 35,
   "metadata": {
    "execution": {
     "iopub.execute_input": "2025-05-03T14:48:31.043300Z",
     "iopub.status.busy": "2025-05-03T14:48:31.042617Z",
     "iopub.status.idle": "2025-05-03T14:48:31.048128Z",
     "shell.execute_reply": "2025-05-03T14:48:31.047314Z",
     "shell.execute_reply.started": "2025-05-03T14:48:31.043274Z"
    },
    "id": "WLIknZMx-4N9",
    "trusted": true
   },
   "outputs": [],
   "source": [
    "def get_activations(model, audio_path, device, target_samples=16000):\n",
    "    \"\"\"\n",
    "    Gets model activations.\n",
    "    \"\"\"\n",
    "    waveform, sr = torchaudio.load(audio_path)\n",
    "\n",
    "    if waveform.shape[1] > target_samples:\n",
    "        waveform = waveform[:, :target_samples]\n",
    "    else:\n",
    "        padding = target_samples - waveform.shape[1]\n",
    "        waveform = torch.nn.functional.pad(waveform, (0, padding))\n",
    "\n",
    "    feats = extract_features(waveform, sr)\n",
    "\n",
    "    with torch.no_grad():\n",
    "        activations = model(feats)\n",
    "\n",
    "    return {\n",
    "        'file_path': str(audio_path),\n",
    "        'act': activations[0] if isinstance(activations, tuple) else activations\n",
    "    }"
   ]
  },
  {
   "cell_type": "code",
   "execution_count": 36,
   "metadata": {
    "execution": {
     "iopub.execute_input": "2025-05-03T14:48:35.588118Z",
     "iopub.status.busy": "2025-05-03T14:48:35.587807Z",
     "iopub.status.idle": "2025-05-03T14:48:35.594607Z",
     "shell.execute_reply": "2025-05-03T14:48:35.593837Z",
     "shell.execute_reply.started": "2025-05-03T14:48:35.588091Z"
    },
    "id": "-DZpWu1GCO0-",
    "trusted": true
   },
   "outputs": [],
   "source": [
    "def get_activations_for_layer(model, audio_files, device,\n",
    "                              layer_name, labels, target_samples=16000):\n",
    "    \"\"\"\n",
    "    Gets model activations for a specified layer.\n",
    "    \"\"\"\n",
    "    label_encoder = LabelEncoder()\n",
    "    labels = label_encoder.fit_transform(labels)\n",
    "\n",
    "    activations = []\n",
    "    with torch.no_grad():\n",
    "        for audio_input in audio_files:\n",
    "            waveform, sr = torchaudio.load(str(audio_input))\n",
    "            if waveform.shape[1] > target_samples:\n",
    "                waveform = waveform[:, :target_samples]\n",
    "            else:\n",
    "                padding = target_samples - waveform.shape[1]\n",
    "                waveform = torch.nn.functional.pad(waveform, (0, padding))\n",
    "            feats = extract_features(waveform, sr)\n",
    "\n",
    "            feats = feats.to(device)\n",
    "            acts, _ = model(feats)\n",
    "\n",
    "            activation = next((d[layer_name] for d in acts if layer_name in d), None)\n",
    "            if activation is not None:\n",
    "                activations.append(activation.cpu())\n",
    "\n",
    "    return activations, labels"
   ]
  },
  {
   "cell_type": "code",
   "execution_count": 37,
   "metadata": {
    "execution": {
     "iopub.execute_input": "2025-05-03T14:48:39.726647Z",
     "iopub.status.busy": "2025-05-03T14:48:39.726333Z",
     "iopub.status.idle": "2025-05-03T14:48:39.731714Z",
     "shell.execute_reply": "2025-05-03T14:48:39.730952Z",
     "shell.execute_reply.started": "2025-05-03T14:48:39.726621Z"
    },
    "id": "wNw6_rAcC7T4",
    "trusted": true
   },
   "outputs": [],
   "source": [
    "def train(train_loader, input_size, layer, device, num_epochs=10):\n",
    "    \"\"\"\n",
    "    Train a model on a train dataset\n",
    "    \"\"\"\n",
    "    model = NationalityCls(input_size).to(device)\n",
    "    criterion = nn.CrossEntropyLoss()\n",
    "    optimizer = optim.Adam(model.parameters())\n",
    "\n",
    "    for epoch in range (num_epochs):\n",
    "        model.train()\n",
    "\n",
    "        for X, y in train_loader:\n",
    "            X = X.to(device)\n",
    "\n",
    "            outputs = model(X)\n",
    "            loss = criterion(outputs, y.to(device))\n",
    "\n",
    "            optimizer.zero_grad()\n",
    "            loss.backward()\n",
    "            optimizer.step()\n",
    "\n",
    "    return model"
   ]
  },
  {
   "cell_type": "code",
   "execution_count": 38,
   "metadata": {
    "execution": {
     "iopub.execute_input": "2025-05-03T14:48:44.597225Z",
     "iopub.status.busy": "2025-05-03T14:48:44.596934Z",
     "iopub.status.idle": "2025-05-03T14:48:44.602919Z",
     "shell.execute_reply": "2025-05-03T14:48:44.602092Z",
     "shell.execute_reply.started": "2025-05-03T14:48:44.597204Z"
    },
    "id": "qYzfd70RC710",
    "trusted": true
   },
   "outputs": [],
   "source": [
    "def evaluate(model, test_loader, device):\n",
    "    \"\"\"\n",
    "    Evaluates a model on a test dataset.\n",
    "    Calculates accuracy and f1-score\n",
    "    \"\"\"\n",
    "    model.eval()\n",
    "    y_true, y_pred = [], []\n",
    "    with torch.no_grad():\n",
    "        for X, y in test_loader:\n",
    "            X, y = X.to(device), y.to(device)\n",
    "            outputs = model(X)\n",
    "            preds = outputs.argmax(axis=1)\n",
    "\n",
    "            y_true.extend(y.cpu().numpy())\n",
    "            y_pred.extend(preds.cpu().numpy())\n",
    "\n",
    "    y_true = np.array(y_true)\n",
    "    y_pred = np.array(y_pred)\n",
    "\n",
    "    metrics = {\n",
    "        \"accuracy\": accuracy_score(y_true, y_pred),\n",
    "        \"f1_score\": f1_score(y_true, y_pred, average=\"weighted\")\n",
    "    }\n",
    "\n",
    "    return metrics"
   ]
  },
  {
   "cell_type": "code",
   "execution_count": 39,
   "metadata": {
    "execution": {
     "iopub.execute_input": "2025-05-03T14:48:48.568753Z",
     "iopub.status.busy": "2025-05-03T14:48:48.568001Z",
     "iopub.status.idle": "2025-05-03T14:48:48.578245Z",
     "shell.execute_reply": "2025-05-03T14:48:48.577406Z",
     "shell.execute_reply.started": "2025-05-03T14:48:48.568714Z"
    },
    "id": "NrkyUltUC975",
    "trusted": true
   },
   "outputs": [],
   "source": [
    "def plot_metrics(metrics_list, save_path):\n",
    "    layers = [m[0] for m in metrics_list]\n",
    "    accuracies = [m[1][\"accuracy\"] for m in metrics_list]\n",
    "    f1_scores = [m[1][\"f1_score\"] for m in metrics_list]\n",
    "\n",
    "    plt.figure(figsize=(10, 5))\n",
    "\n",
    "    plt.subplot(1, 2, 1)\n",
    "    plt.plot(range(1, len(layers)+1), accuracies, color='b', label=\"Accuracy\")\n",
    "    plt.xlabel(\"Layers\")\n",
    "    plt.ylabel(\"Accuracy\")\n",
    "    plt.title(\"Accuracy across layers\")\n",
    "    plt.legend()\n",
    "\n",
    "    plt.subplot(1, 2, 2)\n",
    "    plt.plot(range(1, len(layers)+1), f1_scores, color='g', label=\"F1-score\")\n",
    "    plt.xlabel(\"Layers\")\n",
    "    plt.ylabel(\"F1-score\")\n",
    "    plt.title(\"F1-score across layers\")\n",
    "    plt.legend()\n",
    "\n",
    "    plt.tight_layout()\n",
    "    plt.savefig(save_path)"
   ]
  },
  {
   "cell_type": "code",
   "execution_count": 40,
   "metadata": {
    "execution": {
     "iopub.execute_input": "2025-05-03T14:48:51.653032Z",
     "iopub.status.busy": "2025-05-03T14:48:51.652763Z",
     "iopub.status.idle": "2025-05-03T14:48:51.657387Z",
     "shell.execute_reply": "2025-05-03T14:48:51.656744Z",
     "shell.execute_reply.started": "2025-05-03T14:48:51.653012Z"
    },
    "id": "TrU8lJVZDBUa",
    "trusted": true
   },
   "outputs": [],
   "source": [
    "def save_metrics(metrics_list, save_path):\n",
    "    \"\"\"\n",
    "    Saves computed metrics in .txt file\n",
    "    \"\"\"\n",
    "    os.makedirs(os.path.dirname(save_path), exist_ok=True)\n",
    "\n",
    "    with open(save_path, 'w') as f:\n",
    "        for layer, metrics in metrics_list:\n",
    "            f.write(f\"{layer}\\n\")\n",
    "            for key, value in metrics.items():\n",
    "                f.write(f\"{key}: {value}\\n\")"
   ]
  },
  {
   "cell_type": "markdown",
   "metadata": {
    "id": "gMl7pOrCDR-H"
   },
   "source": [
    "### Получение активаций"
   ]
  },
  {
   "cell_type": "code",
   "execution_count": 41,
   "metadata": {
    "execution": {
     "iopub.execute_input": "2025-05-03T14:48:56.888974Z",
     "iopub.status.busy": "2025-05-03T14:48:56.888713Z",
     "iopub.status.idle": "2025-05-03T14:48:56.906723Z",
     "shell.execute_reply": "2025-05-03T14:48:56.905991Z",
     "shell.execute_reply.started": "2025-05-03T14:48:56.888956Z"
    },
    "id": "VhC1ZVjwDDgz",
    "trusted": true
   },
   "outputs": [],
   "source": [
    "df_train = pd.read_csv(\"/kaggle/input/dataset/dataset/train_data.csv\")\n",
    "df_test = pd.read_csv(\"/kaggle/input/dataset/dataset/test_data.csv\")"
   ]
  },
  {
   "cell_type": "code",
   "execution_count": 42,
   "metadata": {
    "execution": {
     "iopub.execute_input": "2025-05-03T14:48:59.353492Z",
     "iopub.status.busy": "2025-05-03T14:48:59.353215Z",
     "iopub.status.idle": "2025-05-03T14:48:59.359486Z",
     "shell.execute_reply": "2025-05-03T14:48:59.358822Z",
     "shell.execute_reply.started": "2025-05-03T14:48:59.353468Z"
    },
    "id": "hJfRQVj0EPQr",
    "trusted": true
   },
   "outputs": [],
   "source": [
    "df_train[\"filename\"] = \"/kaggle/input/dataset/dataset/\" + df_train[\"filename\"]\n",
    "df_test[\"filename\"] = \"/kaggle/input/dataset/dataset/\" + df_test[\"filename\"]"
   ]
  },
  {
   "cell_type": "code",
   "execution_count": 43,
   "metadata": {
    "execution": {
     "iopub.execute_input": "2025-05-03T14:49:01.923365Z",
     "iopub.status.busy": "2025-05-03T14:49:01.923095Z",
     "iopub.status.idle": "2025-05-03T14:49:01.928087Z",
     "shell.execute_reply": "2025-05-03T14:49:01.927235Z",
     "shell.execute_reply.started": "2025-05-03T14:49:01.923344Z"
    },
    "id": "BsqThvYEElfF",
    "trusted": true
   },
   "outputs": [],
   "source": [
    "train_files = df_train[\"filename\"].to_list()\n",
    "test_files = df_test[\"filename\"].to_list()\n",
    "\n",
    "train_labels = df_train[\"accent\"].to_list()\n",
    "test_labels = df_test[\"accent\"].to_list()"
   ]
  },
  {
   "cell_type": "code",
   "execution_count": 44,
   "metadata": {
    "execution": {
     "iopub.execute_input": "2025-05-03T14:49:06.389712Z",
     "iopub.status.busy": "2025-05-03T14:49:06.389357Z",
     "iopub.status.idle": "2025-05-03T14:49:07.235285Z",
     "shell.execute_reply": "2025-05-03T14:49:07.234617Z",
     "shell.execute_reply.started": "2025-05-03T14:49:06.389690Z"
    },
    "id": "8KaVdGYDFANA",
    "trusted": true
   },
   "outputs": [
    {
     "name": "stderr",
     "output_type": "stream",
     "text": [
      "/usr/local/lib/python3.11/dist-packages/wespeaker/utils/checkpoint.py:21: FutureWarning: You are using `torch.load` with `weights_only=False` (the current default value), which uses the default pickle module implicitly. It is possible to construct malicious pickle data which will execute arbitrary code during unpickling (See https://github.com/pytorch/pytorch/blob/main/SECURITY.md#untrusted-models for more details). In a future release, the default value for `weights_only` will be flipped to `True`. This limits the functions that could be executed during unpickling. Arbitrary objects will no longer be allowed to be loaded via this mode unless they are explicitly allowlisted by the user via `torch.serialization.add_safe_globals`. We recommend you start setting `weights_only=True` for any use case where you don't have full control of the loaded file. Please open an issue on GitHub for any issues related to this experimental feature.\n",
      "  checkpoint = torch.load(path, map_location='cpu')\n"
     ]
    }
   ],
   "source": [
    "device = torch.device(\"cuda\" if torch.cuda.is_available() else \"cpu\")\n",
    "\n",
    "model = wespeaker.load_model_local(\"/kaggle/input/voxblink2_samresnet100/other/default/1/voxblink2_samresnet100\")\n",
    "model.set_device(device) \n",
    "\n",
    "acts_model = GetActivations(model)\n",
    "acts = get_activations(acts_model, train_files[0], device)\n",
    "layers = [list(item.keys())[0] for item in acts['act']]"
   ]
  },
  {
   "cell_type": "code",
   "execution_count": 45,
   "metadata": {
    "execution": {
     "iopub.execute_input": "2025-05-03T14:49:11.038983Z",
     "iopub.status.busy": "2025-05-03T14:49:11.038705Z",
     "iopub.status.idle": "2025-05-03T14:49:11.042778Z",
     "shell.execute_reply": "2025-05-03T14:49:11.042065Z",
     "shell.execute_reply.started": "2025-05-03T14:49:11.038962Z"
    },
    "trusted": true
   },
   "outputs": [],
   "source": [
    "import os\n",
    "\n",
    "out_dir = \"/kaggle/working/model_test/\"\n",
    "os.makedirs(out_dir, exist_ok=True)"
   ]
  },
  {
   "cell_type": "code",
   "execution_count": 46,
   "metadata": {
    "execution": {
     "iopub.execute_input": "2025-05-03T14:51:24.947463Z",
     "iopub.status.busy": "2025-05-03T14:51:24.946962Z",
     "iopub.status.idle": "2025-05-03T17:56:49.055938Z",
     "shell.execute_reply": "2025-05-03T17:56:49.055110Z",
     "shell.execute_reply.started": "2025-05-03T14:51:24.947439Z"
    },
    "trusted": true
   },
   "outputs": [
    {
     "data": {
      "application/vnd.jupyter.widget-view+json": {
       "model_id": "488c62d0b19c4133a89920b0dfd429b5",
       "version_major": 2,
       "version_minor": 0
      },
      "text/plain": [
       "Processing layers:   0%|          | 0/149 [00:00<?, ?it/s]"
      ]
     },
     "metadata": {},
     "output_type": "display_data"
    },
    {
     "name": "stdout",
     "output_type": "stream",
     "text": [
      "first relu {'accuracy': 0.2224622030237581, 'f1_score': 0.20550894916067733}\n",
      "layer1 relu 1 {'accuracy': 0.2159827213822894, 'f1_score': 0.1836735482766319}\n",
      "layer1 SimAM 1 {'accuracy': 0.21166306695464362, 'f1_score': 0.18432614016036536}\n",
      "layer1 relu 2 {'accuracy': 0.20086393088552915, 'f1_score': 0.1936014507506653}\n",
      "layer1 relu 3 {'accuracy': 0.2159827213822894, 'f1_score': 0.20037142095846588}\n",
      "layer1 SimAM 2 {'accuracy': 0.16198704103671707, 'f1_score': 0.1708849194406273}\n",
      "layer1 relu 4 {'accuracy': 0.22462203023758098, 'f1_score': 0.20138006183300775}\n",
      "layer1 relu 5 {'accuracy': 0.2937365010799136, 'f1_score': 0.2644506132485687}\n",
      "layer1 SimAM 3 {'accuracy': 0.23110151187904968, 'f1_score': 0.2326994960096912}\n",
      "layer1 relu 6 {'accuracy': 0.28509719222462204, 'f1_score': 0.28298151340829714}\n",
      "layer1 relu 7 {'accuracy': 0.2915766738660907, 'f1_score': 0.2663335319446876}\n",
      "layer1 SimAM 4 {'accuracy': 0.24406047516198703, 'f1_score': 0.20460242125960104}\n",
      "layer1 relu 8 {'accuracy': 0.26997840172786175, 'f1_score': 0.26858668732474333}\n",
      "layer1 relu 9 {'accuracy': 0.24190064794816415, 'f1_score': 0.20844369519924166}\n",
      "layer1 SimAM 5 {'accuracy': 0.16846652267818574, 'f1_score': 0.17003889907552883}\n",
      "layer1 relu 10 {'accuracy': 0.28077753779697623, 'f1_score': 0.260260205786445}\n",
      "layer1 relu 11 {'accuracy': 0.2203023758099352, 'f1_score': 0.21295698900089793}\n",
      "layer1 SimAM 6 {'accuracy': 0.16198704103671707, 'f1_score': 0.18666162000695716}\n",
      "layer1 relu 12 {'accuracy': 0.2267818574514039, 'f1_score': 0.2254115605062117}\n",
      "layer2 relu 1 {'accuracy': 0.3002159827213823, 'f1_score': 0.300221375918423}\n",
      "layer2 SimAM 1 {'accuracy': 0.31533477321814257, 'f1_score': 0.2993168520261443}\n",
      "layer2 relu 2 {'accuracy': 0.39956803455723544, 'f1_score': 0.4091468068918725}\n",
      "layer2 relu 3 {'accuracy': 0.3650107991360691, 'f1_score': 0.3541999754489005}\n",
      "layer2 SimAM 2 {'accuracy': 0.3282937365010799, 'f1_score': 0.31850916172902627}\n",
      "layer2 relu 4 {'accuracy': 0.2159827213822894, 'f1_score': 0.21803745367691277}\n",
      "layer2 relu 5 {'accuracy': 0.36069114470842334, 'f1_score': 0.36965286528325253}\n",
      "layer2 SimAM 3 {'accuracy': 0.22894168466522677, 'f1_score': 0.24367735631083334}\n",
      "layer2 relu 6 {'accuracy': 0.2894168466522678, 'f1_score': 0.23658481025361033}\n",
      "layer2 relu 7 {'accuracy': 0.4146868250539957, 'f1_score': 0.4121190794589546}\n",
      "layer2 SimAM 4 {'accuracy': 0.28293736501079914, 'f1_score': 0.2451360074920339}\n",
      "layer2 relu 8 {'accuracy': 0.27429805615550756, 'f1_score': 0.2595324665806992}\n",
      "layer2 relu 9 {'accuracy': 0.3952483801295896, 'f1_score': 0.38273858349245354}\n",
      "layer2 SimAM 5 {'accuracy': 0.12958963282937366, 'f1_score': 0.13223726379175554}\n",
      "layer2 relu 10 {'accuracy': 0.3023758099352052, 'f1_score': 0.2940345656036606}\n",
      "layer2 relu 11 {'accuracy': 0.38444924406047515, 'f1_score': 0.412119902715842}\n",
      "layer2 SimAM 6 {'accuracy': 0.2526997840172786, 'f1_score': 0.23086779423407794}\n",
      "layer2 relu 12 {'accuracy': 0.2937365010799136, 'f1_score': 0.27913014570240563}\n",
      "layer2 relu 13 {'accuracy': 0.36285097192224625, 'f1_score': 0.3702446963146835}\n",
      "layer2 SimAM 7 {'accuracy': 0.3714902807775378, 'f1_score': 0.37651071830367916}\n",
      "layer2 relu 14 {'accuracy': 0.2894168466522678, 'f1_score': 0.2610861961888955}\n",
      "layer2 relu 15 {'accuracy': 0.3779697624190065, 'f1_score': 0.3842742184665452}\n",
      "layer2 SimAM 8 {'accuracy': 0.34773218142548595, 'f1_score': 0.3243038524456891}\n",
      "layer2 relu 16 {'accuracy': 0.28293736501079914, 'f1_score': 0.28181931311373776}\n",
      "layer2 relu 17 {'accuracy': 0.36069114470842334, 'f1_score': 0.3470355759047853}\n",
      "layer2 SimAM 9 {'accuracy': 0.326133909287257, 'f1_score': 0.32534221115853496}\n",
      "layer2 relu 18 {'accuracy': 0.31533477321814257, 'f1_score': 0.3084234268608659}\n",
      "layer2 relu 19 {'accuracy': 0.326133909287257, 'f1_score': 0.3407708897828205}\n",
      "layer2 SimAM 10 {'accuracy': 0.2267818574514039, 'f1_score': 0.2152565431906053}\n",
      "layer2 relu 20 {'accuracy': 0.3563714902807775, 'f1_score': 0.3544306425007726}\n",
      "layer2 relu 21 {'accuracy': 0.38444924406047515, 'f1_score': 0.38107740403236867}\n",
      "layer2 SimAM 11 {'accuracy': 0.31317494600431967, 'f1_score': 0.26699512923653396}\n",
      "layer2 relu 22 {'accuracy': 0.2980561555075594, 'f1_score': 0.28645459906852533}\n",
      "layer2 relu 23 {'accuracy': 0.367170626349892, 'f1_score': 0.37267675305863057}\n",
      "layer2 SimAM 12 {'accuracy': 0.2548596112311015, 'f1_score': 0.24495074528977828}\n",
      "layer2 relu 24 {'accuracy': 0.2937365010799136, 'f1_score': 0.27433388563266153}\n",
      "layer2 relu 25 {'accuracy': 0.35205183585313177, 'f1_score': 0.3537662184030832}\n",
      "layer2 SimAM 13 {'accuracy': 0.24190064794816415, 'f1_score': 0.21304629281621298}\n",
      "layer2 relu 26 {'accuracy': 0.23758099352051837, 'f1_score': 0.20355098552247888}\n",
      "layer2 relu 27 {'accuracy': 0.3758099352051836, 'f1_score': 0.36351866901176244}\n",
      "layer2 SimAM 14 {'accuracy': 0.3045356371490281, 'f1_score': 0.2781624655325938}\n",
      "layer2 relu 28 {'accuracy': 0.28509719222462204, 'f1_score': 0.25692281360339375}\n",
      "layer2 relu 29 {'accuracy': 0.36069114470842334, 'f1_score': 0.34624781506379687}\n",
      "layer2 SimAM 15 {'accuracy': 0.2786177105831533, 'f1_score': 0.23518151912485635}\n",
      "layer2 relu 30 {'accuracy': 0.3023758099352052, 'f1_score': 0.28075389842303167}\n",
      "layer2 relu 31 {'accuracy': 0.3282937365010799, 'f1_score': 0.3263838338703341}\n",
      "layer2 SimAM 16 {'accuracy': 0.20302375809935205, 'f1_score': 0.17022441522335124}\n",
      "layer2 relu 32 {'accuracy': 0.20950323974082075, 'f1_score': 0.20228728545977773}\n",
      "layer3 relu 1 {'accuracy': 0.36069114470842334, 'f1_score': 0.36078365970535137}\n",
      "layer3 SimAM 1 {'accuracy': 0.3326133909287257, 'f1_score': 0.3387663643665092}\n",
      "layer3 relu 2 {'accuracy': 0.35205183585313177, 'f1_score': 0.37233235028936473}\n",
      "layer3 relu 3 {'accuracy': 0.39740820734341253, 'f1_score': 0.3987267213220681}\n",
      "layer3 SimAM 2 {'accuracy': 0.3174946004319654, 'f1_score': 0.32565939188853177}\n",
      "layer3 relu 4 {'accuracy': 0.3326133909287257, 'f1_score': 0.3366368116569534}\n",
      "layer3 relu 5 {'accuracy': 0.3650107991360691, 'f1_score': 0.35388334486488343}\n",
      "layer3 SimAM 3 {'accuracy': 0.3282937365010799, 'f1_score': 0.33538218954183346}\n",
      "layer3 relu 6 {'accuracy': 0.3390928725701944, 'f1_score': 0.3496214013987941}\n",
      "layer3 relu 7 {'accuracy': 0.3650107991360691, 'f1_score': 0.3715938381015063}\n",
      "layer3 SimAM 4 {'accuracy': 0.3434125269978402, 'f1_score': 0.35178591545086024}\n",
      "layer3 relu 8 {'accuracy': 0.3390928725701944, 'f1_score': 0.36612584533823644}\n",
      "layer3 relu 9 {'accuracy': 0.36069114470842334, 'f1_score': 0.3632079317167374}\n",
      "layer3 SimAM 5 {'accuracy': 0.3542116630669546, 'f1_score': 0.33603032370896535}\n",
      "layer3 relu 10 {'accuracy': 0.31317494600431967, 'f1_score': 0.3130598523921275}\n",
      "layer3 relu 11 {'accuracy': 0.3650107991360691, 'f1_score': 0.3709665354864194}\n",
      "layer3 SimAM 6 {'accuracy': 0.26997840172786175, 'f1_score': 0.2407997175702206}\n",
      "layer3 relu 12 {'accuracy': 0.31965442764578833, 'f1_score': 0.31944624071906336}\n",
      "layer3 relu 13 {'accuracy': 0.34557235421166305, 'f1_score': 0.35813132269771764}\n",
      "layer3 SimAM 7 {'accuracy': 0.31101511879049676, 'f1_score': 0.31809754853390565}\n",
      "layer3 relu 14 {'accuracy': 0.28077753779697623, 'f1_score': 0.2679514591790263}\n",
      "layer3 relu 15 {'accuracy': 0.34557235421166305, 'f1_score': 0.35681660529561277}\n",
      "layer3 SimAM 8 {'accuracy': 0.28293736501079914, 'f1_score': 0.2490660392584411}\n",
      "layer3 relu 16 {'accuracy': 0.2613390928725702, 'f1_score': 0.27127125990460793}\n",
      "layer3 relu 17 {'accuracy': 0.31965442764578833, 'f1_score': 0.32430395823917224}\n",
      "layer3 SimAM 9 {'accuracy': 0.3390928725701944, 'f1_score': 0.3414495957272844}\n",
      "layer3 relu 18 {'accuracy': 0.2915766738660907, 'f1_score': 0.28524807392459983}\n",
      "layer3 relu 19 {'accuracy': 0.3693304535637149, 'f1_score': 0.3761739482198119}\n",
      "layer3 SimAM 10 {'accuracy': 0.2526997840172786, 'f1_score': 0.21806881542366396}\n",
      "layer3 relu 20 {'accuracy': 0.2159827213822894, 'f1_score': 0.19673565994652226}\n",
      "layer3 relu 21 {'accuracy': 0.3542116630669546, 'f1_score': 0.3498074044373494}\n",
      "layer3 SimAM 11 {'accuracy': 0.265658747300216, 'f1_score': 0.2795054684053949}\n",
      "layer3 relu 22 {'accuracy': 0.27213822894168466, 'f1_score': 0.25536731374880983}\n",
      "layer3 relu 23 {'accuracy': 0.3390928725701944, 'f1_score': 0.33340239513901393}\n",
      "layer3 SimAM 12 {'accuracy': 0.3045356371490281, 'f1_score': 0.2825651356698029}\n",
      "layer3 relu 24 {'accuracy': 0.27213822894168466, 'f1_score': 0.28102012789296854}\n",
      "layer3 relu 25 {'accuracy': 0.38228941684665224, 'f1_score': 0.36935408046826906}\n",
      "layer3 SimAM 13 {'accuracy': 0.2786177105831533, 'f1_score': 0.24456486863040303}\n",
      "layer3 relu 26 {'accuracy': 0.2570194384449244, 'f1_score': 0.23449000629795086}\n",
      "layer3 relu 27 {'accuracy': 0.3563714902807775, 'f1_score': 0.35720525156521027}\n",
      "layer3 SimAM 14 {'accuracy': 0.326133909287257, 'f1_score': 0.2971639567593323}\n",
      "layer3 relu 28 {'accuracy': 0.23974082073434125, 'f1_score': 0.22095700532165707}\n",
      "layer3 relu 29 {'accuracy': 0.35853131749460043, 'f1_score': 0.335668151395094}\n",
      "layer3 SimAM 15 {'accuracy': 0.23542116630669546, 'f1_score': 0.2272872082203027}\n",
      "layer3 relu 30 {'accuracy': 0.28077753779697623, 'f1_score': 0.25091820327129893}\n",
      "layer3 relu 31 {'accuracy': 0.3801295896328294, 'f1_score': 0.38042624924525464}\n",
      "layer3 SimAM 16 {'accuracy': 0.3174946004319654, 'f1_score': 0.3225781984671098}\n",
      "layer3 relu 32 {'accuracy': 0.31965442764578833, 'f1_score': 0.285580289166989}\n",
      "layer3 relu 33 {'accuracy': 0.3390928725701944, 'f1_score': 0.34409296395718514}\n",
      "layer3 SimAM 17 {'accuracy': 0.3282937365010799, 'f1_score': 0.30469722221848}\n",
      "layer3 relu 34 {'accuracy': 0.2267818574514039, 'f1_score': 0.19294982684226386}\n",
      "layer3 relu 35 {'accuracy': 0.3779697624190065, 'f1_score': 0.3709978929269867}\n",
      "layer3 SimAM 18 {'accuracy': 0.3282937365010799, 'f1_score': 0.31028300626162075}\n",
      "layer3 relu 36 {'accuracy': 0.2937365010799136, 'f1_score': 0.2651519288966784}\n",
      "layer3 relu 37 {'accuracy': 0.3714902807775378, 'f1_score': 0.3771612817209702}\n",
      "layer3 SimAM 19 {'accuracy': 0.2915766738660907, 'f1_score': 0.26936551201040887}\n",
      "layer3 relu 38 {'accuracy': 0.1879049676025918, 'f1_score': 0.15862087969752603}\n",
      "layer3 relu 39 {'accuracy': 0.3542116630669546, 'f1_score': 0.3665685137844416}\n",
      "layer3 SimAM 20 {'accuracy': 0.27645788336933047, 'f1_score': 0.25273741065246147}\n",
      "layer3 relu 40 {'accuracy': 0.23110151187904968, 'f1_score': 0.22537730514596857}\n",
      "layer3 relu 41 {'accuracy': 0.3412526997840173, 'f1_score': 0.3580205364740332}\n",
      "layer3 SimAM 21 {'accuracy': 0.2678185745140389, 'f1_score': 0.25676481621518915}\n",
      "layer3 relu 42 {'accuracy': 0.2224622030237581, 'f1_score': 0.2005038579593931}\n",
      "layer3 relu 43 {'accuracy': 0.34773218142548595, 'f1_score': 0.3538793134459327}\n",
      "layer3 SimAM 22 {'accuracy': 0.265658747300216, 'f1_score': 0.2637527451906844}\n",
      "layer3 relu 44 {'accuracy': 0.28725701943844495, 'f1_score': 0.2643599062434615}\n",
      "layer3 relu 45 {'accuracy': 0.367170626349892, 'f1_score': 0.37447403817262814}\n",
      "layer3 SimAM 23 {'accuracy': 0.27645788336933047, 'f1_score': 0.24602279887761125}\n",
      "layer3 relu 46 {'accuracy': 0.2894168466522678, 'f1_score': 0.2698575916404111}\n",
      "layer3 relu 47 {'accuracy': 0.3304535637149028, 'f1_score': 0.3392194181023247}\n",
      "layer3 SimAM 24 {'accuracy': 0.2678185745140389, 'f1_score': 0.23081195069916283}\n",
      "layer3 relu 48 {'accuracy': 0.2937365010799136, 'f1_score': 0.2617910235032081}\n",
      "layer4 relu 1 {'accuracy': 0.3369330453563715, 'f1_score': 0.3472189752833497}\n",
      "layer4 SimAM 1 {'accuracy': 0.36069114470842334, 'f1_score': 0.3522929313090303}\n",
      "layer4 relu 2 {'accuracy': 0.3650107991360691, 'f1_score': 0.36056417977539834}\n",
      "layer4 relu 3 {'accuracy': 0.3650107991360691, 'f1_score': 0.35240827880177544}\n",
      "layer4 SimAM 2 {'accuracy': 0.3390928725701944, 'f1_score': 0.33955024888204877}\n",
      "layer4 relu 4 {'accuracy': 0.367170626349892, 'f1_score': 0.3659584058487001}\n",
      "layer4 relu 5 {'accuracy': 0.3045356371490281, 'f1_score': 0.291484605450016}\n",
      "layer4 SimAM 3 {'accuracy': 0.3369330453563715, 'f1_score': 0.3446873890039078}\n",
      "layer4 relu 6 {'accuracy': 0.3650107991360691, 'f1_score': 0.3604824355838325}\n",
      "pooling {'accuracy': 0.3326133909287257, 'f1_score': 0.32881760803455456}\n"
     ]
    },
    {
     "data": {
      "image/png": "[encoded data removed]",
      "text/plain": [
       "<Figure size 1000x500 with 2 Axes>"
      ]
     },
     "metadata": {},
     "output_type": "display_data"
    }
   ],
   "source": [
    "from tqdm.auto import tqdm\n",
    "import gc\n",
    "\n",
    "metrics_list = []\n",
    "\n",
    "# Добавляем главный прогресс-бар\n",
    "main_progress = tqdm(layers, desc=\"Processing layers\", position=0, leave=True)\n",
    "\n",
    "for layer in main_progress:\n",
    "    main_progress.set_postfix_str(f\"Current: {layer[:15]}...\")  # Обрезаем длинные названия\n",
    "    \n",
    "    try:\n",
    "        # 1. Получение активаций (сохраняем оригинальный вызов)\n",
    "        train_acts, train_labels = get_activations_for_layer(\n",
    "            acts_model, train_files, device, layer, train_labels)\n",
    "        test_acts, test_labels = get_activations_for_layer(\n",
    "            acts_model, test_files, device, layer, test_labels)\n",
    "\n",
    "        # 2. Создание Dataset и DataLoader (как в оригинале)\n",
    "        train_dataset = ActivationDataset(train_acts, train_labels)\n",
    "        train_loader = DataLoader(train_dataset, batch_size=16, shuffle=True)\n",
    "\n",
    "        test_dataset = ActivationDataset(test_acts, test_labels)\n",
    "        test_loader = DataLoader(test_dataset, batch_size=16, shuffle=False)\n",
    "\n",
    "        # 3. Обучение модели (полностью сохраняем оригинальную логику)\n",
    "        trained_model = train(\n",
    "            train_loader, train_dataset.X.shape[-1], layer, device)\n",
    "        \n",
    "        # 4. Сохранение модели (как в оригинале)\n",
    "        torch.save(trained_model.state_dict(), \n",
    "                  f\"/kaggle/working/model_test.pth\")\n",
    "        \n",
    "        # 5. Оценка модели\n",
    "        metrics = evaluate(trained_model, test_loader, device)\n",
    "        metrics_list.append((layer, metrics))\n",
    "        print(layer, metrics)\n",
    "\n",
    "        # 6. Очистка памяти (добавляем улучшения)\n",
    "        del (train_acts, test_acts, train_dataset, test_dataset, \n",
    "             trained_model, train_loader, test_loader)\n",
    "        gc.collect()\n",
    "        torch.cuda.empty_cache()\n",
    "\n",
    "    except Exception as e:\n",
    "        print(f\"\\nERROR in {layer}: {str(e)}\")\n",
    "        continue\n",
    "\n",
    "# Финализируем сохранение (оригинальные вызовы)\n",
    "save_metrics(metrics_list, '/kaggle/working/probing.txt')\n",
    "plot_metrics(metrics_list, '/kaggle/working/probing.png')"
   ]
  }
 ],
 "metadata": {
  "accelerator": "GPU",
  "colab": {
   "gpuType": "T4",
   "provenance": []
  },
  "kaggle": {
   "accelerator": "gpu",
   "dataSources": [
    {
     "datasetId": 7313524,
     "sourceId": 11653846,
     "sourceType": "datasetVersion"
    },
    {
     "isSourceIdPinned": true,
     "modelId": 327001,
     "modelInstanceId": 306528,
     "sourceId": 370205,
     "sourceType": "modelInstanceVersion"
    }
   ],
   "dockerImageVersionId": 31011,
   "isGpuEnabled": true,
   "isInternetEnabled": true,
   "language": "python",
   "sourceType": "notebook"
  },
  "kernelspec": {
   "display_name": "Python 3",
   "language": "python",
   "name": "python3"
  },
  "language_info": {
   "codemirror_mode": {
    "name": "ipython",
    "version": 3
   },
   "file_extension": ".py",
   "mimetype": "text/x-python",
   "name": "python",
   "nbconvert_exporter": "python",
   "pygments_lexer": "ipython3",
   "version": "3.11.11"
  }
 },
 "nbformat": 4,
 "nbformat_minor": 4
}
