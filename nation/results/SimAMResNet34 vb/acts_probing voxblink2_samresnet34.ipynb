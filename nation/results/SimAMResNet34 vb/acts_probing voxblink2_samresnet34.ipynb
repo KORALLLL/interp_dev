{
  "cells": [
    {
      "cell_type": "markdown",
      "metadata": {},
      "source": [
        "# voxblink2_samresnet34"
      ]
    },
    {
      "cell_type": "markdown",
      "metadata": {
        "id": "NZVHMrNr6YT-"
      },
      "source": [
        "### Импорт библиотек"
      ]
    },
    {
      "cell_type": "code",
      "execution_count": 1,
      "metadata": {},
      "outputs": [
        {
          "name": "stdout",
          "output_type": "stream",
          "text": [
            "Collecting git+https://github.com/wenet-e2e/wespeaker.git\n",
            "  Cloning https://github.com/wenet-e2e/wespeaker.git to c:\\users\\nastya\\appdata\\local\\temp\\pip-req-build-yqz8aawb\n",
            "  Resolved https://github.com/wenet-e2e/wespeaker.git to commit 310a15850895b54e20845e107b54c9a275d39a2d\n",
            "  Preparing metadata (setup.py): started\n",
            "  Preparing metadata (setup.py): finished with status 'done'\n",
            "Requirement already satisfied: tqdm in c:\\users\\nastya\\anaconda3\\lib\\site-packages (from wespeaker==0.0.0) (4.66.5)\n",
            "Requirement already satisfied: kaldiio in c:\\users\\nastya\\anaconda3\\lib\\site-packages (from wespeaker==0.0.0) (2.18.1)\n",
            "Requirement already satisfied: hdbscan==0.8.37 in c:\\users\\nastya\\anaconda3\\lib\\site-packages (from wespeaker==0.0.0) (0.8.37)\n",
            "Requirement already satisfied: umap-learn==0.5.6 in c:\\users\\nastya\\anaconda3\\lib\\site-packages (from wespeaker==0.0.0) (0.5.6)\n",
            "Requirement already satisfied: torch>=1.12.0 in c:\\users\\nastya\\anaconda3\\lib\\site-packages (from wespeaker==0.0.0) (2.6.0)\n",
            "Requirement already satisfied: torchaudio>=0.12.0 in c:\\users\\nastya\\anaconda3\\lib\\site-packages (from wespeaker==0.0.0) (2.6.0)\n",
            "Requirement already satisfied: silero-vad in c:\\users\\nastya\\anaconda3\\lib\\site-packages (from wespeaker==0.0.0) (5.1.2)\n",
            "Requirement already satisfied: cython<3,>=0.27 in c:\\users\\nastya\\anaconda3\\lib\\site-packages (from hdbscan==0.8.37->wespeaker==0.0.0) (0.29.37)\n",
            "Requirement already satisfied: numpy<2,>=1.20 in c:\\users\\nastya\\anaconda3\\lib\\site-packages (from hdbscan==0.8.37->wespeaker==0.0.0) (1.26.4)\n",
            "Requirement already satisfied: scipy>=1.0 in c:\\users\\nastya\\anaconda3\\lib\\site-packages (from hdbscan==0.8.37->wespeaker==0.0.0) (1.13.1)\n",
            "Requirement already satisfied: scikit-learn>=0.20 in c:\\users\\nastya\\anaconda3\\lib\\site-packages (from hdbscan==0.8.37->wespeaker==0.0.0) (1.5.1)\n",
            "Requirement already satisfied: joblib>=1.0 in c:\\users\\nastya\\anaconda3\\lib\\site-packages (from hdbscan==0.8.37->wespeaker==0.0.0) (1.4.2)\n",
            "Requirement already satisfied: numba>=0.51.2 in c:\\users\\nastya\\anaconda3\\lib\\site-packages (from umap-learn==0.5.6->wespeaker==0.0.0) (0.60.0)\n",
            "Requirement already satisfied: pynndescent>=0.5 in c:\\users\\nastya\\anaconda3\\lib\\site-packages (from umap-learn==0.5.6->wespeaker==0.0.0) (0.5.13)\n",
            "Requirement already satisfied: filelock in c:\\users\\nastya\\anaconda3\\lib\\site-packages (from torch>=1.12.0->wespeaker==0.0.0) (3.13.1)\n",
            "Requirement already satisfied: typing-extensions>=4.10.0 in c:\\users\\nastya\\anaconda3\\lib\\site-packages (from torch>=1.12.0->wespeaker==0.0.0) (4.11.0)\n",
            "Requirement already satisfied: networkx in c:\\users\\nastya\\anaconda3\\lib\\site-packages (from torch>=1.12.0->wespeaker==0.0.0) (3.3)\n",
            "Requirement already satisfied: jinja2 in c:\\users\\nastya\\anaconda3\\lib\\site-packages (from torch>=1.12.0->wespeaker==0.0.0) (3.1.4)\n",
            "Requirement already satisfied: fsspec in c:\\users\\nastya\\anaconda3\\lib\\site-packages (from torch>=1.12.0->wespeaker==0.0.0) (2024.6.1)\n",
            "Requirement already satisfied: setuptools in c:\\users\\nastya\\anaconda3\\lib\\site-packages (from torch>=1.12.0->wespeaker==0.0.0) (75.1.0)\n",
            "Requirement already satisfied: sympy==1.13.1 in c:\\users\\nastya\\anaconda3\\lib\\site-packages (from torch>=1.12.0->wespeaker==0.0.0) (1.13.1)\n",
            "Requirement already satisfied: mpmath<1.4,>=1.1.0 in c:\\users\\nastya\\anaconda3\\lib\\site-packages (from sympy==1.13.1->torch>=1.12.0->wespeaker==0.0.0) (1.3.0)\n",
            "Requirement already satisfied: onnxruntime>=1.16.1 in c:\\users\\nastya\\anaconda3\\lib\\site-packages (from silero-vad->wespeaker==0.0.0) (1.21.0)\n",
            "Requirement already satisfied: colorama in c:\\users\\nastya\\anaconda3\\lib\\site-packages (from tqdm->wespeaker==0.0.0) (0.4.6)\n",
            "Requirement already satisfied: llvmlite<0.44,>=0.43.0dev0 in c:\\users\\nastya\\anaconda3\\lib\\site-packages (from numba>=0.51.2->umap-learn==0.5.6->wespeaker==0.0.0) (0.43.0)\n",
            "Requirement already satisfied: coloredlogs in c:\\users\\nastya\\anaconda3\\lib\\site-packages (from onnxruntime>=1.16.1->silero-vad->wespeaker==0.0.0) (15.0.1)\n",
            "Requirement already satisfied: flatbuffers in c:\\users\\nastya\\anaconda3\\lib\\site-packages (from onnxruntime>=1.16.1->silero-vad->wespeaker==0.0.0) (25.2.10)\n",
            "Requirement already satisfied: packaging in c:\\users\\nastya\\anaconda3\\lib\\site-packages (from onnxruntime>=1.16.1->silero-vad->wespeaker==0.0.0) (24.1)\n",
            "Requirement already satisfied: protobuf in c:\\users\\nastya\\anaconda3\\lib\\site-packages (from onnxruntime>=1.16.1->silero-vad->wespeaker==0.0.0) (5.29.4)\n",
            "Requirement already satisfied: threadpoolctl>=3.1.0 in c:\\users\\nastya\\anaconda3\\lib\\site-packages (from scikit-learn>=0.20->hdbscan==0.8.37->wespeaker==0.0.0) (3.5.0)\n",
            "Requirement already satisfied: MarkupSafe>=2.0 in c:\\users\\nastya\\anaconda3\\lib\\site-packages (from jinja2->torch>=1.12.0->wespeaker==0.0.0) (2.1.3)\n",
            "Requirement already satisfied: humanfriendly>=9.1 in c:\\users\\nastya\\anaconda3\\lib\\site-packages (from coloredlogs->onnxruntime>=1.16.1->silero-vad->wespeaker==0.0.0) (10.0)\n",
            "Requirement already satisfied: pyreadline3 in c:\\users\\nastya\\anaconda3\\lib\\site-packages (from humanfriendly>=9.1->coloredlogs->onnxruntime>=1.16.1->silero-vad->wespeaker==0.0.0) (3.5.4)\n"
          ]
        },
        {
          "name": "stderr",
          "output_type": "stream",
          "text": [
            "DEPRECATION: Loading egg at c:\\users\\nastya\\anaconda3\\lib\\site-packages\\torchdistance-0.1-py3.12-win-amd64.egg is deprecated. pip 24.3 will enforce this behaviour change. A possible replacement is to use pip for package installation. Discussion can be found at https://github.com/pypa/pip/issues/12330\n",
            "  Running command git clone --filter=blob:none --quiet https://github.com/wenet-e2e/wespeaker.git 'C:\\Users\\Nastya\\AppData\\Local\\Temp\\pip-req-build-yqz8aawb'\n"
          ]
        }
      ],
      "source": [
        "!pip install git+https://github.com/wenet-e2e/wespeaker.git"
      ]
    },
    {
      "cell_type": "code",
      "execution_count": 25,
      "metadata": {
        "id": "2u_MjIFO9Lz_"
      },
      "outputs": [],
      "source": [
        "import wespeaker\n",
        "import os\n",
        "import zipfile\n",
        "from pathlib import Path\n",
        "import numpy as np\n",
        "import matplotlib.pyplot as plt\n",
        "from sklearn.preprocessing import LabelEncoder\n",
        "from sklearn.metrics import accuracy_score, f1_score\n",
        "from torch.utils.data import Dataset, DataLoader\n",
        "import torch\n",
        "import torch.nn as nn\n",
        "import torch.optim as optim\n",
        "import torchaudio\n",
        "import torchaudio.compliance.kaldi as kaldi\n",
        "from tqdm import tqdm\n",
        "import pandas as pd"
      ]
    },
    {
      "cell_type": "code",
      "execution_count": 26,
      "metadata": {
        "id": "bsGV7v4H9o-1"
      },
      "outputs": [],
      "source": [
        "with zipfile.ZipFile(r'C:\\Users\\Nastya\\Desktop\\nationality\\datasetNationality.zip', 'r') as zip_ref:\n",
        "    zip_ref.extractall('dataset')\n",
        "\n",
        "with zipfile.ZipFile(r'C:\\Users\\Nastya\\Desktop\\nationality\\voxblink2_samresnet34.zip', 'r') as zip_ref:\n",
        "    zip_ref.extractall('model')"
      ]
    },
    {
      "cell_type": "markdown",
      "metadata": {
        "id": "K0md91B99h4v"
      },
      "source": [
        "### Функции для получения активаций"
      ]
    },
    {
      "cell_type": "code",
      "execution_count": 3,
      "metadata": {
        "id": "YK72HZXm9hMo"
      },
      "outputs": [],
      "source": [
        "class ActivationDataset(Dataset):\n",
        "    def __init__(self, activations, labels):\n",
        "        self.X = self.pad_activations(activations)\n",
        "        self.y = torch.tensor(labels, dtype=torch.long)\n",
        "\n",
        "    def __getitem__(self, idx):\n",
        "        return self.X[idx], self.y[idx]\n",
        "\n",
        "    def __len__(self):\n",
        "        return len(self.y)\n",
        "\n",
        "    def pad_activations(self, activations):\n",
        "        activations = [act.view(1, -1) if len(act.shape) != 2 else act for act in activations]\n",
        "        max_len = max(act.shape[1] for act in activations)\n",
        "\n",
        "        padded_activations = [\n",
        "            torch.nn.functional.pad(act, (0, max_len - act.shape[1]))\n",
        "            for act in activations\n",
        "        ]\n",
        "\n",
        "        return torch.stack(padded_activations).squeeze(1)"
      ]
    },
    {
      "cell_type": "code",
      "execution_count": 4,
      "metadata": {
        "id": "Vm1KGsPl-oVN"
      },
      "outputs": [],
      "source": [
        "class GetActivations(nn.Module):\n",
        "    \"\"\"\n",
        "    Class for getting activations from a model.\n",
        "    \"\"\"\n",
        "\n",
        "    def __init__(self, model):\n",
        "        super(GetActivations, self).__init__()\n",
        "        self.model = model\n",
        "\n",
        "    def forward(self, x):\n",
        "        out = x.permute(0, 2, 1)\n",
        "        activations = []\n",
        "        model_front = self.model.model.front\n",
        "\n",
        "        x = out.unsqueeze(dim=1)\n",
        "\n",
        "        out = model_front.relu(model_front.bn1(model_front.conv1(x)))\n",
        "        activations.append({\"first relu\": out})\n",
        "\n",
        "        for name, layer in model_front.named_children():\n",
        "            c_sim = 0\n",
        "            c_relu = 0\n",
        "            if name in ['layer1', 'layer2', 'layer3', 'layer4']:\n",
        "                for sec_name, sec_layer in layer.named_children():\n",
        "                    identity = out\n",
        "\n",
        "                    out = sec_layer.relu(sec_layer.bn1(sec_layer.conv1(out)))\n",
        "                    c_relu += 1\n",
        "                    activations.append({f\"{name} relu {c_relu}\": out})\n",
        "\n",
        "                    out = sec_layer.bn2(sec_layer.conv2(out))\n",
        "                    out = sec_layer.SimAM(out)\n",
        "                    c_sim += 1\n",
        "                    activations.append({f\"{name} SimAM {c_sim}\": out})\n",
        "\n",
        "                    if sec_layer.downsample is not None:\n",
        "                        identity = sec_layer.downsample(identity)\n",
        "\n",
        "                    out += identity\n",
        "                    out = sec_layer.relu(out)\n",
        "                    c_relu += 1\n",
        "                    activations.append({f\"{name} relu {c_relu}\": out})\n",
        "\n",
        "        out = self.model.model.pooling(out)\n",
        "        activations.append({\"pooling\": out})\n",
        "\n",
        "        if self.model.model.drop:\n",
        "            out = self.model.model.drop(out)\n",
        "\n",
        "        out = self.model.model.bottleneck(out)\n",
        "\n",
        "        return activations, out"
      ]
    },
    {
      "cell_type": "code",
      "execution_count": 5,
      "metadata": {
        "id": "_7CRjkFw-sGo"
      },
      "outputs": [],
      "source": [
        "class NationalityCls(nn.Module):\n",
        "    \"\"\"\n",
        "    Model class for nationality classification\n",
        "    \"\"\"\n",
        "\n",
        "    def __init__(self, input_size, num_classes=16):\n",
        "        super(NationalityCls, self).__init__()\n",
        "        self.fc = nn.Linear(input_size, num_classes)\n",
        "\n",
        "    def forward(self, x):\n",
        "        return self.fc(x)"
      ]
    },
    {
      "cell_type": "code",
      "execution_count": 6,
      "metadata": {
        "id": "qu8c3NtpB_3I"
      },
      "outputs": [],
      "source": [
        "def compute_fbank(wavform,\n",
        "                  sample_rate=16000,\n",
        "                  num_mel_bins=80,\n",
        "                  frame_length=25,\n",
        "                  frame_shift=10,\n",
        "                  cmn=True):\n",
        "    feat = kaldi.fbank(wavform,\n",
        "                       num_mel_bins=num_mel_bins,\n",
        "                       frame_length=frame_length,\n",
        "                       frame_shift=frame_shift,\n",
        "                       sample_frequency=sample_rate)\n",
        "    if cmn:\n",
        "        feat = feat - torch.mean(feat, 0)\n",
        "    return feat"
      ]
    },
    {
      "cell_type": "code",
      "execution_count": 7,
      "metadata": {
        "id": "7LSDvx80By47"
      },
      "outputs": [],
      "source": [
        "resample_rate = 16000\n",
        "device = torch.device(\"cuda\" if torch.cuda.is_available() else \"cpu\")\n",
        "\n",
        "def extract_feature_from_pcm(pcm: torch.Tensor, sample_rate: int):\n",
        "    pcm = pcm.to(torch.float)\n",
        "    if sample_rate != resample_rate:\n",
        "        pcm = torchaudio.transforms.Resample(\n",
        "            orig_freq=sample_rate, new_freq=resample_rate)(pcm)\n",
        "    feats = compute_fbank(pcm,\n",
        "                          sample_rate=resample_rate,\n",
        "                          cmn=True)\n",
        "    feats = feats.unsqueeze(0)\n",
        "    feats = feats.to(device)\n",
        "\n",
        "    return feats"
      ]
    },
    {
      "cell_type": "code",
      "execution_count": 8,
      "metadata": {
        "id": "30ti-3TGCBLC"
      },
      "outputs": [],
      "source": [
        "def extract_features(pcm: torch.Tensor, sample_rate: int):\n",
        "    return extract_feature_from_pcm(pcm, sample_rate)"
      ]
    },
    {
      "cell_type": "code",
      "execution_count": 9,
      "metadata": {
        "id": "WLIknZMx-4N9"
      },
      "outputs": [],
      "source": [
        "def get_activations(model, audio_path, device, target_samples=16000):\n",
        "    \"\"\"\n",
        "    Gets model activations.\n",
        "    \"\"\"\n",
        "    waveform, sr = torchaudio.load(audio_path)\n",
        "\n",
        "    if waveform.shape[1] > target_samples:\n",
        "        waveform = waveform[:, :target_samples]\n",
        "    else:\n",
        "        padding = target_samples - waveform.shape[1]\n",
        "        waveform = torch.nn.functional.pad(waveform, (0, padding))\n",
        "\n",
        "    feats = extract_features(waveform, sr)\n",
        "\n",
        "    with torch.no_grad():\n",
        "        activations = model(feats)\n",
        "\n",
        "    return {\n",
        "        'file_path': str(audio_path),\n",
        "        'act': activations[0] if isinstance(activations, tuple) else activations\n",
        "    }"
      ]
    },
    {
      "cell_type": "code",
      "execution_count": 10,
      "metadata": {
        "id": "-DZpWu1GCO0-"
      },
      "outputs": [],
      "source": [
        "def get_activations_for_layer(model, audio_files, device,\n",
        "                              layer_name, labels, target_samples=16000):\n",
        "    \"\"\"\n",
        "    Gets model activations for a specified layer.\n",
        "    \"\"\"\n",
        "    label_encoder = LabelEncoder()\n",
        "    labels = label_encoder.fit_transform(labels)\n",
        "\n",
        "    activations = []\n",
        "    with torch.no_grad():\n",
        "        for audio_input in tqdm(audio_files, desc=f\"Extracting {layer_name}\"):\n",
        "            waveform, sr = torchaudio.load(str(audio_input))\n",
        "            if waveform.shape[1] > target_samples:\n",
        "                waveform = waveform[:, :target_samples]\n",
        "            else:\n",
        "                padding = target_samples - waveform.shape[1]\n",
        "                waveform = torch.nn.functional.pad(waveform, (0, padding))\n",
        "            feats = extract_features(waveform, sr)\n",
        "\n",
        "            feats = feats.to(device)\n",
        "            acts, _ = model(feats)\n",
        "\n",
        "            activation = next((d[layer_name] for d in acts if layer_name in d), None)\n",
        "            if activation is not None:\n",
        "                activations.append(activation.cpu())\n",
        "\n",
        "    return activations, labels"
      ]
    },
    {
      "cell_type": "code",
      "execution_count": 11,
      "metadata": {
        "id": "wNw6_rAcC7T4"
      },
      "outputs": [],
      "source": [
        "def train(train_loader, input_size, layer, device, num_epochs=10):\n",
        "    \"\"\"\n",
        "    Train a model on a train dataset\n",
        "    \"\"\"\n",
        "    model = NationalityCls(input_size).to(device)\n",
        "    criterion = nn.CrossEntropyLoss()\n",
        "    optimizer = optim.Adam(model.parameters())\n",
        "\n",
        "    for epoch in tqdm(range(num_epochs), desc=\"Training Progress\"):\n",
        "        model.train()\n",
        "\n",
        "        for X, y in train_loader:\n",
        "            X = X.to(device)\n",
        "\n",
        "            outputs = model(X)\n",
        "            loss = criterion(outputs, y.to(device))\n",
        "\n",
        "            optimizer.zero_grad()\n",
        "            loss.backward()\n",
        "            optimizer.step()\n",
        "\n",
        "    return model"
      ]
    },
    {
      "cell_type": "code",
      "execution_count": 12,
      "metadata": {
        "id": "qYzfd70RC710"
      },
      "outputs": [],
      "source": [
        "def evaluate(model, test_loader, device):\n",
        "    \"\"\"\n",
        "    Evaluates a model on a test dataset.\n",
        "    Calculates accuracy and f1-score\n",
        "    \"\"\"\n",
        "    model.eval()\n",
        "    y_true, y_pred = [], []\n",
        "    with torch.no_grad():\n",
        "        for X, y in tqdm(\n",
        "                test_loader, desc=\"Evaluation Progress\"):\n",
        "            X, y = X.to(device), y.to(device)\n",
        "            outputs = model(X)\n",
        "            preds = outputs.argmax(axis=1)\n",
        "\n",
        "            y_true.extend(y.cpu().numpy())\n",
        "            y_pred.extend(preds.cpu().numpy())\n",
        "\n",
        "    y_true = np.array(y_true)\n",
        "    y_pred = np.array(y_pred)\n",
        "\n",
        "    metrics = {\n",
        "        \"accuracy\": accuracy_score(y_true, y_pred),\n",
        "        \"f1_score\": f1_score(y_true, y_pred, average=\"weighted\")\n",
        "    }\n",
        "\n",
        "    return metrics"
      ]
    },
    {
      "cell_type": "code",
      "execution_count": 13,
      "metadata": {
        "id": "NrkyUltUC975"
      },
      "outputs": [],
      "source": [
        "def plot_metrics(metrics_list, save_path):\n",
        "    layers = [m[0] for m in metrics_list]\n",
        "    accuracies = [m[1][\"accuracy\"] for m in metrics_list]\n",
        "    f1_scores = [m[1][\"f1_score\"] for m in metrics_list]\n",
        "\n",
        "    plt.figure(figsize=(10, 5))\n",
        "\n",
        "    plt.subplot(1, 2, 1)\n",
        "    plt.plot(range(1, len(layers)+1), accuracies, color='b', label=\"Accuracy\")\n",
        "    plt.xlabel(\"Layers\")\n",
        "    plt.ylabel(\"Accuracy\")\n",
        "    plt.title(\"Accuracy across layers\")\n",
        "    plt.legend()\n",
        "\n",
        "    plt.subplot(1, 2, 2)\n",
        "    plt.plot(range(1, len(layers)+1), f1_scores, color='g', label=\"F1-score\")\n",
        "    plt.xlabel(\"Layers\")\n",
        "    plt.ylabel(\"F1-score\")\n",
        "    plt.title(\"F1-score across layers\")\n",
        "    plt.legend()\n",
        "\n",
        "    plt.tight_layout()\n",
        "    plt.savefig(save_path)"
      ]
    },
    {
      "cell_type": "code",
      "execution_count": 14,
      "metadata": {
        "id": "TrU8lJVZDBUa"
      },
      "outputs": [],
      "source": [
        "def save_metrics(metrics_list, save_path):\n",
        "    \"\"\"\n",
        "    Saves computed metrics in .txt file\n",
        "    \"\"\"\n",
        "    os.makedirs(os.path.dirname(save_path), exist_ok=True)\n",
        "\n",
        "    with open(save_path, 'w') as f:\n",
        "        for layer, metrics in metrics_list:\n",
        "            f.write(f\"{layer}\\n\")\n",
        "            for key, value in metrics.items():\n",
        "                f.write(f\"{key}: {value}\\n\")"
      ]
    },
    {
      "cell_type": "markdown",
      "metadata": {
        "id": "gMl7pOrCDR-H"
      },
      "source": [
        "### Получение активаций"
      ]
    },
    {
      "cell_type": "code",
      "execution_count": 27,
      "metadata": {
        "id": "VhC1ZVjwDDgz"
      },
      "outputs": [],
      "source": [
        "df_train = pd.read_csv(r\"C:\\Users\\Nastya\\Desktop\\nationality\\dataset\\train_data.csv\")\n",
        "df_test = pd.read_csv(r\"C:\\Users\\Nastya\\Desktop\\nationality\\dataset\\test_data.csv\")"
      ]
    },
    {
      "cell_type": "code",
      "execution_count": 28,
      "metadata": {
        "id": "hJfRQVj0EPQr"
      },
      "outputs": [],
      "source": [
        "df_train[\"filename\"] = \"C:/Users/Nastya/Desktop/nationality/dataset/\" + df_train[\"filename\"]\n",
        "df_test[\"filename\"] = \"C:/Users/Nastya/Desktop/nationality/dataset/\" + df_test[\"filename\"]"
      ]
    },
    {
      "cell_type": "code",
      "execution_count": 29,
      "metadata": {
        "id": "BsqThvYEElfF"
      },
      "outputs": [],
      "source": [
        "train_files = df_train[\"filename\"].to_list()\n",
        "test_files = df_test[\"filename\"].to_list()\n",
        "\n",
        "train_labels = df_train[\"accent\"].to_list()\n",
        "test_labels = df_test[\"accent\"].to_list()"
      ]
    },
    {
      "cell_type": "code",
      "execution_count": 30,
      "metadata": {
        "id": "8KaVdGYDFANA"
      },
      "outputs": [],
      "source": [
        "device = torch.device(\"cuda\" if torch.cuda.is_available() else \"cpu\")\n",
        "\n",
        "model = wespeaker.load_model_local(\"model/voxblink2_samresnet34\")\n",
        "model.set_device(device)\n",
        "\n",
        "acts_model = GetActivations(model)\n",
        "acts = get_activations(acts_model, train_files[0], device)\n",
        "layers = [list(item.keys())[0] for item in acts['act']]"
      ]
    },
    {
      "cell_type": "code",
      "execution_count": 33,
      "metadata": {},
      "outputs": [],
      "source": [
        "import os\n",
        "\n",
        "out_dir = r\"C:\\Users\\Nastya\\Desktop\\Nationality\\models_test\"\n",
        "os.makedirs(out_dir, exist_ok=True)"
      ]
    },
    {
      "cell_type": "code",
      "execution_count": 34,
      "metadata": {
        "colab": {
          "base_uri": "https://localhost:8080/"
        },
        "id": "WsE_1_k2GIUL",
        "outputId": "ead79c25-5e7a-4510-80f8-4b5c60c12167"
      },
      "outputs": [
        {
          "name": "stderr",
          "output_type": "stream",
          "text": [
            "Extracting first relu: 100%|██████████| 1829/1829 [03:58<00:00,  7.66it/s]\n",
            "Extracting first relu: 100%|██████████| 463/463 [01:02<00:00,  7.37it/s]\n",
            "Training Progress: 100%|██████████| 10/10 [00:23<00:00,  2.34s/it]\n",
            "Evaluation Progress: 100%|██████████| 29/29 [00:00<00:00, 176.89it/s]\n",
            "Extracting layer1 relu 1: 100%|██████████| 1829/1829 [05:37<00:00,  5.42it/s]\n",
            "Extracting layer1 relu 1: 100%|██████████| 463/463 [02:41<00:00,  2.87it/s]\n",
            "Training Progress: 100%|██████████| 10/10 [01:06<00:00,  6.64s/it]\n",
            "Evaluation Progress: 100%|██████████| 29/29 [00:00<00:00, 87.99it/s]\n",
            "Extracting layer1 SimAM 1: 100%|██████████| 1829/1829 [05:59<00:00,  5.09it/s]\n",
            "Extracting layer1 SimAM 1: 100%|██████████| 463/463 [01:02<00:00,  7.42it/s]\n",
            "Training Progress: 100%|██████████| 10/10 [00:24<00:00,  2.47s/it]\n",
            "Evaluation Progress: 100%|██████████| 29/29 [00:00<00:00, 208.69it/s]\n",
            "Extracting layer1 relu 2: 100%|██████████| 1829/1829 [04:07<00:00,  7.40it/s]\n",
            "Extracting layer1 relu 2: 100%|██████████| 463/463 [01:02<00:00,  7.36it/s]\n",
            "Training Progress: 100%|██████████| 10/10 [00:25<00:00,  2.54s/it]\n",
            "Evaluation Progress: 100%|██████████| 29/29 [00:00<00:00, 160.08it/s]\n",
            "Extracting layer1 relu 3: 100%|██████████| 1829/1829 [04:09<00:00,  7.33it/s]\n",
            "Extracting layer1 relu 3: 100%|██████████| 463/463 [01:02<00:00,  7.35it/s]\n",
            "Training Progress: 100%|██████████| 10/10 [00:24<00:00,  2.48s/it]\n",
            "Evaluation Progress: 100%|██████████| 29/29 [00:00<00:00, 207.10it/s]\n",
            "Extracting layer1 SimAM 2: 100%|██████████| 1829/1829 [04:07<00:00,  7.40it/s]\n",
            "Extracting layer1 SimAM 2: 100%|██████████| 463/463 [02:06<00:00,  3.65it/s]\n",
            "Training Progress: 100%|██████████| 10/10 [02:01<00:00, 12.13s/it]\n",
            "Evaluation Progress: 100%|██████████| 29/29 [00:00<00:00, 63.37it/s]\n",
            "Extracting layer1 relu 4: 100%|██████████| 1829/1829 [08:18<00:00,  3.67it/s]\n",
            "Extracting layer1 relu 4: 100%|██████████| 463/463 [03:06<00:00,  2.49it/s]\n",
            "Training Progress: 100%|██████████| 10/10 [00:33<00:00,  3.31s/it]\n",
            "Evaluation Progress: 100%|██████████| 29/29 [00:00<00:00, 208.52it/s]\n",
            "Extracting layer1 relu 5: 100%|██████████| 1829/1829 [06:07<00:00,  4.98it/s]\n",
            "Extracting layer1 relu 5: 100%|██████████| 463/463 [01:03<00:00,  7.28it/s]\n",
            "Training Progress: 100%|██████████| 10/10 [00:25<00:00,  2.50s/it]\n",
            "Evaluation Progress: 100%|██████████| 29/29 [00:00<00:00, 250.67it/s]\n",
            "Extracting layer1 SimAM 3: 100%|██████████| 1829/1829 [04:05<00:00,  7.45it/s]\n",
            "Extracting layer1 SimAM 3: 100%|██████████| 463/463 [01:02<00:00,  7.35it/s]\n",
            "Training Progress: 100%|██████████| 10/10 [00:33<00:00,  3.35s/it]\n",
            "Evaluation Progress: 100%|██████████| 29/29 [00:00<00:00, 321.38it/s]\n",
            "Extracting layer1 relu 6: 100%|██████████| 1829/1829 [04:06<00:00,  7.41it/s]\n",
            "Extracting layer1 relu 6: 100%|██████████| 463/463 [01:01<00:00,  7.49it/s]\n",
            "Training Progress: 100%|██████████| 10/10 [00:32<00:00,  3.23s/it]\n",
            "Evaluation Progress: 100%|██████████| 29/29 [00:00<00:00, 247.05it/s]\n",
            "Extracting layer2 relu 1: 100%|██████████| 1829/1829 [04:02<00:00,  7.55it/s]\n",
            "Extracting layer2 relu 1: 100%|██████████| 463/463 [00:59<00:00,  7.78it/s]\n",
            "Training Progress: 100%|██████████| 10/10 [00:14<00:00,  1.48s/it]\n",
            "Evaluation Progress: 100%|██████████| 29/29 [00:00<00:00, 264.50it/s]\n",
            "Extracting layer2 SimAM 1: 100%|██████████| 1829/1829 [03:56<00:00,  7.74it/s]\n",
            "Extracting layer2 SimAM 1: 100%|██████████| 463/463 [01:00<00:00,  7.70it/s]\n",
            "Training Progress: 100%|██████████| 10/10 [00:14<00:00,  1.43s/it]\n",
            "Evaluation Progress: 100%|██████████| 29/29 [00:00<00:00, 354.99it/s]\n",
            "Extracting layer2 relu 2: 100%|██████████| 1829/1829 [03:54<00:00,  7.79it/s]\n",
            "Extracting layer2 relu 2: 100%|██████████| 463/463 [00:59<00:00,  7.82it/s]\n",
            "Training Progress: 100%|██████████| 10/10 [00:14<00:00,  1.43s/it]\n",
            "Evaluation Progress: 100%|██████████| 29/29 [00:00<00:00, 254.04it/s]\n",
            "Extracting layer2 relu 3: 100%|██████████| 1829/1829 [03:53<00:00,  7.84it/s]\n",
            "Extracting layer2 relu 3: 100%|██████████| 463/463 [00:59<00:00,  7.84it/s]\n",
            "Training Progress: 100%|██████████| 10/10 [00:13<00:00,  1.40s/it]\n",
            "Evaluation Progress: 100%|██████████| 29/29 [00:00<00:00, 245.42it/s]\n",
            "Extracting layer2 SimAM 2: 100%|██████████| 1829/1829 [03:57<00:00,  7.71it/s]\n",
            "Extracting layer2 SimAM 2: 100%|██████████| 463/463 [00:58<00:00,  7.89it/s]\n",
            "Training Progress: 100%|██████████| 10/10 [00:13<00:00,  1.39s/it]\n",
            "Evaluation Progress: 100%|██████████| 29/29 [00:00<00:00, 350.75it/s]\n",
            "Extracting layer2 relu 4: 100%|██████████| 1829/1829 [03:53<00:00,  7.85it/s]\n",
            "Extracting layer2 relu 4: 100%|██████████| 463/463 [00:59<00:00,  7.73it/s]\n",
            "Training Progress: 100%|██████████| 10/10 [00:14<00:00,  1.41s/it]\n",
            "Evaluation Progress: 100%|██████████| 29/29 [00:00<00:00, 387.66it/s]\n",
            "Extracting layer2 relu 5: 100%|██████████| 1829/1829 [03:56<00:00,  7.72it/s]\n",
            "Extracting layer2 relu 5: 100%|██████████| 463/463 [01:00<00:00,  7.72it/s]\n",
            "Training Progress: 100%|██████████| 10/10 [00:13<00:00,  1.37s/it]\n",
            "Evaluation Progress: 100%|██████████| 29/29 [00:00<00:00, 378.18it/s]\n",
            "Extracting layer2 SimAM 3: 100%|██████████| 1829/1829 [03:54<00:00,  7.80it/s]\n",
            "Extracting layer2 SimAM 3: 100%|██████████| 463/463 [00:58<00:00,  7.85it/s]\n",
            "Training Progress: 100%|██████████| 10/10 [00:14<00:00,  1.41s/it]\n",
            "Evaluation Progress: 100%|██████████| 29/29 [00:00<00:00, 257.74it/s]\n",
            "Extracting layer2 relu 6: 100%|██████████| 1829/1829 [03:54<00:00,  7.79it/s]\n",
            "Extracting layer2 relu 6: 100%|██████████| 463/463 [00:59<00:00,  7.78it/s]\n",
            "Training Progress: 100%|██████████| 10/10 [00:14<00:00,  1.46s/it]\n",
            "Evaluation Progress: 100%|██████████| 29/29 [00:00<00:00, 295.10it/s]\n",
            "Extracting layer2 relu 7: 100%|██████████| 1829/1829 [03:56<00:00,  7.74it/s]\n",
            "Extracting layer2 relu 7: 100%|██████████| 463/463 [00:58<00:00,  7.91it/s]\n",
            "Training Progress: 100%|██████████| 10/10 [00:13<00:00,  1.37s/it]\n",
            "Evaluation Progress: 100%|██████████| 29/29 [00:00<00:00, 392.60it/s]\n",
            "Extracting layer2 SimAM 4: 100%|██████████| 1829/1829 [04:13<00:00,  7.21it/s]\n",
            "Extracting layer2 SimAM 4: 100%|██████████| 463/463 [01:10<00:00,  6.53it/s]\n",
            "Training Progress: 100%|██████████| 10/10 [00:14<00:00,  1.44s/it]\n",
            "Evaluation Progress: 100%|██████████| 29/29 [00:00<00:00, 290.70it/s]\n",
            "Extracting layer2 relu 8: 100%|██████████| 1829/1829 [04:17<00:00,  7.10it/s]\n",
            "Extracting layer2 relu 8: 100%|██████████| 463/463 [01:00<00:00,  7.69it/s]\n",
            "Training Progress: 100%|██████████| 10/10 [00:14<00:00,  1.44s/it]\n",
            "Evaluation Progress: 100%|██████████| 29/29 [00:00<00:00, 437.74it/s]\n",
            "Extracting layer3 relu 1: 100%|██████████| 1829/1829 [03:51<00:00,  7.90it/s]\n",
            "Extracting layer3 relu 1: 100%|██████████| 463/463 [00:59<00:00,  7.80it/s]\n",
            "Training Progress: 100%|██████████| 10/10 [00:06<00:00,  1.52it/s]\n",
            "Evaluation Progress: 100%|██████████| 29/29 [00:00<00:00, 666.07it/s]\n",
            "Extracting layer3 SimAM 1: 100%|██████████| 1829/1829 [03:56<00:00,  7.74it/s]\n",
            "Extracting layer3 SimAM 1: 100%|██████████| 463/463 [00:58<00:00,  7.90it/s]\n",
            "Training Progress: 100%|██████████| 10/10 [00:06<00:00,  1.51it/s]\n",
            "Evaluation Progress: 100%|██████████| 29/29 [00:00<00:00, 688.22it/s]\n",
            "Extracting layer3 relu 2: 100%|██████████| 1829/1829 [03:53<00:00,  7.82it/s]\n",
            "Extracting layer3 relu 2: 100%|██████████| 463/463 [00:59<00:00,  7.83it/s]\n",
            "Training Progress: 100%|██████████| 10/10 [00:06<00:00,  1.45it/s]\n",
            "Evaluation Progress: 100%|██████████| 29/29 [00:00<00:00, 825.48it/s]\n",
            "Extracting layer3 relu 3: 100%|██████████| 1829/1829 [03:53<00:00,  7.83it/s]\n",
            "Extracting layer3 relu 3: 100%|██████████| 463/463 [01:00<00:00,  7.68it/s]\n",
            "Training Progress: 100%|██████████| 10/10 [00:06<00:00,  1.48it/s]\n",
            "Evaluation Progress: 100%|██████████| 29/29 [00:00<00:00, 611.56it/s]\n",
            "Extracting layer3 SimAM 2: 100%|██████████| 1829/1829 [03:55<00:00,  7.75it/s]\n",
            "Extracting layer3 SimAM 2: 100%|██████████| 463/463 [01:01<00:00,  7.49it/s]\n",
            "Training Progress: 100%|██████████| 10/10 [00:06<00:00,  1.54it/s]\n",
            "Evaluation Progress: 100%|██████████| 29/29 [00:00<00:00, 675.45it/s]\n",
            "Extracting layer3 relu 4: 100%|██████████| 1829/1829 [04:01<00:00,  7.58it/s]\n",
            "Extracting layer3 relu 4: 100%|██████████| 463/463 [00:58<00:00,  7.91it/s]\n",
            "Training Progress: 100%|██████████| 10/10 [00:06<00:00,  1.50it/s]\n",
            "Evaluation Progress: 100%|██████████| 29/29 [00:00<00:00, 649.05it/s]\n",
            "Extracting layer3 relu 5: 100%|██████████| 1829/1829 [03:58<00:00,  7.67it/s]\n",
            "Extracting layer3 relu 5: 100%|██████████| 463/463 [01:00<00:00,  7.69it/s]\n",
            "Training Progress: 100%|██████████| 10/10 [00:06<00:00,  1.44it/s]\n",
            "Evaluation Progress: 100%|██████████| 29/29 [00:00<00:00, 785.62it/s]\n",
            "Extracting layer3 SimAM 3: 100%|██████████| 1829/1829 [03:57<00:00,  7.70it/s]\n",
            "Extracting layer3 SimAM 3: 100%|██████████| 463/463 [01:00<00:00,  7.65it/s]\n",
            "Training Progress: 100%|██████████| 10/10 [00:06<00:00,  1.51it/s]\n",
            "Evaluation Progress: 100%|██████████| 29/29 [00:00<00:00, 605.23it/s]\n",
            "Extracting layer3 relu 6: 100%|██████████| 1829/1829 [03:59<00:00,  7.65it/s]\n",
            "Extracting layer3 relu 6: 100%|██████████| 463/463 [01:00<00:00,  7.71it/s]\n",
            "Training Progress: 100%|██████████| 10/10 [00:06<00:00,  1.46it/s]\n",
            "Evaluation Progress: 100%|██████████| 29/29 [00:00<00:00, 522.99it/s]\n",
            "Extracting layer3 relu 7: 100%|██████████| 1829/1829 [03:54<00:00,  7.80it/s]\n",
            "Extracting layer3 relu 7: 100%|██████████| 463/463 [00:59<00:00,  7.81it/s]\n",
            "Training Progress: 100%|██████████| 10/10 [00:06<00:00,  1.49it/s]\n",
            "Evaluation Progress: 100%|██████████| 29/29 [00:00<00:00, 557.90it/s]\n",
            "Extracting layer3 SimAM 4: 100%|██████████| 1829/1829 [03:54<00:00,  7.80it/s]\n",
            "Extracting layer3 SimAM 4: 100%|██████████| 463/463 [01:00<00:00,  7.62it/s]\n",
            "Training Progress: 100%|██████████| 10/10 [00:07<00:00,  1.40it/s]\n",
            "Evaluation Progress: 100%|██████████| 29/29 [00:00<00:00, 595.74it/s]\n",
            "Extracting layer3 relu 8: 100%|██████████| 1829/1829 [03:56<00:00,  7.75it/s]\n",
            "Extracting layer3 relu 8: 100%|██████████| 463/463 [01:00<00:00,  7.60it/s]\n",
            "Training Progress: 100%|██████████| 10/10 [00:06<00:00,  1.46it/s]\n",
            "Evaluation Progress: 100%|██████████| 29/29 [00:00<00:00, 498.80it/s]\n",
            "Extracting layer3 relu 9: 100%|██████████| 1829/1829 [03:58<00:00,  7.67it/s]\n",
            "Extracting layer3 relu 9: 100%|██████████| 463/463 [01:01<00:00,  7.55it/s]\n",
            "Training Progress: 100%|██████████| 10/10 [00:06<00:00,  1.50it/s]\n",
            "Evaluation Progress: 100%|██████████| 29/29 [00:00<00:00, 813.38it/s]\n",
            "Extracting layer3 SimAM 5: 100%|██████████| 1829/1829 [03:38<00:00,  8.37it/s]\n",
            "Extracting layer3 SimAM 5: 100%|██████████| 463/463 [00:57<00:00,  8.06it/s]\n",
            "Training Progress: 100%|██████████| 10/10 [00:06<00:00,  1.44it/s]\n",
            "Evaluation Progress: 100%|██████████| 29/29 [00:00<00:00, 561.92it/s]\n",
            "Extracting layer3 relu 10: 100%|██████████| 1829/1829 [03:51<00:00,  7.89it/s]\n",
            "Extracting layer3 relu 10: 100%|██████████| 463/463 [00:59<00:00,  7.85it/s]\n",
            "Training Progress: 100%|██████████| 10/10 [00:06<00:00,  1.52it/s]\n",
            "Evaluation Progress: 100%|██████████| 29/29 [00:00<00:00, 545.94it/s]\n",
            "Extracting layer3 relu 11: 100%|██████████| 1829/1829 [03:54<00:00,  7.79it/s]\n",
            "Extracting layer3 relu 11: 100%|██████████| 463/463 [00:57<00:00,  7.99it/s]\n",
            "Training Progress: 100%|██████████| 10/10 [00:06<00:00,  1.48it/s]\n",
            "Evaluation Progress: 100%|██████████| 29/29 [00:00<00:00, 600.89it/s]\n",
            "Extracting layer3 SimAM 6: 100%|██████████| 1829/1829 [03:48<00:00,  8.00it/s]\n",
            "Extracting layer3 SimAM 6: 100%|██████████| 463/463 [00:58<00:00,  7.97it/s]\n",
            "Training Progress: 100%|██████████| 10/10 [00:06<00:00,  1.54it/s]\n",
            "Evaluation Progress: 100%|██████████| 29/29 [00:00<00:00, 594.88it/s]\n",
            "Extracting layer3 relu 12: 100%|██████████| 1829/1829 [03:53<00:00,  7.83it/s]\n",
            "Extracting layer3 relu 12: 100%|██████████| 463/463 [01:00<00:00,  7.63it/s]\n",
            "Training Progress: 100%|██████████| 10/10 [00:06<00:00,  1.49it/s]\n",
            "Evaluation Progress: 100%|██████████| 29/29 [00:00<00:00, 565.95it/s]\n",
            "Extracting layer4 relu 1: 100%|██████████| 1829/1829 [06:12<00:00,  4.91it/s]\n",
            "Extracting layer4 relu 1: 100%|██████████| 463/463 [01:01<00:00,  7.55it/s]\n",
            "Training Progress: 100%|██████████| 10/10 [00:03<00:00,  3.01it/s]\n",
            "Evaluation Progress: 100%|██████████| 29/29 [00:00<00:00, 1272.86it/s]\n",
            "Extracting layer4 SimAM 1: 100%|██████████| 1829/1829 [04:31<00:00,  6.74it/s]\n",
            "Extracting layer4 SimAM 1: 100%|██████████| 463/463 [00:58<00:00,  7.92it/s]\n",
            "Training Progress: 100%|██████████| 10/10 [00:02<00:00,  3.46it/s]\n",
            "Evaluation Progress: 100%|██████████| 29/29 [00:00<00:00, 1102.29it/s]\n",
            "Extracting layer4 relu 2: 100%|██████████| 1829/1829 [03:44<00:00,  8.16it/s]\n",
            "Extracting layer4 relu 2: 100%|██████████| 463/463 [00:57<00:00,  8.08it/s]\n",
            "Training Progress: 100%|██████████| 10/10 [00:03<00:00,  3.04it/s]\n",
            "Evaluation Progress: 100%|██████████| 29/29 [00:00<00:00, 1119.13it/s]\n",
            "Extracting layer4 relu 3: 100%|██████████| 1829/1829 [03:42<00:00,  8.23it/s]\n",
            "Extracting layer4 relu 3: 100%|██████████| 463/463 [00:55<00:00,  8.36it/s]\n",
            "Training Progress: 100%|██████████| 10/10 [00:03<00:00,  3.33it/s]\n",
            "Evaluation Progress: 100%|██████████| 29/29 [00:00<00:00, 1217.52it/s]\n",
            "Extracting layer4 SimAM 2: 100%|██████████| 1829/1829 [03:41<00:00,  8.24it/s]\n",
            "Extracting layer4 SimAM 2: 100%|██████████| 463/463 [00:55<00:00,  8.30it/s]\n",
            "Training Progress: 100%|██████████| 10/10 [00:02<00:00,  3.61it/s]\n",
            "Evaluation Progress: 100%|██████████| 29/29 [00:00<00:00, 1646.05it/s]\n",
            "Extracting layer4 relu 4: 100%|██████████| 1829/1829 [03:40<00:00,  8.28it/s]\n",
            "Extracting layer4 relu 4: 100%|██████████| 463/463 [00:57<00:00,  8.03it/s]\n",
            "Training Progress: 100%|██████████| 10/10 [00:02<00:00,  3.57it/s]\n",
            "Evaluation Progress: 100%|██████████| 29/29 [00:00<00:00, 1459.66it/s]\n",
            "Extracting layer4 relu 5: 100%|██████████| 1829/1829 [04:12<00:00,  7.25it/s]\n",
            "Extracting layer4 relu 5: 100%|██████████| 463/463 [00:57<00:00,  8.10it/s]\n",
            "Training Progress: 100%|██████████| 10/10 [00:02<00:00,  3.51it/s]\n",
            "Evaluation Progress: 100%|██████████| 29/29 [00:00<00:00, 979.44it/s]\n",
            "Extracting layer4 SimAM 3: 100%|██████████| 1829/1829 [03:43<00:00,  8.20it/s]\n",
            "Extracting layer4 SimAM 3: 100%|██████████| 463/463 [00:57<00:00,  8.02it/s]\n",
            "Training Progress: 100%|██████████| 10/10 [00:02<00:00,  3.61it/s]\n",
            "Evaluation Progress: 100%|██████████| 29/29 [00:00<00:00, 1344.60it/s]\n",
            "Extracting layer4 relu 6: 100%|██████████| 1829/1829 [03:41<00:00,  8.26it/s]\n",
            "Extracting layer4 relu 6: 100%|██████████| 463/463 [00:54<00:00,  8.42it/s]\n",
            "Training Progress: 100%|██████████| 10/10 [00:02<00:00,  3.91it/s]\n",
            "Evaluation Progress: 100%|██████████| 29/29 [00:00<00:00, 1858.55it/s]\n",
            "Extracting pooling: 100%|██████████| 1829/1829 [03:42<00:00,  8.23it/s]\n",
            "Extracting pooling: 100%|██████████| 463/463 [00:55<00:00,  8.41it/s]\n",
            "Training Progress: 100%|██████████| 10/10 [00:01<00:00,  5.99it/s]\n",
            "Evaluation Progress: 100%|██████████| 29/29 [00:00<00:00, 2114.80it/s]\n"
          ]
        }
      ],
      "source": [
        "metrics_list = []\n",
        "\n",
        "for layer in layers:\n",
        "    train_acts, train_labels = get_activations_for_layer(\n",
        "        acts_model, train_files, device, layer, train_labels)\n",
        "    test_acts, test_labels = get_activations_for_layer(\n",
        "        acts_model, test_files, device, layer, test_labels)\n",
        "\n",
        "    train_dataset = ActivationDataset(train_acts, train_labels)\n",
        "    train_loader = DataLoader(train_dataset, batch_size=16, shuffle=True)\n",
        "\n",
        "    test_dataset = ActivationDataset(test_acts, test_labels)\n",
        "    test_loader = DataLoader(test_dataset, batch_size=16, shuffle=False)\n",
        "\n",
        "    trained_model = train(\n",
        "        train_loader, train_dataset.X.shape[-1], layer, device)\n",
        "    torch.save(trained_model.state_dict(),\n",
        "                f\"C:/Users/Nastya/Desktop/Nationality/models_test/{layer}.pth\")\n",
        "    metrics = evaluate(trained_model, test_loader, device)\n",
        "\n",
        "    metrics_list.append((layer, metrics))\n",
        "\n",
        "    torch.cuda.empty_cache()"
      ]
    },
    {
      "cell_type": "code",
      "execution_count": 35,
      "metadata": {},
      "outputs": [
        {
          "data": {
            "image/png": "[encoded data removed]",
            "text/plain": [
              "<Figure size 1000x500 with 2 Axes>"
            ]
          },
          "metadata": {},
          "output_type": "display_data"
        }
      ],
      "source": [
        "save_metrics(metrics_list, 'C:/Users/Nastya/Desktop/Nationality/probing.txt')\n",
        "plot_metrics(metrics_list, 'C:/Users/Nastya/Desktop/Nationality/probing.png')"
      ]
    }
  ],
  "metadata": {
    "accelerator": "GPU",
    "colab": {
      "gpuType": "T4",
      "provenance": []
    },
    "kernelspec": {
      "display_name": "base",
      "language": "python",
      "name": "python3"
    },
    "language_info": {
      "codemirror_mode": {
        "name": "ipython",
        "version": 3
      },
      "file_extension": ".py",
      "mimetype": "text/x-python",
      "name": "python",
      "nbconvert_exporter": "python",
      "pygments_lexer": "ipython3",
      "version": "3.12.7"
    }
  },
  "nbformat": 4,
  "nbformat_minor": 0
}
