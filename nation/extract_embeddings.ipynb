{
 "cells": [
  {
   "cell_type": "code",
   "execution_count": 27,
   "metadata": {},
   "outputs": [],
   "source": [
    "import chromadb\n",
    "import numpy as np\n",
    "import torch\n",
    "import wespeaker\n",
    "import pandas as pd\n",
    "import soundfile as sf\n",
    "from tqdm import tqdm"
   ]
  },
  {
   "cell_type": "code",
   "execution_count": 6,
   "metadata": {},
   "outputs": [],
   "source": [
    "df_train = pd.read_csv(r\"C:\\Users\\Nastya\\Desktop\\interp_dev-main\\dataset\\train_data.csv\")\n",
    "df_test = pd.read_csv(r\"C:\\Users\\Nastya\\Desktop\\interp_dev-main\\dataset\\test_data.csv\")\n",
    "\n",
    "train_audio_files = df_train[\"filename\"].to_list()\n",
    "test_audio_files = df_test[\"filename\"].to_list()"
   ]
  },
  {
   "cell_type": "code",
   "execution_count": 10,
   "metadata": {},
   "outputs": [],
   "source": [
    "device = torch.device(\"cuda\" if torch.cuda.is_available() else \"cpu\")\n",
    "pretrain_dir = r\"C:\\Users\\Nastya\\Desktop\\interp_dev-main\\voxblink2_samresnet34\""
   ]
  },
  {
   "cell_type": "code",
   "execution_count": 28,
   "metadata": {},
   "outputs": [],
   "source": [
    "def extract_embeddings(df, audio_files, device, pretrain_dir):\n",
    "    \"\"\"\n",
    "    Extracts embeddings from audio files using the WeSpeaker model\n",
    "    \"\"\"\n",
    "    model = wespeaker.load_model_local(pretrain_dir)\n",
    "    model.set_device(device)\n",
    "\n",
    "    embeddings = []\n",
    "\n",
    "    for audio_file in tqdm(audio_files):\n",
    "        file_path = \"C:/Users/Nastya/Desktop/interp_dev-main/dataset/\" + audio_file\n",
    "        \n",
    "        data, sample_rate = sf.read(file_path)\n",
    "        pcm = torch.from_numpy(data).float()\n",
    "        \n",
    "        if len(pcm.shape) == 1:\n",
    "            pcm = pcm.unsqueeze(0)  \n",
    "        elif len(pcm.shape) == 2:\n",
    "            pcm = pcm.transpose(0, 1) \n",
    "\n",
    "        embedding = model.extract_embedding_from_pcm(pcm, sample_rate)\n",
    "\n",
    "        embedding = embedding.cpu().numpy()\n",
    "        embeddings.append({\n",
    "            \"file_path\": file_path,\n",
    "            \"embedding\": embedding,\n",
    "            \"label\": df[df[\"filename\"] == audio_file][\"accent\"].item()\n",
    "        })\n",
    "\n",
    "    return embeddings"
   ]
  },
  {
   "cell_type": "code",
   "execution_count": null,
   "metadata": {},
   "outputs": [],
   "source": [
    "train_embeddings = extract_embeddings(df_train, train_audio_files, device, pretrain_dir)"
   ]
  },
  {
   "cell_type": "code",
   "execution_count": null,
   "metadata": {},
   "outputs": [],
   "source": [
    "test_embeddings = extract_embeddings(df_test, test_audio_files, device, pretrain_dir)"
   ]
  },
  {
   "cell_type": "code",
   "execution_count": 35,
   "metadata": {},
   "outputs": [],
   "source": [
    "def save_to_chromadb(embeddings, db_path, split):\n",
    "    \"\"\"\n",
    "    Stores embeddings in ChromaDB\n",
    "    \"\"\"\n",
    "    client = chromadb.PersistentClient(path=db_path)\n",
    "    collection = client.get_or_create_collection(name=\"nationality_embeddings\")\n",
    "\n",
    "    collection.add(\n",
    "        ids=[f\"{split}_{i}\" for i in range(len(embeddings))],\n",
    "        embeddings=[item['embedding'] for item in embeddings],\n",
    "        metadatas=[{\n",
    "            \"file_path\": item['file_path'], \"label\": item['label'],\n",
    "            \"split\": split\n",
    "        }\n",
    "            for item in embeddings]\n",
    "    )"
   ]
  },
  {
   "cell_type": "code",
   "execution_count": 38,
   "metadata": {},
   "outputs": [],
   "source": [
    "save_to_chromadb(train_embeddings, r\"C:\\Users\\Nastya\\Desktop\\interp_dev-main\\Chroma\", \"train\")\n",
    "save_to_chromadb(test_embeddings, r\"C:\\Users\\Nastya\\Desktop\\interp_dev-main\\Chroma\", \"test\")"
   ]
  }
 ],
 "metadata": {
  "kernelspec": {
   "display_name": "base",
   "language": "python",
   "name": "python3"
  },
  "language_info": {
   "codemirror_mode": {
    "name": "ipython",
    "version": 3
   },
   "file_extension": ".py",
   "mimetype": "text/x-python",
   "name": "python",
   "nbconvert_exporter": "python",
   "pygments_lexer": "ipython3",
   "version": "3.12.7"
  }
 },
 "nbformat": 4,
 "nbformat_minor": 2
}
