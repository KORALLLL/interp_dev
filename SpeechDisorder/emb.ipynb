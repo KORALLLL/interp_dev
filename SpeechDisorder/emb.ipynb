{
 "cells": [
  {
   "cell_type": "code",
   "execution_count": 1,
   "metadata": {},
   "outputs": [
    {
     "name": "stderr",
     "output_type": "stream",
     "text": [
      "d:\\PPSpeech\\myenv\\Lib\\site-packages\\tqdm\\auto.py:21: TqdmWarning: IProgress not found. Please update jupyter and ipywidgets. See https://ipywidgets.readthedocs.io/en/stable/user_install.html\n",
      "  from .autonotebook import tqdm as notebook_tqdm\n"
     ]
    }
   ],
   "source": [
    "import os\n",
    "from pathlib import Path\n",
    "import soundfile as sf\n",
    "\n",
    "import chromadb\n",
    "import numpy as np\n",
    "import torch\n",
    "import wespeaker"
   ]
  },
  {
   "cell_type": "code",
   "execution_count": 2,
   "metadata": {},
   "outputs": [],
   "source": [
    "def get_audio_path(audio_dir):\n",
    "    \"\"\"\n",
    "    Recursively finds all audio files in the specified directory.\n",
    "    \"\"\"\n",
    "    audio_dir = Path(audio_dir)\n",
    "    audio_files = list(audio_dir.glob('**/*.wav')) + list(\n",
    "        audio_dir.glob('**/*.mp3'))\n",
    "\n",
    "    return audio_files"
   ]
  },
  {
   "cell_type": "code",
   "execution_count": 3,
   "metadata": {},
   "outputs": [],
   "source": [
    "def extract_embeddings(audio_files, device, pretrain_dir):\n",
    "    \"\"\"\n",
    "    Extracts embeddings from audio files using the WeSpeaker model\n",
    "    \"\"\"\n",
    "    model = wespeaker.load_model_local(pretrain_dir)\n",
    "    model.set_device(device)\n",
    "\n",
    "    embeddings = []\n",
    "\n",
    "    for file_path in audio_files:\n",
    "        data, sample_rate = sf.read(file_path)\n",
    "\n",
    "        pcm = torch.from_numpy(data).float()\n",
    "\n",
    "        if len(pcm.shape) == 1:\n",
    "            pcm = pcm.unsqueeze(0)\n",
    "        elif len(pcm.shape) == 2:\n",
    "            pcm = pcm.transpose(0, 1)\n",
    "        \n",
    "        if pcm.shape[1] <= 0:\n",
    "            continue\n",
    "\n",
    "        \n",
    "        embedding = model.extract_embedding_from_pcm(pcm, sample_rate)\n",
    "\n",
    "        embedding = embedding.cpu().numpy()\n",
    "        embeddings.append({\n",
    "            'file_path': str(file_path),\n",
    "            'embedding': embedding\n",
    "        })\n",
    "\n",
    "    return embeddings"
   ]
  },
  {
   "cell_type": "code",
   "execution_count": 4,
   "metadata": {},
   "outputs": [],
   "source": [
    "def assign_labels(embeddings):\n",
    "    \"\"\"\n",
    "    Assigns labels to classes. In this case, by the name of the parent folder.\n",
    "    \"\"\"\n",
    "    for emb in embeddings:\n",
    "        class_name = Path(emb['file_path']).parent.name\n",
    "        emb['label'] = class_name"
   ]
  },
  {
   "cell_type": "code",
   "execution_count": 5,
   "metadata": {},
   "outputs": [],
   "source": [
    "def save_to_chromadb(embeddings, db_path, split):\n",
    "    \"\"\"\n",
    "    Stores embeddings in ChromaDB\n",
    "    \"\"\"\n",
    "    client = chromadb.PersistentClient(path=db_path)\n",
    "    collection = client.get_or_create_collection(name=\"gender_embeddings\")\n",
    "\n",
    "    collection.add(\n",
    "        ids=[f\"{split}_{i}\" for i in range(len(embeddings))],\n",
    "        embeddings=[item['embedding'] for item in embeddings],\n",
    "        metadatas=[{\n",
    "            \"file_path\": item['file_path'], \"label\": item['label'],\n",
    "            \"split\": split\n",
    "        }\n",
    "            for item in embeddings]\n",
    "    )"
   ]
  },
  {
   "cell_type": "code",
   "execution_count": 6,
   "metadata": {},
   "outputs": [],
   "source": [
    "train_audio_files = get_audio_path(\"D:/PPSpeech/interp_dev/SpeechDisorder/SpeechDisorderDataset\")\n",
    "test_audio_files = get_audio_path(\"D:/PPSpeech/interp_dev/SpeechDisorder/TESTSpeechDisorderDataset\")"
   ]
  },
  {
   "cell_type": "code",
   "execution_count": 7,
   "metadata": {},
   "outputs": [],
   "source": [
    "device = torch.device(\"cuda\" if torch.cuda.is_available() else \"cpu\")"
   ]
  },
  {
   "cell_type": "code",
   "execution_count": 11,
   "metadata": {},
   "outputs": [],
   "source": [
    "test_embeddings = extract_embeddings(test_audio_files, device,\n",
    "                                         \"D:/PPSpeech/interp_dev/SpeechDisorder/voxblink/voxblink2_samresnet34\")"
   ]
  },
  {
   "cell_type": "code",
   "execution_count": 9,
   "metadata": {},
   "outputs": [],
   "source": [
    "train_embeddings = extract_embeddings(train_audio_files, device,\n",
    "                                          \"D:/PPSpeech/interp_dev/SpeechDisorder/voxblink/voxblink2_samresnet34\")"
   ]
  },
  {
   "cell_type": "code",
   "execution_count": 12,
   "metadata": {},
   "outputs": [],
   "source": [
    "assign_labels(train_embeddings)\n",
    "assign_labels(test_embeddings)"
   ]
  },
  {
   "cell_type": "code",
   "execution_count": 13,
   "metadata": {},
   "outputs": [],
   "source": [
    "save_to_chromadb(train_embeddings, \"D:\\PPSpeech\\interp_dev\\SpeechDisorder\\chromadb\", split=\"train\")\n",
    "save_to_chromadb(test_embeddings, \"D:\\PPSpeech\\interp_dev\\SpeechDisorder\\chromadb\", split=\"test\")"
   ]
  },
  {
   "cell_type": "code",
   "execution_count": null,
   "metadata": {},
   "outputs": [],
   "source": []
  }
 ],
 "metadata": {
  "kernelspec": {
   "display_name": "myenv",
   "language": "python",
   "name": "python3"
  },
  "language_info": {
   "codemirror_mode": {
    "name": "ipython",
    "version": 3
   },
   "file_extension": ".py",
   "mimetype": "text/x-python",
   "name": "python",
   "nbconvert_exporter": "python",
   "pygments_lexer": "ipython3",
   "version": "3.11.5"
  }
 },
 "nbformat": 4,
 "nbformat_minor": 2
}
