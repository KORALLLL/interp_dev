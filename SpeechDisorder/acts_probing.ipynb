{
  "nbformat": 4,
  "nbformat_minor": 0,
  "metadata": {
    "colab": {
      "provenance": [],
      "gpuType": "T4"
    },
    "kernelspec": {
      "name": "python3",
      "display_name": "Python 3"
    },
    "language_info": {
      "name": "python"
    },
    "accelerator": "GPU"
  },
  "cells": [
    {
      "cell_type": "code",
      "source": [
        "!pip install torch torchaudio\n",
        "!pip install git+https://github.com/wenet-e2e/wespeaker.git"
      ],
      "metadata": {
        "id": "1EfBr2nkGtlP",
        "colab": {
          "base_uri": "https://localhost:8080/"
        },
        "collapsed": true,
        "outputId": "7e909496-fd65-4932-e833-9f6a21ae238b"
      },
      "execution_count": 1,
      "outputs": [
        {
          "output_type": "stream",
          "name": "stdout",
          "text": [
            "Requirement already satisfied: torch in /usr/local/lib/python3.11/dist-packages (2.6.0+cu124)\n",
            "Requirement already satisfied: torchaudio in /usr/local/lib/python3.11/dist-packages (2.6.0+cu124)\n",
            "Requirement already satisfied: filelock in /usr/local/lib/python3.11/dist-packages (from torch) (3.18.0)\n",
            "Requirement already satisfied: typing-extensions>=4.10.0 in /usr/local/lib/python3.11/dist-packages (from torch) (4.13.2)\n",
            "Requirement already satisfied: networkx in /usr/local/lib/python3.11/dist-packages (from torch) (3.4.2)\n",
            "Requirement already satisfied: jinja2 in /usr/local/lib/python3.11/dist-packages (from torch) (3.1.6)\n",
            "Requirement already satisfied: fsspec in /usr/local/lib/python3.11/dist-packages (from torch) (2025.3.2)\n",
            "Collecting nvidia-cuda-nvrtc-cu12==12.4.127 (from torch)\n",
            "  Downloading nvidia_cuda_nvrtc_cu12-12.4.127-py3-none-manylinux2014_x86_64.whl.metadata (1.5 kB)\n",
            "Collecting nvidia-cuda-runtime-cu12==12.4.127 (from torch)\n",
            "  Downloading nvidia_cuda_runtime_cu12-12.4.127-py3-none-manylinux2014_x86_64.whl.metadata (1.5 kB)\n",
            "Collecting nvidia-cuda-cupti-cu12==12.4.127 (from torch)\n",
            "  Downloading nvidia_cuda_cupti_cu12-12.4.127-py3-none-manylinux2014_x86_64.whl.metadata (1.6 kB)\n",
            "Collecting nvidia-cudnn-cu12==9.1.0.70 (from torch)\n",
            "  Downloading nvidia_cudnn_cu12-9.1.0.70-py3-none-manylinux2014_x86_64.whl.metadata (1.6 kB)\n",
            "Collecting nvidia-cublas-cu12==12.4.5.8 (from torch)\n",
            "  Downloading nvidia_cublas_cu12-12.4.5.8-py3-none-manylinux2014_x86_64.whl.metadata (1.5 kB)\n",
            "Collecting nvidia-cufft-cu12==11.2.1.3 (from torch)\n",
            "  Downloading nvidia_cufft_cu12-11.2.1.3-py3-none-manylinux2014_x86_64.whl.metadata (1.5 kB)\n",
            "Collecting nvidia-curand-cu12==10.3.5.147 (from torch)\n",
            "  Downloading nvidia_curand_cu12-10.3.5.147-py3-none-manylinux2014_x86_64.whl.metadata (1.5 kB)\n",
            "Collecting nvidia-cusolver-cu12==11.6.1.9 (from torch)\n",
            "  Downloading nvidia_cusolver_cu12-11.6.1.9-py3-none-manylinux2014_x86_64.whl.metadata (1.6 kB)\n",
            "Collecting nvidia-cusparse-cu12==12.3.1.170 (from torch)\n",
            "  Downloading nvidia_cusparse_cu12-12.3.1.170-py3-none-manylinux2014_x86_64.whl.metadata (1.6 kB)\n",
            "Requirement already satisfied: nvidia-cusparselt-cu12==0.6.2 in /usr/local/lib/python3.11/dist-packages (from torch) (0.6.2)\n",
            "Requirement already satisfied: nvidia-nccl-cu12==2.21.5 in /usr/local/lib/python3.11/dist-packages (from torch) (2.21.5)\n",
            "Requirement already satisfied: nvidia-nvtx-cu12==12.4.127 in /usr/local/lib/python3.11/dist-packages (from torch) (12.4.127)\n",
            "Collecting nvidia-nvjitlink-cu12==12.4.127 (from torch)\n",
            "  Downloading nvidia_nvjitlink_cu12-12.4.127-py3-none-manylinux2014_x86_64.whl.metadata (1.5 kB)\n",
            "Requirement already satisfied: triton==3.2.0 in /usr/local/lib/python3.11/dist-packages (from torch) (3.2.0)\n",
            "Requirement already satisfied: sympy==1.13.1 in /usr/local/lib/python3.11/dist-packages (from torch) (1.13.1)\n",
            "Requirement already satisfied: mpmath<1.4,>=1.1.0 in /usr/local/lib/python3.11/dist-packages (from sympy==1.13.1->torch) (1.3.0)\n",
            "Requirement already satisfied: MarkupSafe>=2.0 in /usr/local/lib/python3.11/dist-packages (from jinja2->torch) (3.0.2)\n",
            "Downloading nvidia_cublas_cu12-12.4.5.8-py3-none-manylinux2014_x86_64.whl (363.4 MB)\n",
            "\u001b[2K   \u001b[90m━━━━━━━━━━━━━━━━━━━━━━━━━━━━━━━━━━━━━━━━\u001b[0m \u001b[32m363.4/363.4 MB\u001b[0m \u001b[31m3.9 MB/s\u001b[0m eta \u001b[36m0:00:00\u001b[0m\n",
            "\u001b[?25hDownloading nvidia_cuda_cupti_cu12-12.4.127-py3-none-manylinux2014_x86_64.whl (13.8 MB)\n",
            "\u001b[2K   \u001b[90m━━━━━━━━━━━━━━━━━━━━━━━━━━━━━━━━━━━━━━━━\u001b[0m \u001b[32m13.8/13.8 MB\u001b[0m \u001b[31m17.2 MB/s\u001b[0m eta \u001b[36m0:00:00\u001b[0m\n",
            "\u001b[?25hDownloading nvidia_cuda_nvrtc_cu12-12.4.127-py3-none-manylinux2014_x86_64.whl (24.6 MB)\n",
            "\u001b[2K   \u001b[90m━━━━━━━━━━━━━━━━━━━━━━━━━━━━━━━━━━━━━━━━\u001b[0m \u001b[32m24.6/24.6 MB\u001b[0m \u001b[31m28.1 MB/s\u001b[0m eta \u001b[36m0:00:00\u001b[0m\n",
            "\u001b[?25hDownloading nvidia_cuda_runtime_cu12-12.4.127-py3-none-manylinux2014_x86_64.whl (883 kB)\n",
            "\u001b[2K   \u001b[90m━━━━━━━━━━━━━━━━━━━━━━━━━━━━━━━━━━━━━━━━\u001b[0m \u001b[32m883.7/883.7 kB\u001b[0m \u001b[31m17.7 MB/s\u001b[0m eta \u001b[36m0:00:00\u001b[0m\n",
            "\u001b[?25hDownloading nvidia_cudnn_cu12-9.1.0.70-py3-none-manylinux2014_x86_64.whl (664.8 MB)\n",
            "\u001b[2K   \u001b[90m━━━━━━━━━━━━━━━━━━━━━━━━━━━━━━━━━━━━━━━━\u001b[0m \u001b[32m664.8/664.8 MB\u001b[0m \u001b[31m2.2 MB/s\u001b[0m eta \u001b[36m0:00:00\u001b[0m\n",
            "\u001b[?25hDownloading nvidia_cufft_cu12-11.2.1.3-py3-none-manylinux2014_x86_64.whl (211.5 MB)\n",
            "\u001b[2K   \u001b[90m━━━━━━━━━━━━━━━━━━━━━━━━━━━━━━━━━━━━━━━━\u001b[0m \u001b[32m211.5/211.5 MB\u001b[0m \u001b[31m7.4 MB/s\u001b[0m eta \u001b[36m0:00:00\u001b[0m\n",
            "\u001b[?25hDownloading nvidia_curand_cu12-10.3.5.147-py3-none-manylinux2014_x86_64.whl (56.3 MB)\n",
            "\u001b[2K   \u001b[90m━━━━━━━━━━━━━━━━━━━━━━━━━━━━━━━━━━━━━━━━\u001b[0m \u001b[32m56.3/56.3 MB\u001b[0m \u001b[31m12.4 MB/s\u001b[0m eta \u001b[36m0:00:00\u001b[0m\n",
            "\u001b[?25hDownloading nvidia_cusolver_cu12-11.6.1.9-py3-none-manylinux2014_x86_64.whl (127.9 MB)\n",
            "\u001b[2K   \u001b[90m━━━━━━━━━━━━━━━━━━━━━━━━━━━━━━━━━━━━━━━━\u001b[0m \u001b[32m127.9/127.9 MB\u001b[0m \u001b[31m8.4 MB/s\u001b[0m eta \u001b[36m0:00:00\u001b[0m\n",
            "\u001b[?25hDownloading nvidia_cusparse_cu12-12.3.1.170-py3-none-manylinux2014_x86_64.whl (207.5 MB)\n",
            "\u001b[2K   \u001b[90m━━━━━━━━━━━━━━━━━━━━━━━━━━━━━━━━━━━━━━━━\u001b[0m \u001b[32m207.5/207.5 MB\u001b[0m \u001b[31m5.6 MB/s\u001b[0m eta \u001b[36m0:00:00\u001b[0m\n",
            "\u001b[?25hDownloading nvidia_nvjitlink_cu12-12.4.127-py3-none-manylinux2014_x86_64.whl (21.1 MB)\n",
            "\u001b[2K   \u001b[90m━━━━━━━━━━━━━━━━━━━━━━━━━━━━━━━━━━━━━━━━\u001b[0m \u001b[32m21.1/21.1 MB\u001b[0m \u001b[31m91.0 MB/s\u001b[0m eta \u001b[36m0:00:00\u001b[0m\n",
            "\u001b[?25hInstalling collected packages: nvidia-nvjitlink-cu12, nvidia-curand-cu12, nvidia-cufft-cu12, nvidia-cuda-runtime-cu12, nvidia-cuda-nvrtc-cu12, nvidia-cuda-cupti-cu12, nvidia-cublas-cu12, nvidia-cusparse-cu12, nvidia-cudnn-cu12, nvidia-cusolver-cu12\n",
            "  Attempting uninstall: nvidia-nvjitlink-cu12\n",
            "    Found existing installation: nvidia-nvjitlink-cu12 12.5.82\n",
            "    Uninstalling nvidia-nvjitlink-cu12-12.5.82:\n",
            "      Successfully uninstalled nvidia-nvjitlink-cu12-12.5.82\n",
            "  Attempting uninstall: nvidia-curand-cu12\n",
            "    Found existing installation: nvidia-curand-cu12 10.3.6.82\n",
            "    Uninstalling nvidia-curand-cu12-10.3.6.82:\n",
            "      Successfully uninstalled nvidia-curand-cu12-10.3.6.82\n",
            "  Attempting uninstall: nvidia-cufft-cu12\n",
            "    Found existing installation: nvidia-cufft-cu12 11.2.3.61\n",
            "    Uninstalling nvidia-cufft-cu12-11.2.3.61:\n",
            "      Successfully uninstalled nvidia-cufft-cu12-11.2.3.61\n",
            "  Attempting uninstall: nvidia-cuda-runtime-cu12\n",
            "    Found existing installation: nvidia-cuda-runtime-cu12 12.5.82\n",
            "    Uninstalling nvidia-cuda-runtime-cu12-12.5.82:\n",
            "      Successfully uninstalled nvidia-cuda-runtime-cu12-12.5.82\n",
            "  Attempting uninstall: nvidia-cuda-nvrtc-cu12\n",
            "    Found existing installation: nvidia-cuda-nvrtc-cu12 12.5.82\n",
            "    Uninstalling nvidia-cuda-nvrtc-cu12-12.5.82:\n",
            "      Successfully uninstalled nvidia-cuda-nvrtc-cu12-12.5.82\n",
            "  Attempting uninstall: nvidia-cuda-cupti-cu12\n",
            "    Found existing installation: nvidia-cuda-cupti-cu12 12.5.82\n",
            "    Uninstalling nvidia-cuda-cupti-cu12-12.5.82:\n",
            "      Successfully uninstalled nvidia-cuda-cupti-cu12-12.5.82\n",
            "  Attempting uninstall: nvidia-cublas-cu12\n",
            "    Found existing installation: nvidia-cublas-cu12 12.5.3.2\n",
            "    Uninstalling nvidia-cublas-cu12-12.5.3.2:\n",
            "      Successfully uninstalled nvidia-cublas-cu12-12.5.3.2\n",
            "  Attempting uninstall: nvidia-cusparse-cu12\n",
            "    Found existing installation: nvidia-cusparse-cu12 12.5.1.3\n",
            "    Uninstalling nvidia-cusparse-cu12-12.5.1.3:\n",
            "      Successfully uninstalled nvidia-cusparse-cu12-12.5.1.3\n",
            "  Attempting uninstall: nvidia-cudnn-cu12\n",
            "    Found existing installation: nvidia-cudnn-cu12 9.3.0.75\n",
            "    Uninstalling nvidia-cudnn-cu12-9.3.0.75:\n",
            "      Successfully uninstalled nvidia-cudnn-cu12-9.3.0.75\n",
            "  Attempting uninstall: nvidia-cusolver-cu12\n",
            "    Found existing installation: nvidia-cusolver-cu12 11.6.3.83\n",
            "    Uninstalling nvidia-cusolver-cu12-11.6.3.83:\n",
            "      Successfully uninstalled nvidia-cusolver-cu12-11.6.3.83\n",
            "Successfully installed nvidia-cublas-cu12-12.4.5.8 nvidia-cuda-cupti-cu12-12.4.127 nvidia-cuda-nvrtc-cu12-12.4.127 nvidia-cuda-runtime-cu12-12.4.127 nvidia-cudnn-cu12-9.1.0.70 nvidia-cufft-cu12-11.2.1.3 nvidia-curand-cu12-10.3.5.147 nvidia-cusolver-cu12-11.6.1.9 nvidia-cusparse-cu12-12.3.1.170 nvidia-nvjitlink-cu12-12.4.127\n",
            "Collecting git+https://github.com/wenet-e2e/wespeaker.git\n",
            "  Cloning https://github.com/wenet-e2e/wespeaker.git to /tmp/pip-req-build-czttwoeq\n",
            "  Running command git clone --filter=blob:none --quiet https://github.com/wenet-e2e/wespeaker.git /tmp/pip-req-build-czttwoeq\n",
            "  Resolved https://github.com/wenet-e2e/wespeaker.git to commit 310a15850895b54e20845e107b54c9a275d39a2d\n",
            "  Preparing metadata (setup.py) ... \u001b[?25l\u001b[?25hdone\n",
            "Requirement already satisfied: tqdm in /usr/local/lib/python3.11/dist-packages (from wespeaker==0.0.0) (4.67.1)\n",
            "Collecting kaldiio (from wespeaker==0.0.0)\n",
            "  Downloading kaldiio-2.18.1-py3-none-any.whl.metadata (13 kB)\n",
            "Collecting hdbscan==0.8.37 (from wespeaker==0.0.0)\n",
            "  Downloading hdbscan-0.8.37-cp311-cp311-manylinux_2_17_x86_64.manylinux2014_x86_64.whl.metadata (13 kB)\n",
            "Collecting umap-learn==0.5.6 (from wespeaker==0.0.0)\n",
            "  Downloading umap_learn-0.5.6-py3-none-any.whl.metadata (21 kB)\n",
            "Requirement already satisfied: torch>=1.12.0 in /usr/local/lib/python3.11/dist-packages (from wespeaker==0.0.0) (2.6.0+cu124)\n",
            "Requirement already satisfied: torchaudio>=0.12.0 in /usr/local/lib/python3.11/dist-packages (from wespeaker==0.0.0) (2.6.0+cu124)\n",
            "Collecting silero-vad (from wespeaker==0.0.0)\n",
            "  Downloading silero_vad-5.1.2-py3-none-any.whl.metadata (7.9 kB)\n",
            "Collecting cython<3,>=0.27 (from hdbscan==0.8.37->wespeaker==0.0.0)\n",
            "  Downloading Cython-0.29.37-cp311-cp311-manylinux_2_17_x86_64.manylinux2014_x86_64.manylinux_2_24_x86_64.whl.metadata (3.1 kB)\n",
            "Collecting numpy<2,>=1.20 (from hdbscan==0.8.37->wespeaker==0.0.0)\n",
            "  Downloading numpy-1.26.4-cp311-cp311-manylinux_2_17_x86_64.manylinux2014_x86_64.whl.metadata (61 kB)\n",
            "\u001b[2K     \u001b[90m━━━━━━━━━━━━━━━━━━━━━━━━━━━━━━━━━━━━━━━━\u001b[0m \u001b[32m61.0/61.0 kB\u001b[0m \u001b[31m4.7 MB/s\u001b[0m eta \u001b[36m0:00:00\u001b[0m\n",
            "\u001b[?25hRequirement already satisfied: scipy>=1.0 in /usr/local/lib/python3.11/dist-packages (from hdbscan==0.8.37->wespeaker==0.0.0) (1.15.2)\n",
            "Requirement already satisfied: scikit-learn>=0.20 in /usr/local/lib/python3.11/dist-packages (from hdbscan==0.8.37->wespeaker==0.0.0) (1.6.1)\n",
            "Requirement already satisfied: joblib>=1.0 in /usr/local/lib/python3.11/dist-packages (from hdbscan==0.8.37->wespeaker==0.0.0) (1.4.2)\n",
            "Requirement already satisfied: numba>=0.51.2 in /usr/local/lib/python3.11/dist-packages (from umap-learn==0.5.6->wespeaker==0.0.0) (0.60.0)\n",
            "Requirement already satisfied: pynndescent>=0.5 in /usr/local/lib/python3.11/dist-packages (from umap-learn==0.5.6->wespeaker==0.0.0) (0.5.13)\n",
            "Requirement already satisfied: filelock in /usr/local/lib/python3.11/dist-packages (from torch>=1.12.0->wespeaker==0.0.0) (3.18.0)\n",
            "Requirement already satisfied: typing-extensions>=4.10.0 in /usr/local/lib/python3.11/dist-packages (from torch>=1.12.0->wespeaker==0.0.0) (4.13.2)\n",
            "Requirement already satisfied: networkx in /usr/local/lib/python3.11/dist-packages (from torch>=1.12.0->wespeaker==0.0.0) (3.4.2)\n",
            "Requirement already satisfied: jinja2 in /usr/local/lib/python3.11/dist-packages (from torch>=1.12.0->wespeaker==0.0.0) (3.1.6)\n",
            "Requirement already satisfied: fsspec in /usr/local/lib/python3.11/dist-packages (from torch>=1.12.0->wespeaker==0.0.0) (2025.3.2)\n",
            "Requirement already satisfied: nvidia-cuda-nvrtc-cu12==12.4.127 in /usr/local/lib/python3.11/dist-packages (from torch>=1.12.0->wespeaker==0.0.0) (12.4.127)\n",
            "Requirement already satisfied: nvidia-cuda-runtime-cu12==12.4.127 in /usr/local/lib/python3.11/dist-packages (from torch>=1.12.0->wespeaker==0.0.0) (12.4.127)\n",
            "Requirement already satisfied: nvidia-cuda-cupti-cu12==12.4.127 in /usr/local/lib/python3.11/dist-packages (from torch>=1.12.0->wespeaker==0.0.0) (12.4.127)\n",
            "Requirement already satisfied: nvidia-cudnn-cu12==9.1.0.70 in /usr/local/lib/python3.11/dist-packages (from torch>=1.12.0->wespeaker==0.0.0) (9.1.0.70)\n",
            "Requirement already satisfied: nvidia-cublas-cu12==12.4.5.8 in /usr/local/lib/python3.11/dist-packages (from torch>=1.12.0->wespeaker==0.0.0) (12.4.5.8)\n",
            "Requirement already satisfied: nvidia-cufft-cu12==11.2.1.3 in /usr/local/lib/python3.11/dist-packages (from torch>=1.12.0->wespeaker==0.0.0) (11.2.1.3)\n",
            "Requirement already satisfied: nvidia-curand-cu12==10.3.5.147 in /usr/local/lib/python3.11/dist-packages (from torch>=1.12.0->wespeaker==0.0.0) (10.3.5.147)\n",
            "Requirement already satisfied: nvidia-cusolver-cu12==11.6.1.9 in /usr/local/lib/python3.11/dist-packages (from torch>=1.12.0->wespeaker==0.0.0) (11.6.1.9)\n",
            "Requirement already satisfied: nvidia-cusparse-cu12==12.3.1.170 in /usr/local/lib/python3.11/dist-packages (from torch>=1.12.0->wespeaker==0.0.0) (12.3.1.170)\n",
            "Requirement already satisfied: nvidia-cusparselt-cu12==0.6.2 in /usr/local/lib/python3.11/dist-packages (from torch>=1.12.0->wespeaker==0.0.0) (0.6.2)\n",
            "Requirement already satisfied: nvidia-nccl-cu12==2.21.5 in /usr/local/lib/python3.11/dist-packages (from torch>=1.12.0->wespeaker==0.0.0) (2.21.5)\n",
            "Requirement already satisfied: nvidia-nvtx-cu12==12.4.127 in /usr/local/lib/python3.11/dist-packages (from torch>=1.12.0->wespeaker==0.0.0) (12.4.127)\n",
            "Requirement already satisfied: nvidia-nvjitlink-cu12==12.4.127 in /usr/local/lib/python3.11/dist-packages (from torch>=1.12.0->wespeaker==0.0.0) (12.4.127)\n",
            "Requirement already satisfied: triton==3.2.0 in /usr/local/lib/python3.11/dist-packages (from torch>=1.12.0->wespeaker==0.0.0) (3.2.0)\n",
            "Requirement already satisfied: sympy==1.13.1 in /usr/local/lib/python3.11/dist-packages (from torch>=1.12.0->wespeaker==0.0.0) (1.13.1)\n",
            "Requirement already satisfied: mpmath<1.4,>=1.1.0 in /usr/local/lib/python3.11/dist-packages (from sympy==1.13.1->torch>=1.12.0->wespeaker==0.0.0) (1.3.0)\n",
            "Collecting onnxruntime>=1.16.1 (from silero-vad->wespeaker==0.0.0)\n",
            "  Downloading onnxruntime-1.21.1-cp311-cp311-manylinux_2_27_x86_64.manylinux_2_28_x86_64.whl.metadata (4.5 kB)\n",
            "Requirement already satisfied: llvmlite<0.44,>=0.43.0dev0 in /usr/local/lib/python3.11/dist-packages (from numba>=0.51.2->umap-learn==0.5.6->wespeaker==0.0.0) (0.43.0)\n",
            "Collecting coloredlogs (from onnxruntime>=1.16.1->silero-vad->wespeaker==0.0.0)\n",
            "  Downloading coloredlogs-15.0.1-py2.py3-none-any.whl.metadata (12 kB)\n",
            "Requirement already satisfied: flatbuffers in /usr/local/lib/python3.11/dist-packages (from onnxruntime>=1.16.1->silero-vad->wespeaker==0.0.0) (25.2.10)\n",
            "Requirement already satisfied: packaging in /usr/local/lib/python3.11/dist-packages (from onnxruntime>=1.16.1->silero-vad->wespeaker==0.0.0) (24.2)\n",
            "Requirement already satisfied: protobuf in /usr/local/lib/python3.11/dist-packages (from onnxruntime>=1.16.1->silero-vad->wespeaker==0.0.0) (5.29.4)\n",
            "Requirement already satisfied: threadpoolctl>=3.1.0 in /usr/local/lib/python3.11/dist-packages (from scikit-learn>=0.20->hdbscan==0.8.37->wespeaker==0.0.0) (3.6.0)\n",
            "Requirement already satisfied: MarkupSafe>=2.0 in /usr/local/lib/python3.11/dist-packages (from jinja2->torch>=1.12.0->wespeaker==0.0.0) (3.0.2)\n",
            "Collecting humanfriendly>=9.1 (from coloredlogs->onnxruntime>=1.16.1->silero-vad->wespeaker==0.0.0)\n",
            "  Downloading humanfriendly-10.0-py2.py3-none-any.whl.metadata (9.2 kB)\n",
            "Downloading hdbscan-0.8.37-cp311-cp311-manylinux_2_17_x86_64.manylinux2014_x86_64.whl (3.8 MB)\n",
            "\u001b[2K   \u001b[90m━━━━━━━━━━━━━━━━━━━━━━━━━━━━━━━━━━━━━━━━\u001b[0m \u001b[32m3.8/3.8 MB\u001b[0m \u001b[31m5.7 MB/s\u001b[0m eta \u001b[36m0:00:00\u001b[0m\n",
            "\u001b[?25hDownloading umap_learn-0.5.6-py3-none-any.whl (85 kB)\n",
            "\u001b[2K   \u001b[90m━━━━━━━━━━━━━━━━━━━━━━━━━━━━━━━━━━━━━━━━\u001b[0m \u001b[32m85.7/85.7 kB\u001b[0m \u001b[31m8.5 MB/s\u001b[0m eta \u001b[36m0:00:00\u001b[0m\n",
            "\u001b[?25hDownloading kaldiio-2.18.1-py3-none-any.whl (29 kB)\n",
            "Downloading silero_vad-5.1.2-py3-none-any.whl (5.0 MB)\n",
            "\u001b[2K   \u001b[90m━━━━━━━━━━━━━━━━━━━━━━━━━━━━━━━━━━━━━━━━\u001b[0m \u001b[32m5.0/5.0 MB\u001b[0m \u001b[31m104.7 MB/s\u001b[0m eta \u001b[36m0:00:00\u001b[0m\n",
            "\u001b[?25hDownloading Cython-0.29.37-cp311-cp311-manylinux_2_17_x86_64.manylinux2014_x86_64.manylinux_2_24_x86_64.whl (1.9 MB)\n",
            "\u001b[2K   \u001b[90m━━━━━━━━━━━━━━━━━━━━━━━━━━━━━━━━━━━━━━━━\u001b[0m \u001b[32m1.9/1.9 MB\u001b[0m \u001b[31m94.5 MB/s\u001b[0m eta \u001b[36m0:00:00\u001b[0m\n",
            "\u001b[?25hDownloading numpy-1.26.4-cp311-cp311-manylinux_2_17_x86_64.manylinux2014_x86_64.whl (18.3 MB)\n",
            "\u001b[2K   \u001b[90m━━━━━━━━━━━━━━━━━━━━━━━━━━━━━━━━━━━━━━━━\u001b[0m \u001b[32m18.3/18.3 MB\u001b[0m \u001b[31m110.9 MB/s\u001b[0m eta \u001b[36m0:00:00\u001b[0m\n",
            "\u001b[?25hDownloading onnxruntime-1.21.1-cp311-cp311-manylinux_2_27_x86_64.manylinux_2_28_x86_64.whl (16.0 MB)\n",
            "\u001b[2K   \u001b[90m━━━━━━━━━━━━━━━━━━━━━━━━━━━━━━━━━━━━━━━━\u001b[0m \u001b[32m16.0/16.0 MB\u001b[0m \u001b[31m108.6 MB/s\u001b[0m eta \u001b[36m0:00:00\u001b[0m\n",
            "\u001b[?25hDownloading coloredlogs-15.0.1-py2.py3-none-any.whl (46 kB)\n",
            "\u001b[2K   \u001b[90m━━━━━━━━━━━━━━━━━━━━━━━━━━━━━━━━━━━━━━━━\u001b[0m \u001b[32m46.0/46.0 kB\u001b[0m \u001b[31m4.3 MB/s\u001b[0m eta \u001b[36m0:00:00\u001b[0m\n",
            "\u001b[?25hDownloading humanfriendly-10.0-py2.py3-none-any.whl (86 kB)\n",
            "\u001b[2K   \u001b[90m━━━━━━━━━━━━━━━━━━━━━━━━━━━━━━━━━━━━━━━━\u001b[0m \u001b[32m86.8/86.8 kB\u001b[0m \u001b[31m8.3 MB/s\u001b[0m eta \u001b[36m0:00:00\u001b[0m\n",
            "\u001b[?25hBuilding wheels for collected packages: wespeaker\n",
            "  Building wheel for wespeaker (setup.py) ... \u001b[?25l\u001b[?25hdone\n",
            "  Created wheel for wespeaker: filename=wespeaker-0.0.0-py3-none-any.whl size=95511 sha256=8a1ecd74a8406d2024119e17f5ac7701481c6f211f8116c909f63a2f26445d84\n",
            "  Stored in directory: /tmp/pip-ephem-wheel-cache-q6gk38ob/wheels/0d/89/04/3177e719031c72c3fdccfe41a6797a5d539c61548fb93c0062\n",
            "Successfully built wespeaker\n",
            "Installing collected packages: numpy, humanfriendly, cython, kaldiio, coloredlogs, onnxruntime, hdbscan, umap-learn, silero-vad, wespeaker\n",
            "  Attempting uninstall: numpy\n",
            "    Found existing installation: numpy 2.0.2\n",
            "    Uninstalling numpy-2.0.2:\n",
            "      Successfully uninstalled numpy-2.0.2\n",
            "  Attempting uninstall: cython\n",
            "    Found existing installation: Cython 3.0.12\n",
            "    Uninstalling Cython-3.0.12:\n",
            "      Successfully uninstalled Cython-3.0.12\n",
            "  Attempting uninstall: hdbscan\n",
            "    Found existing installation: hdbscan 0.8.40\n",
            "    Uninstalling hdbscan-0.8.40:\n",
            "      Successfully uninstalled hdbscan-0.8.40\n",
            "  Attempting uninstall: umap-learn\n",
            "    Found existing installation: umap-learn 0.5.7\n",
            "    Uninstalling umap-learn-0.5.7:\n",
            "      Successfully uninstalled umap-learn-0.5.7\n",
            "\u001b[31mERROR: pip's dependency resolver does not currently take into account all the packages that are installed. This behaviour is the source of the following dependency conflicts.\n",
            "thinc 8.3.6 requires numpy<3.0.0,>=2.0.0, but you have numpy 1.26.4 which is incompatible.\u001b[0m\u001b[31m\n",
            "\u001b[0mSuccessfully installed coloredlogs-15.0.1 cython-0.29.37 hdbscan-0.8.37 humanfriendly-10.0 kaldiio-2.18.1 numpy-1.26.4 onnxruntime-1.21.1 silero-vad-5.1.2 umap-learn-0.5.6 wespeaker-0.0.0\n"
          ]
        }
      ]
    },
    {
      "cell_type": "code",
      "source": [
        "import zipfile\n",
        "\n",
        "with zipfile.ZipFile('/content/drive/MyDrive/interp_dev/SpeechDisorderDataset.zip', 'r') as zip_ref:\n",
        "    zip_ref.extractall('extracted_files')"
      ],
      "metadata": {
        "id": "NyX4Yui9Rw5F"
      },
      "execution_count": 2,
      "outputs": []
    },
    {
      "cell_type": "code",
      "source": [
        "with zipfile.ZipFile('/content/drive/MyDrive/interp_dev/TESTSpeechDisorderDataset.zip', 'r') as zip_ref:\n",
        "    zip_ref.extractall('extracted_files')"
      ],
      "metadata": {
        "id": "g6G19b6yAobT"
      },
      "execution_count": 3,
      "outputs": []
    },
    {
      "cell_type": "code",
      "source": [
        "with zipfile.ZipFile('/content/drive/MyDrive/interp_dev/voxblink2_samresnet34 (1).zip', 'r') as zip_ref:\n",
        "    zip_ref.extractall('extracted_files')"
      ],
      "metadata": {
        "id": "6XfzqcYcShVk"
      },
      "execution_count": 4,
      "outputs": []
    },
    {
      "cell_type": "code",
      "source": [
        "import os\n",
        "\n",
        "from sklearn.model_selection import train_test_split\n",
        "import numpy as np\n",
        "from collections import Counter\n",
        "import torch\n",
        "import torchaudio\n",
        "import torchaudio.compliance.kaldi as kaldi\n",
        "from torch.nn.utils.rnn import pad_sequence\n",
        "import torch.nn as nn\n",
        "import torch.optim as optim\n",
        "import numpy as np\n",
        "import matplotlib.pyplot as plt\n",
        "from sklearn.preprocessing import LabelEncoder\n",
        "from sklearn.metrics import accuracy_score, f1_score\n",
        "from torch.utils.data import Dataset, DataLoader\n",
        "from tqdm import tqdm\n",
        "import wespeaker\n",
        "import pandas as pd\n",
        "from pathlib import Path"
      ],
      "metadata": {
        "id": "iuLtiXUgGh-i"
      },
      "execution_count": 5,
      "outputs": []
    },
    {
      "cell_type": "code",
      "source": [
        "def get_audio_path(audio_dir):\n",
        "    \"\"\"\n",
        "    Recursively finds all audio files in the specified directory.\n",
        "    \"\"\"\n",
        "    audio_dir = Path(audio_dir)\n",
        "    audio_files = list(audio_dir.glob('**/*.wav')) + list(\n",
        "        audio_dir.glob('**/*.mp3'))\n",
        "\n",
        "    return audio_files"
      ],
      "metadata": {
        "id": "lRAXP3XwUWh9"
      },
      "execution_count": 6,
      "outputs": []
    },
    {
      "cell_type": "code",
      "execution_count": 7,
      "metadata": {
        "id": "rODZAx5zcfHn"
      },
      "outputs": [],
      "source": [
        "class ActivationDataset(Dataset):\n",
        "    def __init__(self, activations, labels):\n",
        "        self.X = self.pad_activations(activations)\n",
        "        self.y = torch.tensor(labels, dtype=torch.long).flatten()\n",
        "\n",
        "    def __getitem__(self, idx):\n",
        "        return self.X[idx], self.y[idx]\n",
        "\n",
        "    def __len__(self):\n",
        "        return len(self.y)\n",
        "\n",
        "    def pad_activations(self, activations):\n",
        "        activations = [act.view(1, -1) if len(act.shape) != 2 else act for act in activations]\n",
        "\n",
        "        max_len = max(act.shape[1] for act in activations)\n",
        "\n",
        "        padded_activations = [\n",
        "            torch.nn.functional.pad(act, (0, max_len - act.shape[1]))\n",
        "            for act in activations\n",
        "        ]\n",
        "\n",
        "        return torch.stack(padded_activations).squeeze(1)\n",
        "\n",
        "\n",
        "class GetActivations(nn.Module):\n",
        "    \"\"\"\n",
        "    Class for getting activations from a model.\n",
        "    \"\"\"\n",
        "\n",
        "    def __init__(self, model):\n",
        "        super(GetActivations, self).__init__()\n",
        "        self.model = model\n",
        "\n",
        "    def forward(self, x):\n",
        "        out = x.permute(0, 2, 1)\n",
        "        activations = []\n",
        "        model_front = self.model.model.front\n",
        "\n",
        "        x = out.unsqueeze(dim=1)\n",
        "\n",
        "        out = model_front.relu(model_front.bn1(model_front.conv1(x)))\n",
        "        activations.append({\"first relu\": out})\n",
        "\n",
        "        for name, layer in model_front.named_children():\n",
        "            c_sim = 0\n",
        "            c_relu = 0\n",
        "            if name in ['layer1', 'layer2', 'layer3', 'layer4']:\n",
        "                for sec_name, sec_layer in layer.named_children():\n",
        "                    identity = out\n",
        "\n",
        "                    out = sec_layer.relu(sec_layer.bn1(sec_layer.conv1(out)))\n",
        "                    c_relu += 1\n",
        "                    activations.append({f\"{name} relu {c_relu}\": out})\n",
        "\n",
        "                    out = sec_layer.bn2(sec_layer.conv2(out))\n",
        "                    out = sec_layer.SimAM(out)\n",
        "                    c_sim += 1\n",
        "                    activations.append({f\"{name} SimAM {c_sim}\": out})\n",
        "\n",
        "                    if sec_layer.downsample is not None:\n",
        "                        identity = sec_layer.downsample(identity)\n",
        "\n",
        "                    out += identity\n",
        "                    out = sec_layer.relu(out)\n",
        "                    c_relu += 1\n",
        "                    activations.append({f\"{name} relu {c_relu}\": out})\n",
        "\n",
        "        out = self.model.model.pooling(out)\n",
        "        activations.append({\"pooling\": out})\n",
        "\n",
        "        if self.model.model.drop:\n",
        "            out = self.model.model.drop(out)\n",
        "\n",
        "        out = self.model.model.bottleneck(out)\n",
        "\n",
        "        return activations, out\n",
        "\n",
        "\n",
        "class VolumeSpeechCls(nn.Module):\n",
        "    def __init__(self, input_size, num_classes=3):\n",
        "        super(VolumeSpeechCls, self).__init__()\n",
        "        self.fc = nn.Linear(input_size, num_classes)\n",
        "\n",
        "    def forward(self, x):\n",
        "        return self.fc(x)"
      ]
    },
    {
      "cell_type": "code",
      "source": [
        "resample_rate = 16000\n",
        "device = torch.device(\"cuda\" if torch.cuda.is_available() else \"cpu\")\n",
        "\n",
        "def compute_fbank(waveform,\n",
        "                 sample_rate=16000,\n",
        "                 num_mel_bins=80,\n",
        "                 frame_length=25,\n",
        "                 frame_shift=10,\n",
        "                 cmn=True):\n",
        "    feat = kaldi.fbank(waveform,\n",
        "                      num_mel_bins=num_mel_bins,\n",
        "                      frame_length=frame_length,\n",
        "                      frame_shift=frame_shift,\n",
        "                      sample_frequency=sample_rate)\n",
        "    if cmn:\n",
        "        feat = feat - torch.mean(feat, 0)\n",
        "    return feat\n",
        "\n",
        "def extract_features(waveform: torch.Tensor, sample_rate: int):\n",
        "    return extract_feature_from_pcm(waveform, sample_rate)\n",
        "\n",
        "def extract_feature_from_pcm(pcm: torch.Tensor, sample_rate: int):\n",
        "    pcm = pcm.to(torch.float)\n",
        "    if sample_rate != resample_rate:\n",
        "        pcm = torchaudio.transforms.Resample(\n",
        "            orig_freq=sample_rate, new_freq=resample_rate)(pcm)\n",
        "    feats = compute_fbank(pcm,\n",
        "                         sample_rate=resample_rate,\n",
        "                         cmn=True)\n",
        "    feats = feats.unsqueeze(0)\n",
        "    feats = feats.to(device)\n",
        "    return feats\n",
        "\n",
        "def process_audio(waveform: torch.Tensor, sr: int, target_samples: int = 16000):\n",
        "    \"\"\"Вложенная функция для обработки аудио (обрезка/дополнение)\"\"\"\n",
        "    if waveform.shape[1] > target_samples:\n",
        "        waveform = waveform[:, :target_samples]\n",
        "    else:\n",
        "        padding = target_samples - waveform.shape[1]\n",
        "        waveform = torch.nn.functional.pad(waveform, (0, padding))\n",
        "    return extract_features(waveform, sr)\n",
        "\n",
        "def get_activations(model, audio_path, device, target_samples=16000):\n",
        "    waveform, sr = torchaudio.load(audio_path)\n",
        "    feats = process_audio(waveform, sr, target_samples)\n",
        "\n",
        "    with torch.no_grad():\n",
        "        activations = model(feats)\n",
        "\n",
        "    return {\n",
        "        'file_path': str(audio_path),\n",
        "        'act': activations[0] if isinstance(activations, tuple) else activations\n",
        "    }\n",
        "\n",
        "def is_valid_audio_file(file_path):\n",
        "    try:\n",
        "        waveform, sr = torchaudio.load(file_path)\n",
        "        return waveform.numel() > 0\n",
        "    except:\n",
        "        return False\n",
        "\n",
        "# 1 итериация = 1 батч с сайзом 32\n",
        "def get_activations_for_layer(model, audio_files, device, layer_name, labels, target_samples=16000, batch_size=32):\n",
        "    label_encoder = LabelEncoder()\n",
        "    labels = label_encoder.fit_transform(labels)\n",
        "    valid_files = [f for f in audio_files if is_valid_audio_file(str(f))]\n",
        "    print(f\"Found {len(valid_files)} valid files out of {len(audio_files)}\")\n",
        "\n",
        "    activations = []\n",
        "    for i in tqdm(range(0, len(valid_files), batch_size), desc=f\"Extracting {layer_name}\"):\n",
        "        batch_files = valid_files[i:i + batch_size]\n",
        "        batch_activations = []\n",
        "\n",
        "        with torch.no_grad():\n",
        "            for audio_input in batch_files:\n",
        "                try:\n",
        "                    waveform, sr = torchaudio.load(str(audio_input))\n",
        "                    feats = process_audio(waveform, sr, target_samples)\n",
        "                    feats = feats.to(device)\n",
        "                    acts, _ = model(feats)\n",
        "\n",
        "                    activation = next((d[layer_name] for d in acts if layer_name in d), None)\n",
        "                    if activation is not None:\n",
        "                        batch_activations.append(activation.cpu())\n",
        "                except Exception as e:\n",
        "                    print(f\"Error processing {audio_input}: {str(e)}\")\n",
        "                    continue\n",
        "\n",
        "        activations.extend(batch_activations)\n",
        "        torch.cuda.empty_cache()\n",
        "\n",
        "    return activations, labels"
      ],
      "metadata": {
        "id": "XjsVEZsWI0E9"
      },
      "execution_count": 8,
      "outputs": []
    },
    {
      "cell_type": "code",
      "source": [
        "def train(train_loader, input_size, layer, device, num_epochs=10):\n",
        "    model = VolumeSpeechCls(input_size).to(device)\n",
        "    criterion = torch.nn.CrossEntropyLoss()\n",
        "    optimizer = optim.Adam(model.parameters())\n",
        "\n",
        "    for epoch in tqdm(range(num_epochs), desc=\"Training Progress\"):\n",
        "        model.train()\n",
        "        for X, y in train_loader:\n",
        "            X, y = X.to(device), y.to(device)\n",
        "\n",
        "            outputs = model(X)\n",
        "            loss = criterion(outputs, y)\n",
        "\n",
        "            optimizer.zero_grad()\n",
        "            loss.backward()\n",
        "            optimizer.step()\n",
        "\n",
        "    return model\n",
        "\n",
        "\n",
        "def evaluate(model, test_loader, device):\n",
        "    \"\"\"\n",
        "    Evaluates a model on a test dataset.\n",
        "    Calculates accuracy and f1-score (macro averaged)\n",
        "    \"\"\"\n",
        "    model.eval()\n",
        "    y_true, y_pred = [], []\n",
        "\n",
        "    with torch.no_grad():\n",
        "        for X, y in tqdm(test_loader, desc=\"Evaluation Progress\"):\n",
        "            X, y = X.to(device), y.to(device)\n",
        "            outputs = model(X)\n",
        "\n",
        "            _, preds = torch.max(outputs, 1)\n",
        "\n",
        "            y_true.extend(y.cpu().numpy())\n",
        "            y_pred.extend(preds.cpu().numpy())\n",
        "\n",
        "    y_true = np.array(y_true)\n",
        "    y_pred = np.array(y_pred)\n",
        "\n",
        "    metrics = {\n",
        "        \"accuracy\": accuracy_score(y_true, y_pred),\n",
        "        \"f1_score\": f1_score(y_true, y_pred, average='macro')\n",
        "    }\n",
        "\n",
        "    return metrics"
      ],
      "metadata": {
        "id": "F6NHGK-8I4O3"
      },
      "execution_count": 9,
      "outputs": []
    },
    {
      "cell_type": "code",
      "source": [
        "def plot_metrics(metrics_list, save_path):\n",
        "    layers = [m[0] for m in metrics_list]\n",
        "    accuracies = [m[1][\"accuracy\"] for m in metrics_list]\n",
        "    f1_scores = [m[1][\"f1_score\"] for m in metrics_list]\n",
        "\n",
        "    plt.figure(figsize=(10, 5))\n",
        "\n",
        "    plt.subplot(1, 2, 1)\n",
        "    plt.plot(range(1, len(layers)+1), accuracies, color='b', label=\"Accuracy\")\n",
        "    plt.xlabel(\"Layers\")\n",
        "    plt.ylabel(\"Accuracy\")\n",
        "    plt.title(\"Accuracy across layers\")\n",
        "    plt.legend()\n",
        "\n",
        "    plt.subplot(1, 2, 2)\n",
        "    plt.plot(range(1, len(layers)+1), f1_scores, color='g', label=\"F1-score\")\n",
        "    plt.xlabel(\"Layers\")\n",
        "    plt.ylabel(\"F1-score\")\n",
        "    plt.title(\"F1-score across layers\")\n",
        "    plt.legend()\n",
        "\n",
        "    plt.tight_layout()\n",
        "    plt.savefig(save_path)\n",
        "\n",
        "\n",
        "def save_metrics(metrics_list, save_path):\n",
        "    \"\"\"\n",
        "    Saves computed metrics in .txt file\n",
        "    \"\"\"\n",
        "    os.makedirs(os.path.dirname(save_path), exist_ok=True)\n",
        "\n",
        "    with open(save_path, 'w') as f:\n",
        "        for layer, metrics in metrics_list:\n",
        "            f.write(f\"{layer}\\n\")\n",
        "            for key, value in metrics.items():\n",
        "                f.write(f\"{key}: {value}\\n\")"
      ],
      "metadata": {
        "id": "RAZLqATWKKu7"
      },
      "execution_count": 10,
      "outputs": []
    },
    {
      "cell_type": "code",
      "source": [
        "device = torch.device(\"cuda\" if torch.cuda.is_available() else \"cpu\")\n",
        "\n",
        "model = wespeaker.load_model_local(\"/content/extracted_files/voxblink2_samresnet34\")\n",
        "model.set_device(device)\n",
        "\n",
        "acts_model = GetActivations(model)\n",
        "\n",
        "def safe_get_activations(model, audio_path, device, target_samples=16000):\n",
        "    \"\"\"Безопасная версия get_activations с обработкой ошибок\"\"\"\n",
        "    try:\n",
        "        waveform, sr = torchaudio.load(str(audio_path))\n",
        "        feats = process_audio(waveform, sr, target_samples)\n",
        "\n",
        "        with torch.no_grad():\n",
        "            activations = model(feats)\n",
        "\n",
        "        return {\n",
        "            'file_path': str(audio_path),\n",
        "            'act': activations[0] if isinstance(activations, tuple) else activations\n",
        "        }\n",
        "    except Exception as e:\n",
        "        print(f\"Error processing {audio_path}: {str(e)}\")\n",
        "        return None\n",
        "\n",
        "test_files = get_audio_path(\"/content/extracted_files/TESTSpeechDisorderDataset\")\n",
        "train_files = get_audio_path(\"/content/extracted_files/SpeechDisorderDataset\")\n",
        "\n",
        "# Фильтрую битые файлы\n",
        "valid_train_files = [f for f in train_files if is_valid_audio_file(str(f))]\n",
        "valid_test_files = [f for f in test_files if is_valid_audio_file(str(f))]\n",
        "\n",
        "print(f\"Train files: {len(valid_train_files)}/{len(train_files)} valid\")\n",
        "print(f\"Test files: {len(valid_test_files)}/{len(test_files)} valid\")\n",
        "\n",
        "# Получаю активации для первого валидного файла\n",
        "acts = None\n",
        "for file in valid_train_files:\n",
        "    acts = safe_get_activations(acts_model, file, device)\n",
        "    if acts is not None:\n",
        "        break\n",
        "\n",
        "if acts is None:\n",
        "    raise ValueError(\"No valid audio files found in training set!\")\n",
        "\n",
        "layers = [list(item.keys())[0] for item in acts['act']]\n",
        "metrics_list = []\n",
        "\n",
        "for layer in layers:\n",
        "    # Обрабатываю только файлы, которые прошли валидацию\n",
        "    train_acts, train_labels = get_activations_for_layer(\n",
        "        acts_model, valid_train_files, device, layer,\n",
        "        [Path(f).parent.name for f in valid_train_files])\n",
        "\n",
        "    test_acts, test_labels = get_activations_for_layer(\n",
        "        acts_model, valid_test_files, device, layer,\n",
        "        [Path(f).parent.name for f in valid_test_files])\n",
        "\n",
        "    if not train_acts or not test_acts:\n",
        "        print(f\"Skipping layer {layer} due to no valid activations\")\n",
        "        continue\n",
        "\n",
        "    train_dataset = ActivationDataset(train_acts, train_labels)\n",
        "    train_loader = DataLoader(train_dataset, batch_size=16, shuffle=True)\n",
        "\n",
        "    test_dataset = ActivationDataset(test_acts, test_labels)\n",
        "    test_loader = DataLoader(test_dataset, batch_size=16, shuffle=False)\n",
        "\n",
        "    trained_model = train(\n",
        "        train_loader, train_dataset.X.shape[-1], layer, device)\n",
        "    torch.save(trained_model.state_dict(),\n",
        "              f\"/content/extracted_files/Model/{layer}.pth\")\n",
        "\n",
        "    metrics = evaluate(trained_model, test_loader, device)\n",
        "    metrics_list.append((layer, metrics))\n",
        "\n",
        "    torch.cuda.empty_cache()\n",
        "\n",
        "save_metrics(metrics_list, \"/content/extracted_files/Result/probing.txt\")\n",
        "plot_metrics(metrics_list, \"/content/extracted_files/Result/probing.png\")"
      ],
      "metadata": {
        "id": "JT6G9hbbKLeU",
        "colab": {
          "base_uri": "https://localhost:8080/",
          "height": 1000
        },
        "outputId": "a8ba3a5b-5f2e-44dd-ba48-ce66212debc5"
      },
      "execution_count": 12,
      "outputs": [
        {
          "output_type": "stream",
          "name": "stdout",
          "text": [
            "Train files: 786/900 valid\n",
            "Test files: 100/150 valid\n",
            "Found 786 valid files out of 786\n"
          ]
        },
        {
          "output_type": "stream",
          "name": "stderr",
          "text": [
            "Extracting first relu: 100%|██████████| 25/25 [00:16<00:00,  1.53it/s]\n"
          ]
        },
        {
          "output_type": "stream",
          "name": "stdout",
          "text": [
            "Found 100 valid files out of 100\n"
          ]
        },
        {
          "output_type": "stream",
          "name": "stderr",
          "text": [
            "Extracting first relu: 100%|██████████| 4/4 [00:01<00:00,  2.11it/s]\n",
            "Training Progress: 100%|██████████| 10/10 [00:08<00:00,  1.23it/s]\n",
            "Evaluation Progress: 100%|██████████| 7/7 [00:00<00:00, 51.33it/s]\n"
          ]
        },
        {
          "output_type": "stream",
          "name": "stdout",
          "text": [
            "Found 786 valid files out of 786\n"
          ]
        },
        {
          "output_type": "stream",
          "name": "stderr",
          "text": [
            "Extracting layer1 relu 1: 100%|██████████| 25/25 [00:14<00:00,  1.67it/s]\n"
          ]
        },
        {
          "output_type": "stream",
          "name": "stdout",
          "text": [
            "Found 100 valid files out of 100\n"
          ]
        },
        {
          "output_type": "stream",
          "name": "stderr",
          "text": [
            "Extracting layer1 relu 1: 100%|██████████| 4/4 [00:02<00:00,  1.52it/s]\n",
            "Training Progress: 100%|██████████| 10/10 [00:08<00:00,  1.24it/s]\n",
            "Evaluation Progress: 100%|██████████| 7/7 [00:00<00:00, 64.51it/s]\n"
          ]
        },
        {
          "output_type": "stream",
          "name": "stdout",
          "text": [
            "Found 786 valid files out of 786\n"
          ]
        },
        {
          "output_type": "stream",
          "name": "stderr",
          "text": [
            "Extracting layer1 SimAM 1: 100%|██████████| 25/25 [00:15<00:00,  1.62it/s]\n"
          ]
        },
        {
          "output_type": "stream",
          "name": "stdout",
          "text": [
            "Found 100 valid files out of 100\n"
          ]
        },
        {
          "output_type": "stream",
          "name": "stderr",
          "text": [
            "Extracting layer1 SimAM 1: 100%|██████████| 4/4 [00:01<00:00,  2.21it/s]\n",
            "Training Progress: 100%|██████████| 10/10 [00:08<00:00,  1.22it/s]\n",
            "Evaluation Progress: 100%|██████████| 7/7 [00:00<00:00, 72.71it/s]\n"
          ]
        },
        {
          "output_type": "stream",
          "name": "stdout",
          "text": [
            "Found 786 valid files out of 786\n"
          ]
        },
        {
          "output_type": "stream",
          "name": "stderr",
          "text": [
            "Extracting layer1 relu 2: 100%|██████████| 25/25 [00:15<00:00,  1.63it/s]\n"
          ]
        },
        {
          "output_type": "stream",
          "name": "stdout",
          "text": [
            "Found 100 valid files out of 100\n"
          ]
        },
        {
          "output_type": "stream",
          "name": "stderr",
          "text": [
            "Extracting layer1 relu 2: 100%|██████████| 4/4 [00:01<00:00,  2.11it/s]\n",
            "Training Progress: 100%|██████████| 10/10 [00:08<00:00,  1.24it/s]\n",
            "Evaluation Progress: 100%|██████████| 7/7 [00:00<00:00, 72.23it/s]\n"
          ]
        },
        {
          "output_type": "stream",
          "name": "stdout",
          "text": [
            "Found 786 valid files out of 786\n"
          ]
        },
        {
          "output_type": "stream",
          "name": "stderr",
          "text": [
            "Extracting layer1 relu 3: 100%|██████████| 25/25 [00:14<00:00,  1.69it/s]\n"
          ]
        },
        {
          "output_type": "stream",
          "name": "stdout",
          "text": [
            "Found 100 valid files out of 100\n"
          ]
        },
        {
          "output_type": "stream",
          "name": "stderr",
          "text": [
            "Extracting layer1 relu 3: 100%|██████████| 4/4 [00:01<00:00,  2.16it/s]\n",
            "Training Progress: 100%|██████████| 10/10 [00:07<00:00,  1.26it/s]\n",
            "Evaluation Progress: 100%|██████████| 7/7 [00:00<00:00, 68.65it/s]\n"
          ]
        },
        {
          "output_type": "stream",
          "name": "stdout",
          "text": [
            "Found 786 valid files out of 786\n"
          ]
        },
        {
          "output_type": "stream",
          "name": "stderr",
          "text": [
            "Extracting layer1 SimAM 2: 100%|██████████| 25/25 [00:15<00:00,  1.64it/s]\n"
          ]
        },
        {
          "output_type": "stream",
          "name": "stdout",
          "text": [
            "Found 100 valid files out of 100\n"
          ]
        },
        {
          "output_type": "stream",
          "name": "stderr",
          "text": [
            "Extracting layer1 SimAM 2: 100%|██████████| 4/4 [00:02<00:00,  1.79it/s]\n",
            "Training Progress: 100%|██████████| 10/10 [00:07<00:00,  1.28it/s]\n",
            "Evaluation Progress: 100%|██████████| 7/7 [00:00<00:00, 66.69it/s]\n"
          ]
        },
        {
          "output_type": "stream",
          "name": "stdout",
          "text": [
            "Found 786 valid files out of 786\n"
          ]
        },
        {
          "output_type": "stream",
          "name": "stderr",
          "text": [
            "Extracting layer1 relu 4: 100%|██████████| 25/25 [00:14<00:00,  1.68it/s]\n"
          ]
        },
        {
          "output_type": "stream",
          "name": "stdout",
          "text": [
            "Found 100 valid files out of 100\n"
          ]
        },
        {
          "output_type": "stream",
          "name": "stderr",
          "text": [
            "Extracting layer1 relu 4: 100%|██████████| 4/4 [00:01<00:00,  2.20it/s]\n",
            "Training Progress: 100%|██████████| 10/10 [00:07<00:00,  1.26it/s]\n",
            "Evaluation Progress: 100%|██████████| 7/7 [00:00<00:00, 67.80it/s]\n"
          ]
        },
        {
          "output_type": "stream",
          "name": "stdout",
          "text": [
            "Found 786 valid files out of 786\n"
          ]
        },
        {
          "output_type": "stream",
          "name": "stderr",
          "text": [
            "Extracting layer1 relu 5: 100%|██████████| 25/25 [00:14<00:00,  1.70it/s]\n"
          ]
        },
        {
          "output_type": "stream",
          "name": "stdout",
          "text": [
            "Found 100 valid files out of 100\n"
          ]
        },
        {
          "output_type": "stream",
          "name": "stderr",
          "text": [
            "Extracting layer1 relu 5: 100%|██████████| 4/4 [00:02<00:00,  1.52it/s]\n",
            "Training Progress: 100%|██████████| 10/10 [00:07<00:00,  1.31it/s]\n",
            "Evaluation Progress: 100%|██████████| 7/7 [00:00<00:00, 71.20it/s]\n"
          ]
        },
        {
          "output_type": "stream",
          "name": "stdout",
          "text": [
            "Found 786 valid files out of 786\n"
          ]
        },
        {
          "output_type": "stream",
          "name": "stderr",
          "text": [
            "Extracting layer1 SimAM 3: 100%|██████████| 25/25 [00:14<00:00,  1.68it/s]\n"
          ]
        },
        {
          "output_type": "stream",
          "name": "stdout",
          "text": [
            "Found 100 valid files out of 100\n"
          ]
        },
        {
          "output_type": "stream",
          "name": "stderr",
          "text": [
            "Extracting layer1 SimAM 3: 100%|██████████| 4/4 [00:01<00:00,  2.18it/s]\n",
            "Training Progress: 100%|██████████| 10/10 [00:07<00:00,  1.28it/s]\n",
            "Evaluation Progress: 100%|██████████| 7/7 [00:00<00:00, 72.84it/s]\n"
          ]
        },
        {
          "output_type": "stream",
          "name": "stdout",
          "text": [
            "Found 786 valid files out of 786\n"
          ]
        },
        {
          "output_type": "stream",
          "name": "stderr",
          "text": [
            "Extracting layer1 relu 6: 100%|██████████| 25/25 [00:14<00:00,  1.69it/s]\n"
          ]
        },
        {
          "output_type": "stream",
          "name": "stdout",
          "text": [
            "Found 100 valid files out of 100\n"
          ]
        },
        {
          "output_type": "stream",
          "name": "stderr",
          "text": [
            "Extracting layer1 relu 6: 100%|██████████| 4/4 [00:02<00:00,  1.88it/s]\n",
            "Training Progress: 100%|██████████| 10/10 [00:07<00:00,  1.32it/s]\n",
            "Evaluation Progress: 100%|██████████| 7/7 [00:00<00:00, 70.33it/s]\n"
          ]
        },
        {
          "output_type": "stream",
          "name": "stdout",
          "text": [
            "Found 786 valid files out of 786\n"
          ]
        },
        {
          "output_type": "stream",
          "name": "stderr",
          "text": [
            "Extracting layer2 relu 1: 100%|██████████| 25/25 [00:14<00:00,  1.69it/s]\n"
          ]
        },
        {
          "output_type": "stream",
          "name": "stdout",
          "text": [
            "Found 100 valid files out of 100\n"
          ]
        },
        {
          "output_type": "stream",
          "name": "stderr",
          "text": [
            "Extracting layer2 relu 1: 100%|██████████| 4/4 [00:01<00:00,  2.27it/s]\n",
            "Training Progress: 100%|██████████| 10/10 [00:04<00:00,  2.27it/s]\n",
            "Evaluation Progress: 100%|██████████| 7/7 [00:00<00:00, 137.94it/s]\n"
          ]
        },
        {
          "output_type": "stream",
          "name": "stdout",
          "text": [
            "Found 786 valid files out of 786\n"
          ]
        },
        {
          "output_type": "stream",
          "name": "stderr",
          "text": [
            "Extracting layer2 SimAM 1: 100%|██████████| 25/25 [00:14<00:00,  1.71it/s]\n"
          ]
        },
        {
          "output_type": "stream",
          "name": "stdout",
          "text": [
            "Found 100 valid files out of 100\n"
          ]
        },
        {
          "output_type": "stream",
          "name": "stderr",
          "text": [
            "Extracting layer2 SimAM 1: 100%|██████████| 4/4 [00:01<00:00,  2.26it/s]\n",
            "Training Progress: 100%|██████████| 10/10 [00:04<00:00,  2.49it/s]\n",
            "Evaluation Progress: 100%|██████████| 7/7 [00:00<00:00, 128.71it/s]\n"
          ]
        },
        {
          "output_type": "stream",
          "name": "stdout",
          "text": [
            "Found 786 valid files out of 786\n"
          ]
        },
        {
          "output_type": "stream",
          "name": "stderr",
          "text": [
            "Extracting layer2 relu 2: 100%|██████████| 25/25 [00:14<00:00,  1.70it/s]\n"
          ]
        },
        {
          "output_type": "stream",
          "name": "stdout",
          "text": [
            "Found 100 valid files out of 100\n"
          ]
        },
        {
          "output_type": "stream",
          "name": "stderr",
          "text": [
            "Extracting layer2 relu 2: 100%|██████████| 4/4 [00:01<00:00,  2.24it/s]\n",
            "Training Progress: 100%|██████████| 10/10 [00:04<00:00,  2.41it/s]\n",
            "Evaluation Progress: 100%|██████████| 7/7 [00:00<00:00, 131.79it/s]\n"
          ]
        },
        {
          "output_type": "stream",
          "name": "stdout",
          "text": [
            "Found 786 valid files out of 786\n"
          ]
        },
        {
          "output_type": "stream",
          "name": "stderr",
          "text": [
            "Extracting layer2 relu 3: 100%|██████████| 25/25 [00:14<00:00,  1.68it/s]\n"
          ]
        },
        {
          "output_type": "stream",
          "name": "stdout",
          "text": [
            "Found 100 valid files out of 100\n"
          ]
        },
        {
          "output_type": "stream",
          "name": "stderr",
          "text": [
            "Extracting layer2 relu 3: 100%|██████████| 4/4 [00:01<00:00,  2.19it/s]\n",
            "Training Progress: 100%|██████████| 10/10 [00:03<00:00,  2.53it/s]\n",
            "Evaluation Progress: 100%|██████████| 7/7 [00:00<00:00, 133.86it/s]\n"
          ]
        },
        {
          "output_type": "stream",
          "name": "stdout",
          "text": [
            "Found 786 valid files out of 786\n"
          ]
        },
        {
          "output_type": "stream",
          "name": "stderr",
          "text": [
            "Extracting layer2 SimAM 2: 100%|██████████| 25/25 [00:14<00:00,  1.70it/s]\n"
          ]
        },
        {
          "output_type": "stream",
          "name": "stdout",
          "text": [
            "Found 100 valid files out of 100\n"
          ]
        },
        {
          "output_type": "stream",
          "name": "stderr",
          "text": [
            "Extracting layer2 SimAM 2: 100%|██████████| 4/4 [00:01<00:00,  2.26it/s]\n",
            "Training Progress: 100%|██████████| 10/10 [00:04<00:00,  2.28it/s]\n",
            "Evaluation Progress: 100%|██████████| 7/7 [00:00<00:00, 116.44it/s]\n"
          ]
        },
        {
          "output_type": "stream",
          "name": "stdout",
          "text": [
            "Found 786 valid files out of 786\n"
          ]
        },
        {
          "output_type": "stream",
          "name": "stderr",
          "text": [
            "Extracting layer2 relu 4: 100%|██████████| 25/25 [00:14<00:00,  1.69it/s]\n"
          ]
        },
        {
          "output_type": "stream",
          "name": "stdout",
          "text": [
            "Found 100 valid files out of 100\n"
          ]
        },
        {
          "output_type": "stream",
          "name": "stderr",
          "text": [
            "Extracting layer2 relu 4: 100%|██████████| 4/4 [00:01<00:00,  2.24it/s]\n",
            "Training Progress: 100%|██████████| 10/10 [00:04<00:00,  2.32it/s]\n",
            "Evaluation Progress: 100%|██████████| 7/7 [00:00<00:00, 131.30it/s]\n"
          ]
        },
        {
          "output_type": "stream",
          "name": "stdout",
          "text": [
            "Found 786 valid files out of 786\n"
          ]
        },
        {
          "output_type": "stream",
          "name": "stderr",
          "text": [
            "Extracting layer2 relu 5: 100%|██████████| 25/25 [00:14<00:00,  1.71it/s]\n"
          ]
        },
        {
          "output_type": "stream",
          "name": "stdout",
          "text": [
            "Found 100 valid files out of 100\n"
          ]
        },
        {
          "output_type": "stream",
          "name": "stderr",
          "text": [
            "Extracting layer2 relu 5: 100%|██████████| 4/4 [00:01<00:00,  2.15it/s]\n",
            "Training Progress: 100%|██████████| 10/10 [00:04<00:00,  2.38it/s]\n",
            "Evaluation Progress: 100%|██████████| 7/7 [00:00<00:00, 147.56it/s]\n"
          ]
        },
        {
          "output_type": "stream",
          "name": "stdout",
          "text": [
            "Found 786 valid files out of 786\n"
          ]
        },
        {
          "output_type": "stream",
          "name": "stderr",
          "text": [
            "Extracting layer2 SimAM 3: 100%|██████████| 25/25 [00:14<00:00,  1.70it/s]\n"
          ]
        },
        {
          "output_type": "stream",
          "name": "stdout",
          "text": [
            "Found 100 valid files out of 100\n"
          ]
        },
        {
          "output_type": "stream",
          "name": "stderr",
          "text": [
            "Extracting layer2 SimAM 3: 100%|██████████| 4/4 [00:01<00:00,  2.24it/s]\n",
            "Training Progress: 100%|██████████| 10/10 [00:04<00:00,  2.26it/s]\n",
            "Evaluation Progress: 100%|██████████| 7/7 [00:00<00:00, 126.51it/s]\n"
          ]
        },
        {
          "output_type": "stream",
          "name": "stdout",
          "text": [
            "Found 786 valid files out of 786\n"
          ]
        },
        {
          "output_type": "stream",
          "name": "stderr",
          "text": [
            "Extracting layer2 relu 6: 100%|██████████| 25/25 [00:14<00:00,  1.71it/s]\n"
          ]
        },
        {
          "output_type": "stream",
          "name": "stdout",
          "text": [
            "Found 100 valid files out of 100\n"
          ]
        },
        {
          "output_type": "stream",
          "name": "stderr",
          "text": [
            "Extracting layer2 relu 6: 100%|██████████| 4/4 [00:01<00:00,  2.25it/s]\n",
            "Training Progress: 100%|██████████| 10/10 [00:04<00:00,  2.31it/s]\n",
            "Evaluation Progress: 100%|██████████| 7/7 [00:00<00:00, 151.23it/s]\n"
          ]
        },
        {
          "output_type": "stream",
          "name": "stdout",
          "text": [
            "Found 786 valid files out of 786\n"
          ]
        },
        {
          "output_type": "stream",
          "name": "stderr",
          "text": [
            "Extracting layer2 relu 7: 100%|██████████| 25/25 [00:14<00:00,  1.70it/s]\n"
          ]
        },
        {
          "output_type": "stream",
          "name": "stdout",
          "text": [
            "Found 100 valid files out of 100\n"
          ]
        },
        {
          "output_type": "stream",
          "name": "stderr",
          "text": [
            "Extracting layer2 relu 7: 100%|██████████| 4/4 [00:01<00:00,  2.17it/s]\n",
            "Training Progress: 100%|██████████| 10/10 [00:03<00:00,  2.70it/s]\n",
            "Evaluation Progress: 100%|██████████| 7/7 [00:00<00:00, 134.10it/s]\n"
          ]
        },
        {
          "output_type": "stream",
          "name": "stdout",
          "text": [
            "Found 786 valid files out of 786\n"
          ]
        },
        {
          "output_type": "stream",
          "name": "stderr",
          "text": [
            "Extracting layer2 SimAM 4: 100%|██████████| 25/25 [00:14<00:00,  1.72it/s]\n"
          ]
        },
        {
          "output_type": "stream",
          "name": "stdout",
          "text": [
            "Found 100 valid files out of 100\n"
          ]
        },
        {
          "output_type": "stream",
          "name": "stderr",
          "text": [
            "Extracting layer2 SimAM 4: 100%|██████████| 4/4 [00:01<00:00,  2.25it/s]\n",
            "Training Progress: 100%|██████████| 10/10 [00:03<00:00,  2.73it/s]\n",
            "Evaluation Progress: 100%|██████████| 7/7 [00:00<00:00, 151.93it/s]\n"
          ]
        },
        {
          "output_type": "stream",
          "name": "stdout",
          "text": [
            "Found 786 valid files out of 786\n"
          ]
        },
        {
          "output_type": "stream",
          "name": "stderr",
          "text": [
            "Extracting layer2 relu 8: 100%|██████████| 25/25 [00:14<00:00,  1.70it/s]\n"
          ]
        },
        {
          "output_type": "stream",
          "name": "stdout",
          "text": [
            "Found 100 valid files out of 100\n"
          ]
        },
        {
          "output_type": "stream",
          "name": "stderr",
          "text": [
            "Extracting layer2 relu 8: 100%|██████████| 4/4 [00:01<00:00,  2.23it/s]\n",
            "Training Progress: 100%|██████████| 10/10 [00:04<00:00,  2.25it/s]\n",
            "Evaluation Progress: 100%|██████████| 7/7 [00:00<00:00, 125.21it/s]\n"
          ]
        },
        {
          "output_type": "stream",
          "name": "stdout",
          "text": [
            "Found 786 valid files out of 786\n"
          ]
        },
        {
          "output_type": "stream",
          "name": "stderr",
          "text": [
            "Extracting layer3 relu 1: 100%|██████████| 25/25 [00:14<00:00,  1.72it/s]\n"
          ]
        },
        {
          "output_type": "stream",
          "name": "stdout",
          "text": [
            "Found 100 valid files out of 100\n"
          ]
        },
        {
          "output_type": "stream",
          "name": "stderr",
          "text": [
            "Extracting layer3 relu 1: 100%|██████████| 4/4 [00:01<00:00,  2.24it/s]\n",
            "Training Progress: 100%|██████████| 10/10 [00:02<00:00,  4.03it/s]\n",
            "Evaluation Progress: 100%|██████████| 7/7 [00:00<00:00, 216.64it/s]\n"
          ]
        },
        {
          "output_type": "stream",
          "name": "stdout",
          "text": [
            "Found 786 valid files out of 786\n"
          ]
        },
        {
          "output_type": "stream",
          "name": "stderr",
          "text": [
            "Extracting layer3 SimAM 1: 100%|██████████| 25/25 [00:14<00:00,  1.72it/s]\n"
          ]
        },
        {
          "output_type": "stream",
          "name": "stdout",
          "text": [
            "Found 100 valid files out of 100\n"
          ]
        },
        {
          "output_type": "stream",
          "name": "stderr",
          "text": [
            "Extracting layer3 SimAM 1: 100%|██████████| 4/4 [00:01<00:00,  2.23it/s]\n",
            "Training Progress: 100%|██████████| 10/10 [00:02<00:00,  4.34it/s]\n",
            "Evaluation Progress: 100%|██████████| 7/7 [00:00<00:00, 272.30it/s]\n"
          ]
        },
        {
          "output_type": "stream",
          "name": "stdout",
          "text": [
            "Found 786 valid files out of 786\n"
          ]
        },
        {
          "output_type": "stream",
          "name": "stderr",
          "text": [
            "Extracting layer3 relu 2: 100%|██████████| 25/25 [00:14<00:00,  1.72it/s]\n"
          ]
        },
        {
          "output_type": "stream",
          "name": "stdout",
          "text": [
            "Found 100 valid files out of 100\n"
          ]
        },
        {
          "output_type": "stream",
          "name": "stderr",
          "text": [
            "Extracting layer3 relu 2: 100%|██████████| 4/4 [00:01<00:00,  2.17it/s]\n",
            "Training Progress: 100%|██████████| 10/10 [00:02<00:00,  4.67it/s]\n",
            "Evaluation Progress: 100%|██████████| 7/7 [00:00<00:00, 279.80it/s]\n"
          ]
        },
        {
          "output_type": "stream",
          "name": "stdout",
          "text": [
            "Found 786 valid files out of 786\n"
          ]
        },
        {
          "output_type": "stream",
          "name": "stderr",
          "text": [
            "Extracting layer3 relu 3: 100%|██████████| 25/25 [00:14<00:00,  1.71it/s]\n"
          ]
        },
        {
          "output_type": "stream",
          "name": "stdout",
          "text": [
            "Found 100 valid files out of 100\n"
          ]
        },
        {
          "output_type": "stream",
          "name": "stderr",
          "text": [
            "Extracting layer3 relu 3: 100%|██████████| 4/4 [00:01<00:00,  2.25it/s]\n",
            "Training Progress: 100%|██████████| 10/10 [00:02<00:00,  4.45it/s]\n",
            "Evaluation Progress: 100%|██████████| 7/7 [00:00<00:00, 268.46it/s]\n"
          ]
        },
        {
          "output_type": "stream",
          "name": "stdout",
          "text": [
            "Found 786 valid files out of 786\n"
          ]
        },
        {
          "output_type": "stream",
          "name": "stderr",
          "text": [
            "Extracting layer3 SimAM 2: 100%|██████████| 25/25 [00:14<00:00,  1.71it/s]\n"
          ]
        },
        {
          "output_type": "stream",
          "name": "stdout",
          "text": [
            "Found 100 valid files out of 100\n"
          ]
        },
        {
          "output_type": "stream",
          "name": "stderr",
          "text": [
            "Extracting layer3 SimAM 2: 100%|██████████| 4/4 [00:01<00:00,  2.24it/s]\n",
            "Training Progress: 100%|██████████| 10/10 [00:02<00:00,  4.36it/s]\n",
            "Evaluation Progress: 100%|██████████| 7/7 [00:00<00:00, 254.36it/s]\n"
          ]
        },
        {
          "output_type": "stream",
          "name": "stdout",
          "text": [
            "Found 786 valid files out of 786\n"
          ]
        },
        {
          "output_type": "stream",
          "name": "stderr",
          "text": [
            "Extracting layer3 relu 4: 100%|██████████| 25/25 [00:14<00:00,  1.71it/s]\n"
          ]
        },
        {
          "output_type": "stream",
          "name": "stdout",
          "text": [
            "Found 100 valid files out of 100\n"
          ]
        },
        {
          "output_type": "stream",
          "name": "stderr",
          "text": [
            "Extracting layer3 relu 4: 100%|██████████| 4/4 [00:01<00:00,  2.26it/s]\n",
            "Training Progress: 100%|██████████| 10/10 [00:02<00:00,  4.43it/s]\n",
            "Evaluation Progress: 100%|██████████| 7/7 [00:00<00:00, 271.58it/s]\n"
          ]
        },
        {
          "output_type": "stream",
          "name": "stdout",
          "text": [
            "Found 786 valid files out of 786\n"
          ]
        },
        {
          "output_type": "stream",
          "name": "stderr",
          "text": [
            "Extracting layer3 relu 5: 100%|██████████| 25/25 [00:14<00:00,  1.69it/s]\n"
          ]
        },
        {
          "output_type": "stream",
          "name": "stdout",
          "text": [
            "Found 100 valid files out of 100\n"
          ]
        },
        {
          "output_type": "stream",
          "name": "stderr",
          "text": [
            "Extracting layer3 relu 5: 100%|██████████| 4/4 [00:01<00:00,  2.32it/s]\n",
            "Training Progress: 100%|██████████| 10/10 [00:02<00:00,  4.38it/s]\n",
            "Evaluation Progress: 100%|██████████| 7/7 [00:00<00:00, 282.21it/s]\n"
          ]
        },
        {
          "output_type": "stream",
          "name": "stdout",
          "text": [
            "Found 786 valid files out of 786\n"
          ]
        },
        {
          "output_type": "stream",
          "name": "stderr",
          "text": [
            "Extracting layer3 SimAM 3: 100%|██████████| 25/25 [00:14<00:00,  1.67it/s]\n"
          ]
        },
        {
          "output_type": "stream",
          "name": "stdout",
          "text": [
            "Found 100 valid files out of 100\n"
          ]
        },
        {
          "output_type": "stream",
          "name": "stderr",
          "text": [
            "Extracting layer3 SimAM 3: 100%|██████████| 4/4 [00:01<00:00,  2.17it/s]\n",
            "Training Progress: 100%|██████████| 10/10 [00:02<00:00,  4.30it/s]\n",
            "Evaluation Progress: 100%|██████████| 7/7 [00:00<00:00, 267.46it/s]\n"
          ]
        },
        {
          "output_type": "stream",
          "name": "stdout",
          "text": [
            "Found 786 valid files out of 786\n"
          ]
        },
        {
          "output_type": "stream",
          "name": "stderr",
          "text": [
            "Extracting layer3 relu 6: 100%|██████████| 25/25 [00:14<00:00,  1.68it/s]\n"
          ]
        },
        {
          "output_type": "stream",
          "name": "stdout",
          "text": [
            "Found 100 valid files out of 100\n"
          ]
        },
        {
          "output_type": "stream",
          "name": "stderr",
          "text": [
            "Extracting layer3 relu 6: 100%|██████████| 4/4 [00:02<00:00,  1.88it/s]\n",
            "Training Progress: 100%|██████████| 10/10 [00:02<00:00,  4.63it/s]\n",
            "Evaluation Progress: 100%|██████████| 7/7 [00:00<00:00, 281.63it/s]\n"
          ]
        },
        {
          "output_type": "stream",
          "name": "stdout",
          "text": [
            "Found 786 valid files out of 786\n"
          ]
        },
        {
          "output_type": "stream",
          "name": "stderr",
          "text": [
            "Extracting layer3 relu 7: 100%|██████████| 25/25 [00:14<00:00,  1.73it/s]\n"
          ]
        },
        {
          "output_type": "stream",
          "name": "stdout",
          "text": [
            "Found 100 valid files out of 100\n"
          ]
        },
        {
          "output_type": "stream",
          "name": "stderr",
          "text": [
            "Extracting layer3 relu 7: 100%|██████████| 4/4 [00:02<00:00,  1.53it/s]\n",
            "Training Progress: 100%|██████████| 10/10 [00:02<00:00,  4.48it/s]\n",
            "Evaluation Progress: 100%|██████████| 7/7 [00:00<00:00, 289.03it/s]\n"
          ]
        },
        {
          "output_type": "stream",
          "name": "stdout",
          "text": [
            "Found 786 valid files out of 786\n"
          ]
        },
        {
          "output_type": "stream",
          "name": "stderr",
          "text": [
            "Extracting layer3 SimAM 4: 100%|██████████| 25/25 [00:14<00:00,  1.73it/s]\n"
          ]
        },
        {
          "output_type": "stream",
          "name": "stdout",
          "text": [
            "Found 100 valid files out of 100\n"
          ]
        },
        {
          "output_type": "stream",
          "name": "stderr",
          "text": [
            "Extracting layer3 SimAM 4: 100%|██████████| 4/4 [00:02<00:00,  1.73it/s]\n",
            "Training Progress: 100%|██████████| 10/10 [00:02<00:00,  4.00it/s]\n",
            "Evaluation Progress: 100%|██████████| 7/7 [00:00<00:00, 271.39it/s]\n"
          ]
        },
        {
          "output_type": "stream",
          "name": "stdout",
          "text": [
            "Found 786 valid files out of 786\n"
          ]
        },
        {
          "output_type": "stream",
          "name": "stderr",
          "text": [
            "Extracting layer3 relu 8: 100%|██████████| 25/25 [00:14<00:00,  1.72it/s]\n"
          ]
        },
        {
          "output_type": "stream",
          "name": "stdout",
          "text": [
            "Found 100 valid files out of 100\n"
          ]
        },
        {
          "output_type": "stream",
          "name": "stderr",
          "text": [
            "Extracting layer3 relu 8: 100%|██████████| 4/4 [00:01<00:00,  2.26it/s]\n",
            "Training Progress: 100%|██████████| 10/10 [00:02<00:00,  4.16it/s]\n",
            "Evaluation Progress: 100%|██████████| 7/7 [00:00<00:00, 276.20it/s]\n"
          ]
        },
        {
          "output_type": "stream",
          "name": "stdout",
          "text": [
            "Found 786 valid files out of 786\n"
          ]
        },
        {
          "output_type": "stream",
          "name": "stderr",
          "text": [
            "Extracting layer3 relu 9: 100%|██████████| 25/25 [00:14<00:00,  1.73it/s]\n"
          ]
        },
        {
          "output_type": "stream",
          "name": "stdout",
          "text": [
            "Found 100 valid files out of 100\n"
          ]
        },
        {
          "output_type": "stream",
          "name": "stderr",
          "text": [
            "Extracting layer3 relu 9: 100%|██████████| 4/4 [00:01<00:00,  2.24it/s]\n",
            "Training Progress: 100%|██████████| 10/10 [00:02<00:00,  4.35it/s]\n",
            "Evaluation Progress: 100%|██████████| 7/7 [00:00<00:00, 194.87it/s]\n"
          ]
        },
        {
          "output_type": "stream",
          "name": "stdout",
          "text": [
            "Found 786 valid files out of 786\n"
          ]
        },
        {
          "output_type": "stream",
          "name": "stderr",
          "text": [
            "Extracting layer3 SimAM 5: 100%|██████████| 25/25 [00:14<00:00,  1.72it/s]\n"
          ]
        },
        {
          "output_type": "stream",
          "name": "stdout",
          "text": [
            "Found 100 valid files out of 100\n"
          ]
        },
        {
          "output_type": "stream",
          "name": "stderr",
          "text": [
            "Extracting layer3 SimAM 5: 100%|██████████| 4/4 [00:01<00:00,  2.28it/s]\n",
            "Training Progress: 100%|██████████| 10/10 [00:02<00:00,  4.37it/s]\n",
            "Evaluation Progress: 100%|██████████| 7/7 [00:00<00:00, 248.86it/s]\n"
          ]
        },
        {
          "output_type": "stream",
          "name": "stdout",
          "text": [
            "Found 786 valid files out of 786\n"
          ]
        },
        {
          "output_type": "stream",
          "name": "stderr",
          "text": [
            "Extracting layer3 relu 10: 100%|██████████| 25/25 [00:14<00:00,  1.71it/s]\n"
          ]
        },
        {
          "output_type": "stream",
          "name": "stdout",
          "text": [
            "Found 100 valid files out of 100\n"
          ]
        },
        {
          "output_type": "stream",
          "name": "stderr",
          "text": [
            "Extracting layer3 relu 10: 100%|██████████| 4/4 [00:01<00:00,  2.24it/s]\n",
            "Training Progress: 100%|██████████| 10/10 [00:02<00:00,  4.53it/s]\n",
            "Evaluation Progress: 100%|██████████| 7/7 [00:00<00:00, 262.61it/s]\n"
          ]
        },
        {
          "output_type": "stream",
          "name": "stdout",
          "text": [
            "Found 786 valid files out of 786\n"
          ]
        },
        {
          "output_type": "stream",
          "name": "stderr",
          "text": [
            "Extracting layer3 relu 11: 100%|██████████| 25/25 [00:14<00:00,  1.70it/s]\n"
          ]
        },
        {
          "output_type": "stream",
          "name": "stdout",
          "text": [
            "Found 100 valid files out of 100\n"
          ]
        },
        {
          "output_type": "stream",
          "name": "stderr",
          "text": [
            "Extracting layer3 relu 11: 100%|██████████| 4/4 [00:01<00:00,  2.24it/s]\n",
            "Training Progress: 100%|██████████| 10/10 [00:02<00:00,  4.40it/s]\n",
            "Evaluation Progress: 100%|██████████| 7/7 [00:00<00:00, 297.82it/s]\n"
          ]
        },
        {
          "output_type": "stream",
          "name": "stdout",
          "text": [
            "Found 786 valid files out of 786\n"
          ]
        },
        {
          "output_type": "stream",
          "name": "stderr",
          "text": [
            "Extracting layer3 SimAM 6: 100%|██████████| 25/25 [00:14<00:00,  1.70it/s]\n"
          ]
        },
        {
          "output_type": "stream",
          "name": "stdout",
          "text": [
            "Found 100 valid files out of 100\n"
          ]
        },
        {
          "output_type": "stream",
          "name": "stderr",
          "text": [
            "Extracting layer3 SimAM 6: 100%|██████████| 4/4 [00:01<00:00,  2.22it/s]\n",
            "Training Progress: 100%|██████████| 10/10 [00:02<00:00,  4.35it/s]\n",
            "Evaluation Progress: 100%|██████████| 7/7 [00:00<00:00, 272.82it/s]\n"
          ]
        },
        {
          "output_type": "stream",
          "name": "stdout",
          "text": [
            "Found 786 valid files out of 786\n"
          ]
        },
        {
          "output_type": "stream",
          "name": "stderr",
          "text": [
            "Extracting layer3 relu 12: 100%|██████████| 25/25 [00:14<00:00,  1.70it/s]\n"
          ]
        },
        {
          "output_type": "stream",
          "name": "stdout",
          "text": [
            "Found 100 valid files out of 100\n"
          ]
        },
        {
          "output_type": "stream",
          "name": "stderr",
          "text": [
            "Extracting layer3 relu 12: 100%|██████████| 4/4 [00:01<00:00,  2.33it/s]\n",
            "Training Progress: 100%|██████████| 10/10 [00:02<00:00,  4.47it/s]\n",
            "Evaluation Progress: 100%|██████████| 7/7 [00:00<00:00, 278.28it/s]\n"
          ]
        },
        {
          "output_type": "stream",
          "name": "stdout",
          "text": [
            "Found 786 valid files out of 786\n"
          ]
        },
        {
          "output_type": "stream",
          "name": "stderr",
          "text": [
            "Extracting layer4 relu 1: 100%|██████████| 25/25 [00:14<00:00,  1.68it/s]\n"
          ]
        },
        {
          "output_type": "stream",
          "name": "stdout",
          "text": [
            "Found 100 valid files out of 100\n"
          ]
        },
        {
          "output_type": "stream",
          "name": "stderr",
          "text": [
            "Extracting layer4 relu 1: 100%|██████████| 4/4 [00:01<00:00,  2.24it/s]\n",
            "Training Progress: 100%|██████████| 10/10 [00:01<00:00,  6.96it/s]\n",
            "Evaluation Progress: 100%|██████████| 7/7 [00:00<00:00, 447.13it/s]\n"
          ]
        },
        {
          "output_type": "stream",
          "name": "stdout",
          "text": [
            "Found 786 valid files out of 786\n"
          ]
        },
        {
          "output_type": "stream",
          "name": "stderr",
          "text": [
            "Extracting layer4 SimAM 1: 100%|██████████| 25/25 [00:14<00:00,  1.73it/s]\n"
          ]
        },
        {
          "output_type": "stream",
          "name": "stdout",
          "text": [
            "Found 100 valid files out of 100\n"
          ]
        },
        {
          "output_type": "stream",
          "name": "stderr",
          "text": [
            "Extracting layer4 SimAM 1: 100%|██████████| 4/4 [00:02<00:00,  1.54it/s]\n",
            "Training Progress: 100%|██████████| 10/10 [00:01<00:00,  6.72it/s]\n",
            "Evaluation Progress: 100%|██████████| 7/7 [00:00<00:00, 421.25it/s]\n"
          ]
        },
        {
          "output_type": "stream",
          "name": "stdout",
          "text": [
            "Found 786 valid files out of 786\n"
          ]
        },
        {
          "output_type": "stream",
          "name": "stderr",
          "text": [
            "Extracting layer4 relu 2: 100%|██████████| 25/25 [00:14<00:00,  1.74it/s]\n"
          ]
        },
        {
          "output_type": "stream",
          "name": "stdout",
          "text": [
            "Found 100 valid files out of 100\n"
          ]
        },
        {
          "output_type": "stream",
          "name": "stderr",
          "text": [
            "Extracting layer4 relu 2: 100%|██████████| 4/4 [00:01<00:00,  2.15it/s]\n",
            "Training Progress: 100%|██████████| 10/10 [00:01<00:00,  6.14it/s]\n",
            "Evaluation Progress: 100%|██████████| 7/7 [00:00<00:00, 287.69it/s]\n"
          ]
        },
        {
          "output_type": "stream",
          "name": "stdout",
          "text": [
            "Found 786 valid files out of 786\n"
          ]
        },
        {
          "output_type": "stream",
          "name": "stderr",
          "text": [
            "Extracting layer4 relu 3: 100%|██████████| 25/25 [00:14<00:00,  1.73it/s]\n"
          ]
        },
        {
          "output_type": "stream",
          "name": "stdout",
          "text": [
            "Found 100 valid files out of 100\n"
          ]
        },
        {
          "output_type": "stream",
          "name": "stderr",
          "text": [
            "Extracting layer4 relu 3: 100%|██████████| 4/4 [00:01<00:00,  2.26it/s]\n",
            "Training Progress: 100%|██████████| 10/10 [00:01<00:00,  6.77it/s]\n",
            "Evaluation Progress: 100%|██████████| 7/7 [00:00<00:00, 462.88it/s]\n"
          ]
        },
        {
          "output_type": "stream",
          "name": "stdout",
          "text": [
            "Found 786 valid files out of 786\n"
          ]
        },
        {
          "output_type": "stream",
          "name": "stderr",
          "text": [
            "Extracting layer4 SimAM 2: 100%|██████████| 25/25 [00:14<00:00,  1.73it/s]\n"
          ]
        },
        {
          "output_type": "stream",
          "name": "stdout",
          "text": [
            "Found 100 valid files out of 100\n"
          ]
        },
        {
          "output_type": "stream",
          "name": "stderr",
          "text": [
            "Extracting layer4 SimAM 2: 100%|██████████| 4/4 [00:01<00:00,  2.28it/s]\n",
            "Training Progress: 100%|██████████| 10/10 [00:01<00:00,  6.59it/s]\n",
            "Evaluation Progress: 100%|██████████| 7/7 [00:00<00:00, 433.12it/s]\n"
          ]
        },
        {
          "output_type": "stream",
          "name": "stdout",
          "text": [
            "Found 786 valid files out of 786\n"
          ]
        },
        {
          "output_type": "stream",
          "name": "stderr",
          "text": [
            "Extracting layer4 relu 4: 100%|██████████| 25/25 [00:14<00:00,  1.73it/s]\n"
          ]
        },
        {
          "output_type": "stream",
          "name": "stdout",
          "text": [
            "Found 100 valid files out of 100\n"
          ]
        },
        {
          "output_type": "stream",
          "name": "stderr",
          "text": [
            "Extracting layer4 relu 4: 100%|██████████| 4/4 [00:01<00:00,  2.28it/s]\n",
            "Training Progress: 100%|██████████| 10/10 [00:01<00:00,  6.81it/s]\n",
            "Evaluation Progress: 100%|██████████| 7/7 [00:00<00:00, 455.74it/s]\n"
          ]
        },
        {
          "output_type": "stream",
          "name": "stdout",
          "text": [
            "Found 786 valid files out of 786\n"
          ]
        },
        {
          "output_type": "stream",
          "name": "stderr",
          "text": [
            "Extracting layer4 relu 5: 100%|██████████| 25/25 [00:15<00:00,  1.66it/s]\n"
          ]
        },
        {
          "output_type": "stream",
          "name": "stdout",
          "text": [
            "Found 100 valid files out of 100\n"
          ]
        },
        {
          "output_type": "stream",
          "name": "stderr",
          "text": [
            "Extracting layer4 relu 5: 100%|██████████| 4/4 [00:01<00:00,  2.16it/s]\n",
            "Training Progress: 100%|██████████| 10/10 [00:01<00:00,  6.92it/s]\n",
            "Evaluation Progress: 100%|██████████| 7/7 [00:00<00:00, 389.35it/s]\n"
          ]
        },
        {
          "output_type": "stream",
          "name": "stdout",
          "text": [
            "Found 786 valid files out of 786\n"
          ]
        },
        {
          "output_type": "stream",
          "name": "stderr",
          "text": [
            "Extracting layer4 SimAM 3: 100%|██████████| 25/25 [00:14<00:00,  1.72it/s]\n"
          ]
        },
        {
          "output_type": "stream",
          "name": "stdout",
          "text": [
            "Found 100 valid files out of 100\n"
          ]
        },
        {
          "output_type": "stream",
          "name": "stderr",
          "text": [
            "Extracting layer4 SimAM 3: 100%|██████████| 4/4 [00:02<00:00,  1.49it/s]\n",
            "Training Progress: 100%|██████████| 10/10 [00:01<00:00,  6.88it/s]\n",
            "Evaluation Progress: 100%|██████████| 7/7 [00:00<00:00, 459.53it/s]\n"
          ]
        },
        {
          "output_type": "stream",
          "name": "stdout",
          "text": [
            "Found 786 valid files out of 786\n"
          ]
        },
        {
          "output_type": "stream",
          "name": "stderr",
          "text": [
            "Extracting layer4 relu 6: 100%|██████████| 25/25 [00:14<00:00,  1.73it/s]\n"
          ]
        },
        {
          "output_type": "stream",
          "name": "stdout",
          "text": [
            "Found 100 valid files out of 100\n"
          ]
        },
        {
          "output_type": "stream",
          "name": "stderr",
          "text": [
            "Extracting layer4 relu 6: 100%|██████████| 4/4 [00:01<00:00,  2.10it/s]\n",
            "Training Progress: 100%|██████████| 10/10 [00:01<00:00,  6.08it/s]\n",
            "Evaluation Progress: 100%|██████████| 7/7 [00:00<00:00, 443.15it/s]\n"
          ]
        },
        {
          "output_type": "stream",
          "name": "stdout",
          "text": [
            "Found 786 valid files out of 786\n"
          ]
        },
        {
          "output_type": "stream",
          "name": "stderr",
          "text": [
            "Extracting pooling: 100%|██████████| 25/25 [00:14<00:00,  1.73it/s]\n"
          ]
        },
        {
          "output_type": "stream",
          "name": "stdout",
          "text": [
            "Found 100 valid files out of 100\n"
          ]
        },
        {
          "output_type": "stream",
          "name": "stderr",
          "text": [
            "Extracting pooling: 100%|██████████| 4/4 [00:01<00:00,  2.24it/s]\n",
            "Training Progress: 100%|██████████| 10/10 [00:00<00:00, 12.22it/s]\n",
            "Evaluation Progress: 100%|██████████| 7/7 [00:00<00:00, 874.80it/s]\n"
          ]
        },
        {
          "output_type": "display_data",
          "data": {
            "text/plain": [
              "<Figure size 1000x500 with 2 Axes>"
            ],
            "image/png": "[encoded data removed]"
          },
          "metadata": {}
        }
      ]
    }
  ]
}