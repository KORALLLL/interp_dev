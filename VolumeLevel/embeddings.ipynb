{
 "cells": [
  {
   "cell_type": "code",
   "execution_count": null,
   "metadata": {},
   "outputs": [
    {
     "name": "stderr",
     "output_type": "stream",
     "text": [
      "c:\\Users\\matve\\AppData\\Local\\Programs\\Python\\Python311\\Lib\\site-packages\\tqdm\\auto.py:21: TqdmWarning: IProgress not found. Please update jupyter and ipywidgets. See https://ipywidgets.readthedocs.io/en/stable/user_install.html\n",
      "  from .autonotebook import tqdm as notebook_tqdm\n"
     ]
    }
   ],
   "source": [
    "import chromadb\n",
    "import numpy as np\n",
    "import torch\n",
    "import wespeaker\n",
    "import pandas as pd"
   ]
  },
  {
   "cell_type": "code",
   "execution_count": null,
   "metadata": {},
   "outputs": [],
   "source": [
    "df_train = pd.read_csv('dataset/train.csv')\n",
    "df_test = pd.read_csv('dataset/test.csv')\n",
    "\n",
    "train_audio_files = df_train['audio_path'].to_list()\n",
    "test_audio_files = df_test['audio_path'].to_list()"
   ]
  },
  {
   "cell_type": "code",
   "execution_count": 85,
   "metadata": {},
   "outputs": [],
   "source": [
    "def extract_embeddings(df, audio_files, device, pretrain_dir):\n",
    "    \"\"\"\n",
    "    Extracts embeddings from audio files using the WeSpeaker model\n",
    "    \"\"\"\n",
    "    model = wespeaker.load_model_local(pretrain_dir)\n",
    "    model.set_device(device)\n",
    "\n",
    "    embeddings = []\n",
    "\n",
    "    for file_path in audio_files:\n",
    "        data, sample_rate = sf.read(file_path)\n",
    "\n",
    "        pcm = torch.from_numpy(data).float()\n",
    "\n",
    "        if len(pcm.shape) == 1:\n",
    "            pcm = pcm.unsqueeze(0)  # Добавляем измерение для канала\n",
    "        elif len(pcm.shape) == 2:\n",
    "            pcm = pcm.transpose(0, 1)  # Меняем местами каналы и сэмплы\n",
    "\n",
    "        embedding = model.extract_embedding_from_pcm(pcm, sample_rate)\n",
    "\n",
    "        embedding = embedding.cpu().numpy()\n",
    "        embeddings.append({\n",
    "            'file_path': str(file_path),\n",
    "            'embedding': embedding,\n",
    "            'label': df[df['audio_path'] == file_path]['class'].values[0]\n",
    "        })\n",
    "\n",
    "    return embeddings\n",
    "\n",
    "\n",
    "def save_to_chromadb(embeddings, db_path, split):\n",
    "    \"\"\"\n",
    "    Stores embeddings in ChromaDB\n",
    "    \"\"\"\n",
    "    client = chromadb.PersistentClient(path=db_path)\n",
    "    collection = client.get_or_create_collection(name=\"gender_embeddings\")\n",
    "\n",
    "    collection.add(\n",
    "        ids=[f\"{split}_{i}\" for i in range(len(embeddings))],\n",
    "        embeddings=[item['embedding'] for item in embeddings],\n",
    "        metadatas=[{\n",
    "            \"file_path\": item['file_path'], \"label\": item['label'],\n",
    "            \"split\": split\n",
    "        }\n",
    "            for item in embeddings]\n",
    "    )"
   ]
  },
  {
   "cell_type": "code",
   "execution_count": null,
   "metadata": {},
   "outputs": [],
   "source": [
    "device = torch.device(\"cuda\" if torch.cuda.is_available() else \"cpu\")\n",
    "\n",
    "pretrain_dir = 'voxblink2_samresnet34'\n",
    "\n",
    "test_embeddings = extract_embeddings(df_test, test_audio_files, device, pretrain_dir)"
   ]
  },
  {
   "cell_type": "code",
   "execution_count": 87,
   "metadata": {},
   "outputs": [
    {
     "data": {
      "text/plain": [
       "300"
      ]
     },
     "execution_count": 87,
     "metadata": {},
     "output_type": "execute_result"
    }
   ],
   "source": [
    "len(test_embeddings)"
   ]
  },
  {
   "cell_type": "code",
   "execution_count": null,
   "metadata": {},
   "outputs": [],
   "source": [
    "train_embeddings = extract_embeddings(df_train, train_audio_files, device, pretrain_dir)"
   ]
  },
  {
   "cell_type": "code",
   "execution_count": 89,
   "metadata": {},
   "outputs": [
    {
     "data": {
      "text/plain": [
       "1800"
      ]
     },
     "execution_count": 89,
     "metadata": {},
     "output_type": "execute_result"
    }
   ],
   "source": [
    "len(train_embeddings)"
   ]
  },
  {
   "cell_type": "code",
   "execution_count": 90,
   "metadata": {},
   "outputs": [],
   "source": [
    "save_to_chromadb(train_embeddings, 'chroma_db', 'train')\n",
    "save_to_chromadb(test_embeddings, 'chroma_db', 'test')"
   ]
  }
 ],
 "metadata": {
  "kernelspec": {
   "display_name": "Python 3",
   "language": "python",
   "name": "python3"
  },
  "language_info": {
   "codemirror_mode": {
    "name": "ipython",
    "version": 3
   },
   "file_extension": ".py",
   "mimetype": "text/x-python",
   "name": "python",
   "nbconvert_exporter": "python",
   "pygments_lexer": "ipython3",
   "version": "3.11.9"
  }
 },
 "nbformat": 4,
 "nbformat_minor": 2
}
