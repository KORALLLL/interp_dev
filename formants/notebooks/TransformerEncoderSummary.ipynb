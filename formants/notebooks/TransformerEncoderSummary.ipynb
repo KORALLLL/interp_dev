{
 "cells": [
  {
   "cell_type": "code",
   "execution_count": 1,
   "id": "5c4a3bea-f6d9-40cb-b8d4-6b5891346912",
   "metadata": {},
   "outputs": [
    {
     "name": "stdout",
     "output_type": "stream",
     "text": [
      " PYTHONPATH set to: C:\\Users\\Илья\\Desktop\\interp_dev\n"
     ]
    }
   ],
   "source": [
    "import sys\n",
    "import os\n",
    "project_root = os.path.abspath(os.path.join(os.getcwd(), '..', '..'))\n",
    "if project_root not in sys.path:\n",
    "    sys.path.append(project_root)\n",
    "\n",
    "print(\" PYTHONPATH set to:\", project_root)"
   ]
  },
  {
   "cell_type": "code",
   "execution_count": 3,
   "id": "a8258ca5-d409-471d-9188-1e13e398e45a",
   "metadata": {},
   "outputs": [],
   "source": [
    "import torch\n",
    "import torch.nn as nn\n",
    "from torchinfo import summary\n",
    "\n",
    "from formants.tokenizer.phoneme_tokenizer import PhonemeTokenizer\n",
    "from formants.transformer.transformer_encoder import TransformerEncoderAdaLN"
   ]
  },
  {
   "cell_type": "code",
   "execution_count": 5,
   "id": "29c828fc-b8c6-4c08-96bc-1d0da3aabd95",
   "metadata": {},
   "outputs": [
    {
     "name": "stdout",
     "output_type": "stream",
     "text": [
      "Working dir: C:\\Users\\Илья\\Desktop\\interp_dev\n"
     ]
    }
   ],
   "source": [
    "os.chdir(\"C:/Users/Илья/Desktop/interp_dev\")  #установка вручную\n",
    "print(\"Working dir:\", os.getcwd())"
   ]
  },
  {
   "cell_type": "code",
   "execution_count": 7,
   "id": "4f2f05d2-6c05-4c5d-9911-1f9905c1471a",
   "metadata": {},
   "outputs": [],
   "source": [
    "vocab_path = \"formants/tokenizer/phoneme_vocab.json\"\n",
    "\n",
    "tokenizer = PhonemeTokenizer(vocab_path)\n",
    "\n",
    "vocab_size = len(tokenizer.vocab)\n",
    "pad_token_id = tokenizer.pad_token_id"
   ]
  },
  {
   "cell_type": "code",
   "execution_count": 15,
   "id": "1512a8bf-a2bb-4c68-9a41-1b2bc4b8ddaf",
   "metadata": {},
   "outputs": [],
   "source": [
    "model = TransformerEncoderAdaLN(\n",
    "    vocab_size=vocab_size,\n",
    "    hidden_dim=512,\n",
    "    num_heads=8,\n",
    "    num_blocks = 2,\n",
    "    dropout=0.1,\n",
    "    pad_token_id=pad_token_id,\n",
    "    max_len=256\n",
    ")\n"
   ]
  },
  {
   "cell_type": "code",
   "execution_count": 17,
   "id": "dfa0cd98-0b76-4239-9d82-227265927f13",
   "metadata": {},
   "outputs": [],
   "source": [
    "batch_size = 2\n",
    "seq_len = 50\n",
    "\n",
    "dummy_token_ids = torch.randint(0, vocab_size, (batch_size, seq_len))\n",
    "dummy_speech_embedding = torch.randn(batch_size, 256)"
   ]
  },
  {
   "cell_type": "code",
   "execution_count": 19,
   "id": "c6189e27-93fb-445c-893d-0853a408aaa1",
   "metadata": {},
   "outputs": [
    {
     "data": {
      "text/plain": [
       "=================================================================================================================================================\n",
       "Layer (type:depth-idx)                        Input Shape               Output Shape              Param #                   Trainable\n",
       "=================================================================================================================================================\n",
       "TransformerEncoderAdaLN                       [2, 50]                   [2, 50, 512]              --                        True\n",
       "├─Embedding: 1-1                              [2, 50]                   [2, 50, 512]              36,352                    True\n",
       "├─LearnablePositionalEncoding: 1-2            [2, 50, 512]              [2, 50, 512]              --                        True\n",
       "│    └─Embedding: 2-1                         [1, 50]                   [1, 50, 512]              131,072                   True\n",
       "├─Dropout: 1-3                                [2, 50, 512]              [2, 50, 512]              --                        --\n",
       "├─MlpAdaLN: 1-4                               [2, 256]                  [2, 512]                  --                        True\n",
       "│    └─Linear: 2-2                            [2, 256]                  [2, 128]                  32,896                    True\n",
       "│    └─ReLU: 2-3                              [2, 128]                  [2, 128]                  --                        --\n",
       "│    └─Linear: 2-4                            [2, 128]                  [2, 3072]                 396,288                   True\n",
       "├─ModuleList: 1-7                             --                        --                        (recursive)               True\n",
       "│    └─TransformerBlockAdaLN: 2-5             [2, 50, 512]              [2, 50, 512]              --                        True\n",
       "│    │    └─AdaptiveLayerNorm: 3-1            [2, 50, 512]              [2, 50, 512]              --                        --\n",
       "│    │    └─MultiHeadSelfAttention: 3-2       [2, 50, 512]              [2, 50, 512]              1,050,624                 True\n",
       "│    │    └─AdaptiveLayerNorm: 3-3            [2, 50, 512]              [2, 50, 512]              --                        --\n",
       "│    │    └─FeedForwardAda: 3-4               [2, 50, 512]              [2, 50, 512]              2,099,712                 True\n",
       "├─MlpAdaLN: 1-6                               [2, 256]                  [2, 512]                  (recursive)               True\n",
       "│    └─Linear: 2-6                            [2, 256]                  [2, 128]                  (recursive)               True\n",
       "│    └─ReLU: 2-7                              [2, 128]                  [2, 128]                  --                        --\n",
       "│    └─Linear: 2-8                            [2, 128]                  [2, 3072]                 (recursive)               True\n",
       "├─ModuleList: 1-7                             --                        --                        (recursive)               True\n",
       "│    └─TransformerBlockAdaLN: 2-9             [2, 50, 512]              [2, 50, 512]              --                        True\n",
       "│    │    └─AdaptiveLayerNorm: 3-5            [2, 50, 512]              [2, 50, 512]              --                        --\n",
       "│    │    └─MultiHeadSelfAttention: 3-6       [2, 50, 512]              [2, 50, 512]              1,050,624                 True\n",
       "│    │    └─AdaptiveLayerNorm: 3-7            [2, 50, 512]              [2, 50, 512]              --                        --\n",
       "│    │    └─FeedForwardAda: 3-8               [2, 50, 512]              [2, 50, 512]              2,099,712                 True\n",
       "=================================================================================================================================================\n",
       "Total params: 6,897,280\n",
       "Trainable params: 6,897,280\n",
       "Non-trainable params: 0\n",
       "Total mult-adds (Units.MEGABYTES): 14.52\n",
       "=================================================================================================================================================\n",
       "Input size (MB): 0.00\n",
       "Forward/backward pass size (MB): 8.09\n",
       "Params size (MB): 27.59\n",
       "Estimated Total Size (MB): 35.68\n",
       "================================================================================================================================================="
      ]
     },
     "execution_count": 19,
     "metadata": {},
     "output_type": "execute_result"
    }
   ],
   "source": [
    "summary(\n",
    "    model,\n",
    "    input_data=(dummy_token_ids, dummy_speech_embedding),\n",
    "    col_names=[\"input_size\", \"output_size\", \"num_params\", \"trainable\"],\n",
    "    depth=3,\n",
    "    dtypes=[torch.long, torch.float]\n",
    ")\n"
   ]
  },
  {
   "cell_type": "code",
   "execution_count": null,
   "id": "ab66c307-b543-427f-958c-f5ec954bdff9",
   "metadata": {},
   "outputs": [],
   "source": []
  }
 ],
 "metadata": {
  "kernelspec": {
   "display_name": "Python [conda env:base] *",
   "language": "python",
   "name": "conda-base-py"
  },
  "language_info": {
   "codemirror_mode": {
    "name": "ipython",
    "version": 3
   },
   "file_extension": ".py",
   "mimetype": "text/x-python",
   "name": "python",
   "nbconvert_exporter": "python",
   "pygments_lexer": "ipython3",
   "version": "3.12.7"
  }
 },
 "nbformat": 4,
 "nbformat_minor": 5
}
