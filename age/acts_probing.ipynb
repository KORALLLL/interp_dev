{
  "nbformat": 4,
  "nbformat_minor": 0,
  "metadata": {
    "colab": {
      "provenance": [],
      "gpuType": "T4"
    },
    "kernelspec": {
      "name": "python3",
      "display_name": "Python 3"
    },
    "language_info": {
      "name": "python"
    },
    "accelerator": "GPU"
  },
  "cells": [
    {
      "cell_type": "markdown",
      "source": [
        "### Импорт библиотек"
      ],
      "metadata": {
        "id": "NZVHMrNr6YT-"
      }
    },
    {
      "cell_type": "code",
      "source": [
        "!pip install git+https://github.com/wenet-e2e/wespeaker.git"
      ],
      "metadata": {
        "id": "fKCPYULW66O8"
      },
      "execution_count": null,
      "outputs": []
    },
    {
      "cell_type": "code",
      "source": [
        "import wespeaker\n",
        "import os\n",
        "import zipfile\n",
        "from pathlib import Path\n",
        "import numpy as np\n",
        "import matplotlib.pyplot as plt\n",
        "from sklearn.preprocessing import LabelEncoder\n",
        "from sklearn.metrics import accuracy_score, f1_score\n",
        "from torch.utils.data import Dataset, DataLoader\n",
        "import torch\n",
        "import torch.nn as nn\n",
        "import torch.optim as optim\n",
        "import torchaudio\n",
        "import torchaudio.compliance.kaldi as kaldi\n",
        "from tqdm import tqdm\n",
        "import pandas as pd"
      ],
      "metadata": {
        "id": "2u_MjIFO9Lz_"
      },
      "execution_count": 1,
      "outputs": []
    },
    {
      "cell_type": "code",
      "source": [
        "with zipfile.ZipFile('/content/age_dataset.zip', 'r') as zip_ref:\n",
        "    zip_ref.extractall('dataset')\n",
        "\n",
        "with zipfile.ZipFile('/content/voxblink2_samresnet34.zip', 'r') as zip_ref:\n",
        "    zip_ref.extractall('model')"
      ],
      "metadata": {
        "id": "bsGV7v4H9o-1"
      },
      "execution_count": 2,
      "outputs": []
    },
    {
      "cell_type": "markdown",
      "source": [
        "### Функции для получения активаций"
      ],
      "metadata": {
        "id": "K0md91B99h4v"
      }
    },
    {
      "cell_type": "code",
      "source": [
        "class ActivationDataset(Dataset):\n",
        "    def __init__(self, activations, labels):\n",
        "        self.X = self.pad_activations(activations)\n",
        "        self.y = torch.tensor(labels, dtype=torch.long)\n",
        "\n",
        "    def __getitem__(self, idx):\n",
        "        return self.X[idx], self.y[idx]\n",
        "\n",
        "    def __len__(self):\n",
        "        return len(self.y)\n",
        "\n",
        "    def pad_activations(self, activations):\n",
        "        activations = [act.view(1, -1) if len(act.shape) != 2 else act for act in activations]\n",
        "        max_len = max(act.shape[1] for act in activations)\n",
        "\n",
        "        padded_activations = [\n",
        "            torch.nn.functional.pad(act, (0, max_len - act.shape[1]))\n",
        "            for act in activations\n",
        "        ]\n",
        "\n",
        "        return torch.stack(padded_activations).squeeze(1)"
      ],
      "metadata": {
        "id": "YK72HZXm9hMo"
      },
      "execution_count": 3,
      "outputs": []
    },
    {
      "cell_type": "code",
      "source": [
        "class GetActivations(nn.Module):\n",
        "    \"\"\"\n",
        "    Class for getting activations from a model.\n",
        "    \"\"\"\n",
        "\n",
        "    def __init__(self, model):\n",
        "        super(GetActivations, self).__init__()\n",
        "        self.model = model\n",
        "\n",
        "    def forward(self, x):\n",
        "        out = x.permute(0, 2, 1)\n",
        "        activations = []\n",
        "        model_front = self.model.model.front\n",
        "\n",
        "        x = out.unsqueeze(dim=1)\n",
        "\n",
        "        out = model_front.relu(model_front.bn1(model_front.conv1(x)))\n",
        "        activations.append({\"first relu\": out})\n",
        "\n",
        "        for name, layer in model_front.named_children():\n",
        "            c_sim = 0\n",
        "            c_relu = 0\n",
        "            if name in ['layer1', 'layer2', 'layer3', 'layer4']:\n",
        "                for sec_name, sec_layer in layer.named_children():\n",
        "                    identity = out\n",
        "\n",
        "                    out = sec_layer.relu(sec_layer.bn1(sec_layer.conv1(out)))\n",
        "                    c_relu += 1\n",
        "                    activations.append({f\"{name} relu {c_relu}\": out})\n",
        "\n",
        "                    out = sec_layer.bn2(sec_layer.conv2(out))\n",
        "                    out = sec_layer.SimAM(out)\n",
        "                    c_sim += 1\n",
        "                    activations.append({f\"{name} SimAM {c_sim}\": out})\n",
        "\n",
        "                    if sec_layer.downsample is not None:\n",
        "                        identity = sec_layer.downsample(identity)\n",
        "\n",
        "                    out += identity\n",
        "                    out = sec_layer.relu(out)\n",
        "                    c_relu += 1\n",
        "                    activations.append({f\"{name} relu {c_relu}\": out})\n",
        "\n",
        "        out = self.model.model.pooling(out)\n",
        "        activations.append({\"pooling\": out})\n",
        "\n",
        "        if self.model.model.drop:\n",
        "            out = self.model.model.drop(out)\n",
        "\n",
        "        out = self.model.model.bottleneck(out)\n",
        "\n",
        "        return activations, out"
      ],
      "metadata": {
        "id": "Vm1KGsPl-oVN"
      },
      "execution_count": 4,
      "outputs": []
    },
    {
      "cell_type": "code",
      "source": [
        "class AgeCls(nn.Module):\n",
        "    \"\"\"\n",
        "    Model class for gender classification\n",
        "    \"\"\"\n",
        "\n",
        "    def __init__(self, input_size, num_classes=8):\n",
        "        super(AgeCls, self).__init__()\n",
        "        self.fc = nn.Linear(input_size, num_classes)\n",
        "\n",
        "    def forward(self, x):\n",
        "        return self.fc(x)"
      ],
      "metadata": {
        "id": "_7CRjkFw-sGo"
      },
      "execution_count": 5,
      "outputs": []
    },
    {
      "cell_type": "code",
      "source": [
        "def compute_fbank(wavform,\n",
        "                  sample_rate=16000,\n",
        "                  num_mel_bins=80,\n",
        "                  frame_length=25,\n",
        "                  frame_shift=10,\n",
        "                  cmn=True):\n",
        "    feat = kaldi.fbank(wavform,\n",
        "                       num_mel_bins=num_mel_bins,\n",
        "                       frame_length=frame_length,\n",
        "                       frame_shift=frame_shift,\n",
        "                       sample_frequency=sample_rate)\n",
        "    if cmn:\n",
        "        feat = feat - torch.mean(feat, 0)\n",
        "    return feat"
      ],
      "metadata": {
        "id": "qu8c3NtpB_3I"
      },
      "execution_count": 6,
      "outputs": []
    },
    {
      "cell_type": "code",
      "source": [
        "resample_rate = 16000\n",
        "device = torch.device(\"cuda\" if torch.cuda.is_available() else \"cpu\")\n",
        "\n",
        "def extract_feature_from_pcm(pcm: torch.Tensor, sample_rate: int):\n",
        "    pcm = pcm.to(torch.float)\n",
        "    if sample_rate != resample_rate:\n",
        "        pcm = torchaudio.transforms.Resample(\n",
        "            orig_freq=sample_rate, new_freq=resample_rate)(pcm)\n",
        "    feats = compute_fbank(pcm,\n",
        "                          sample_rate=resample_rate,\n",
        "                          cmn=True)\n",
        "    feats = feats.unsqueeze(0)\n",
        "    feats = feats.to(device)\n",
        "\n",
        "    return feats"
      ],
      "metadata": {
        "id": "7LSDvx80By47"
      },
      "execution_count": 7,
      "outputs": []
    },
    {
      "cell_type": "code",
      "source": [
        "def extract_features(pcm: torch.Tensor, sample_rate: int):\n",
        "    return extract_feature_from_pcm(pcm, sample_rate)"
      ],
      "metadata": {
        "id": "30ti-3TGCBLC"
      },
      "execution_count": 8,
      "outputs": []
    },
    {
      "cell_type": "code",
      "source": [
        "def get_activations(model, audio_path, device, target_samples=16000):\n",
        "    \"\"\"\n",
        "    Gets model activations.\n",
        "    \"\"\"\n",
        "    waveform, sr = torchaudio.load(audio_path)\n",
        "\n",
        "    if waveform.shape[1] > target_samples:\n",
        "        waveform = waveform[:, :target_samples]\n",
        "    else:\n",
        "        padding = target_samples - waveform.shape[1]\n",
        "        waveform = torch.nn.functional.pad(waveform, (0, padding))\n",
        "\n",
        "    feats = extract_features(waveform, sr)\n",
        "\n",
        "    with torch.no_grad():\n",
        "        activations = model(feats)\n",
        "\n",
        "    return {\n",
        "        'file_path': str(audio_path),\n",
        "        'act': activations[0] if isinstance(activations, tuple) else activations\n",
        "    }"
      ],
      "metadata": {
        "id": "WLIknZMx-4N9"
      },
      "execution_count": 9,
      "outputs": []
    },
    {
      "cell_type": "code",
      "source": [
        "def get_activations_for_layer(model, audio_files, device,\n",
        "                              layer_name, labels, target_samples=16000):\n",
        "    \"\"\"\n",
        "    Gets model activations for a specified layer.\n",
        "    \"\"\"\n",
        "    label_encoder = LabelEncoder()\n",
        "    labels = label_encoder.fit_transform(labels)\n",
        "\n",
        "    activations = []\n",
        "    with torch.no_grad():\n",
        "        for audio_input in tqdm(audio_files, desc=f\"Extracting {layer_name}\"):\n",
        "            waveform, sr = torchaudio.load(str(audio_input))\n",
        "            if waveform.shape[1] > target_samples:\n",
        "                waveform = waveform[:, :target_samples]\n",
        "            else:\n",
        "                padding = target_samples - waveform.shape[1]\n",
        "                waveform = torch.nn.functional.pad(waveform, (0, padding))\n",
        "            feats = extract_features(waveform, sr)\n",
        "\n",
        "            feats = feats.to(device)\n",
        "            acts, _ = model(feats)\n",
        "\n",
        "            activation = next((d[layer_name] for d in acts if layer_name in d), None)\n",
        "            if activation is not None:\n",
        "                activations.append(activation.cpu())\n",
        "\n",
        "    return activations, labels"
      ],
      "metadata": {
        "id": "-DZpWu1GCO0-"
      },
      "execution_count": 10,
      "outputs": []
    },
    {
      "cell_type": "code",
      "source": [
        "def train(train_loader, input_size, layer, device, num_epochs=10):\n",
        "    \"\"\"\n",
        "    Train a model on a train dataset\n",
        "    \"\"\"\n",
        "    model = AgeCls(input_size).to(device)\n",
        "    criterion = nn.CrossEntropyLoss()\n",
        "    optimizer = optim.Adam(model.parameters())\n",
        "\n",
        "    for epoch in tqdm(range(num_epochs), desc=\"Training Progress\"):\n",
        "        model.train()\n",
        "\n",
        "        for X, y in train_loader:\n",
        "            X = X.to(device)\n",
        "\n",
        "            outputs = model(X)\n",
        "            loss = criterion(outputs, y.to(device))\n",
        "\n",
        "            optimizer.zero_grad()\n",
        "            loss.backward()\n",
        "            optimizer.step()\n",
        "\n",
        "    return model"
      ],
      "metadata": {
        "id": "wNw6_rAcC7T4"
      },
      "execution_count": 11,
      "outputs": []
    },
    {
      "cell_type": "code",
      "source": [
        "def evaluate(model, test_loader, device):\n",
        "    \"\"\"\n",
        "    Evaluates a model on a test dataset.\n",
        "    Calculates accuracy and f1-score\n",
        "    \"\"\"\n",
        "    model.eval()\n",
        "    y_true, y_pred = [], []\n",
        "    with torch.no_grad():\n",
        "        for X, y in tqdm(\n",
        "                test_loader, desc=\"Evaluation Progress\"):\n",
        "            X, y = X.to(device), y.to(device)\n",
        "            outputs = model(X)\n",
        "            preds = outputs.argmax(axis=1)\n",
        "\n",
        "            y_true.extend(y.cpu().numpy())\n",
        "            y_pred.extend(preds.cpu().numpy())\n",
        "\n",
        "    y_true = np.array(y_true)\n",
        "    y_pred = np.array(y_pred)\n",
        "\n",
        "    metrics = {\n",
        "        \"accuracy\": accuracy_score(y_true, y_pred),\n",
        "        \"f1_score\": f1_score(y_true, y_pred, average=\"weighted\")\n",
        "    }\n",
        "\n",
        "    return metrics"
      ],
      "metadata": {
        "id": "qYzfd70RC710"
      },
      "execution_count": 12,
      "outputs": []
    },
    {
      "cell_type": "code",
      "source": [
        "def plot_metrics(metrics_list, save_path):\n",
        "    layers = [m[0] for m in metrics_list]\n",
        "    accuracies = [m[1][\"accuracy\"] for m in metrics_list]\n",
        "    f1_scores = [m[1][\"f1_score\"] for m in metrics_list]\n",
        "\n",
        "    plt.figure(figsize=(10, 5))\n",
        "\n",
        "    plt.subplot(1, 2, 1)\n",
        "    plt.plot(range(1, len(layers)+1), accuracies, color='b', label=\"Accuracy\")\n",
        "    plt.xlabel(\"Layers\")\n",
        "    plt.ylabel(\"Accuracy\")\n",
        "    plt.title(\"Accuracy across layers\")\n",
        "    plt.legend()\n",
        "\n",
        "    plt.subplot(1, 2, 2)\n",
        "    plt.plot(range(1, len(layers)+1), f1_scores, color='g', label=\"F1-score\")\n",
        "    plt.xlabel(\"Layers\")\n",
        "    plt.ylabel(\"F1-score\")\n",
        "    plt.title(\"F1-score across layers\")\n",
        "    plt.legend()\n",
        "\n",
        "    plt.tight_layout()\n",
        "    plt.savefig(save_path)"
      ],
      "metadata": {
        "id": "NrkyUltUC975"
      },
      "execution_count": 13,
      "outputs": []
    },
    {
      "cell_type": "code",
      "source": [
        "def save_metrics(metrics_list, save_path):\n",
        "    \"\"\"\n",
        "    Saves computed metrics in .txt file\n",
        "    \"\"\"\n",
        "    os.makedirs(os.path.dirname(save_path), exist_ok=True)\n",
        "\n",
        "    with open(save_path, 'w') as f:\n",
        "        for layer, metrics in metrics_list:\n",
        "            f.write(f\"{layer}\\n\")\n",
        "            for key, value in metrics.items():\n",
        "                f.write(f\"{key}: {value}\\n\")"
      ],
      "metadata": {
        "id": "TrU8lJVZDBUa"
      },
      "execution_count": 14,
      "outputs": []
    },
    {
      "cell_type": "markdown",
      "source": [
        "### Получение активаций"
      ],
      "metadata": {
        "id": "gMl7pOrCDR-H"
      }
    },
    {
      "cell_type": "code",
      "source": [
        "df_train = pd.read_csv(\"/content/dataset/train.csv\")\n",
        "df_test = pd.read_csv(\"/content/dataset/test.csv\")"
      ],
      "metadata": {
        "id": "VhC1ZVjwDDgz"
      },
      "execution_count": 15,
      "outputs": []
    },
    {
      "cell_type": "code",
      "source": [
        "df_train[\"filename\"] = \"/content/dataset/\" + df_train[\"filename\"]\n",
        "df_test[\"filename\"] = \"/content/dataset/\" + df_test[\"filename\"]"
      ],
      "metadata": {
        "id": "hJfRQVj0EPQr"
      },
      "execution_count": 16,
      "outputs": []
    },
    {
      "cell_type": "code",
      "source": [
        "train_files = df_train[\"filename\"].to_list()\n",
        "test_files = df_test[\"filename\"].to_list()\n",
        "\n",
        "train_labels = df_train[\"age\"].to_list()\n",
        "test_labels = df_test[\"age\"].to_list()"
      ],
      "metadata": {
        "id": "BsqThvYEElfF"
      },
      "execution_count": 17,
      "outputs": []
    },
    {
      "cell_type": "code",
      "source": [
        "device = torch.device(\"cuda\" if torch.cuda.is_available() else \"cpu\")\n",
        "\n",
        "model = wespeaker.load_model_local(\"/content/model/voxblink2_samresnet34\")\n",
        "model.set_device(device)\n",
        "\n",
        "acts_model = GetActivations(model)\n",
        "acts = get_activations(acts_model, train_files[0], device)\n",
        "layers = [list(item.keys())[0] for item in acts['act']]"
      ],
      "metadata": {
        "id": "8KaVdGYDFANA"
      },
      "execution_count": 18,
      "outputs": []
    },
    {
      "cell_type": "code",
      "source": [
        "metrics_list = []\n",
        "\n",
        "for layer in layers:\n",
        "    train_acts, train_labels = get_activations_for_layer(\n",
        "        acts_model, train_files, device, layer, train_labels)\n",
        "    test_acts, test_labels = get_activations_for_layer(\n",
        "        acts_model, test_files, device, layer, test_labels)\n",
        "\n",
        "    train_dataset = ActivationDataset(train_acts, train_labels)\n",
        "    train_loader = DataLoader(train_dataset, batch_size=16, shuffle=True)\n",
        "\n",
        "    test_dataset = ActivationDataset(test_acts, test_labels)\n",
        "    test_loader = DataLoader(test_dataset, batch_size=16, shuffle=False)\n",
        "\n",
        "    trained_model = train(\n",
        "        train_loader, train_dataset.X.shape[-1], layer, device)\n",
        "    torch.save(trained_model.state_dict(),\n",
        "                f\"/content/models_test/{layer}.pth\")\n",
        "    metrics = evaluate(trained_model, test_loader, device)\n",
        "\n",
        "    metrics_list.append((layer, metrics))\n",
        "\n",
        "    torch.cuda.empty_cache()"
      ],
      "metadata": {
        "colab": {
          "base_uri": "https://localhost:8080/"
        },
        "id": "WsE_1_k2GIUL",
        "outputId": "ead79c25-5e7a-4510-80f8-4b5c60c12167"
      },
      "execution_count": 21,
      "outputs": [
        {
          "output_type": "stream",
          "name": "stderr",
          "text": [
            "Extracting first relu: 100%|██████████| 960/960 [00:19<00:00, 49.46it/s]\n",
            "Extracting first relu: 100%|██████████| 237/237 [00:04<00:00, 58.47it/s]\n",
            "Training Progress: 100%|██████████| 10/10 [00:03<00:00,  3.03it/s]\n",
            "Evaluation Progress: 100%|██████████| 15/15 [00:00<00:00, 152.51it/s]\n",
            "Extracting layer1 relu 1: 100%|██████████| 960/960 [00:17<00:00, 55.64it/s]\n",
            "Extracting layer1 relu 1: 100%|██████████| 237/237 [00:04<00:00, 54.32it/s]\n",
            "Training Progress: 100%|██████████| 10/10 [00:03<00:00,  3.21it/s]\n",
            "Evaluation Progress: 100%|██████████| 15/15 [00:00<00:00, 205.62it/s]\n",
            "Extracting layer1 SimAM 1: 100%|██████████| 960/960 [00:17<00:00, 55.94it/s]\n",
            "Extracting layer1 SimAM 1: 100%|██████████| 237/237 [00:04<00:00, 50.91it/s]\n",
            "Training Progress: 100%|██████████| 10/10 [00:02<00:00,  3.39it/s]\n",
            "Evaluation Progress: 100%|██████████| 15/15 [00:00<00:00, 220.62it/s]\n",
            "Extracting layer1 relu 2: 100%|██████████| 960/960 [00:17<00:00, 55.04it/s]\n",
            "Extracting layer1 relu 2: 100%|██████████| 237/237 [00:04<00:00, 51.39it/s]\n",
            "Training Progress: 100%|██████████| 10/10 [00:03<00:00,  3.31it/s]\n",
            "Evaluation Progress: 100%|██████████| 15/15 [00:00<00:00, 220.05it/s]\n",
            "Extracting layer1 relu 3: 100%|██████████| 960/960 [00:17<00:00, 55.63it/s]\n",
            "Extracting layer1 relu 3: 100%|██████████| 237/237 [00:04<00:00, 52.56it/s]\n",
            "Training Progress: 100%|██████████| 10/10 [00:03<00:00,  3.26it/s]\n",
            "Evaluation Progress: 100%|██████████| 15/15 [00:00<00:00, 214.69it/s]\n",
            "Extracting layer1 SimAM 2: 100%|██████████| 960/960 [00:17<00:00, 54.49it/s]\n",
            "Extracting layer1 SimAM 2: 100%|██████████| 237/237 [00:04<00:00, 58.18it/s]\n",
            "Training Progress: 100%|██████████| 10/10 [00:02<00:00,  3.37it/s]\n",
            "Evaluation Progress: 100%|██████████| 15/15 [00:00<00:00, 210.13it/s]\n",
            "Extracting layer1 relu 4: 100%|██████████| 960/960 [00:17<00:00, 53.71it/s]\n",
            "Extracting layer1 relu 4: 100%|██████████| 237/237 [00:04<00:00, 58.85it/s]\n",
            "Training Progress: 100%|██████████| 10/10 [00:03<00:00,  3.22it/s]\n",
            "Evaluation Progress: 100%|██████████| 15/15 [00:00<00:00, 225.09it/s]\n",
            "Extracting layer1 relu 5: 100%|██████████| 960/960 [00:17<00:00, 53.94it/s]\n",
            "Extracting layer1 relu 5: 100%|██████████| 237/237 [00:04<00:00, 51.33it/s]\n",
            "Training Progress: 100%|██████████| 10/10 [00:03<00:00,  3.22it/s]\n",
            "Evaluation Progress: 100%|██████████| 15/15 [00:00<00:00, 184.08it/s]\n",
            "Extracting layer1 SimAM 3: 100%|██████████| 960/960 [00:17<00:00, 55.62it/s]\n",
            "Extracting layer1 SimAM 3: 100%|██████████| 237/237 [00:03<00:00, 59.92it/s]\n",
            "Training Progress: 100%|██████████| 10/10 [00:03<00:00,  3.07it/s]\n",
            "Evaluation Progress: 100%|██████████| 15/15 [00:00<00:00, 195.68it/s]\n",
            "Extracting layer1 relu 6: 100%|██████████| 960/960 [00:16<00:00, 56.77it/s]\n",
            "Extracting layer1 relu 6: 100%|██████████| 237/237 [00:03<00:00, 59.49it/s]\n",
            "Training Progress: 100%|██████████| 10/10 [00:03<00:00,  3.18it/s]\n",
            "Evaluation Progress: 100%|██████████| 15/15 [00:00<00:00, 204.90it/s]\n",
            "Extracting layer2 relu 1: 100%|██████████| 960/960 [00:16<00:00, 57.22it/s]\n",
            "Extracting layer2 relu 1: 100%|██████████| 237/237 [00:03<00:00, 60.11it/s]\n",
            "Training Progress: 100%|██████████| 10/10 [00:02<00:00,  4.80it/s]\n",
            "Evaluation Progress: 100%|██████████| 15/15 [00:00<00:00, 339.43it/s]\n",
            "Extracting layer2 SimAM 1: 100%|██████████| 960/960 [00:16<00:00, 57.46it/s]\n",
            "Extracting layer2 SimAM 1: 100%|██████████| 237/237 [00:03<00:00, 61.10it/s]\n",
            "Training Progress: 100%|██████████| 10/10 [00:01<00:00,  5.09it/s]\n",
            "Evaluation Progress: 100%|██████████| 15/15 [00:00<00:00, 358.31it/s]\n",
            "Extracting layer2 relu 2: 100%|██████████| 960/960 [00:17<00:00, 56.11it/s]\n",
            "Extracting layer2 relu 2: 100%|██████████| 237/237 [00:03<00:00, 61.28it/s]\n",
            "Training Progress: 100%|██████████| 10/10 [00:01<00:00,  5.22it/s]\n",
            "Evaluation Progress: 100%|██████████| 15/15 [00:00<00:00, 368.30it/s]\n",
            "Extracting layer2 relu 3: 100%|██████████| 960/960 [00:18<00:00, 51.36it/s]\n",
            "Extracting layer2 relu 3: 100%|██████████| 237/237 [00:03<00:00, 60.81it/s]\n",
            "Training Progress: 100%|██████████| 10/10 [00:01<00:00,  5.10it/s]\n",
            "Evaluation Progress: 100%|██████████| 15/15 [00:00<00:00, 348.81it/s]\n",
            "Extracting layer2 SimAM 2: 100%|██████████| 960/960 [00:17<00:00, 55.70it/s]\n",
            "Extracting layer2 SimAM 2: 100%|██████████| 237/237 [00:03<00:00, 61.27it/s]\n",
            "Training Progress: 100%|██████████| 10/10 [00:01<00:00,  5.21it/s]\n",
            "Evaluation Progress: 100%|██████████| 15/15 [00:00<00:00, 362.55it/s]\n",
            "Extracting layer2 relu 4: 100%|██████████| 960/960 [00:18<00:00, 53.11it/s]\n",
            "Extracting layer2 relu 4: 100%|██████████| 237/237 [00:03<00:00, 61.53it/s]\n",
            "Training Progress: 100%|██████████| 10/10 [00:01<00:00,  5.06it/s]\n",
            "Evaluation Progress: 100%|██████████| 15/15 [00:00<00:00, 367.39it/s]\n",
            "Extracting layer2 relu 5: 100%|██████████| 960/960 [00:17<00:00, 56.39it/s]\n",
            "Extracting layer2 relu 5: 100%|██████████| 237/237 [00:03<00:00, 61.78it/s]\n",
            "Training Progress: 100%|██████████| 10/10 [00:01<00:00,  5.10it/s]\n",
            "Evaluation Progress: 100%|██████████| 15/15 [00:00<00:00, 315.50it/s]\n",
            "Extracting layer2 SimAM 3: 100%|██████████| 960/960 [00:17<00:00, 55.23it/s]\n",
            "Extracting layer2 SimAM 3: 100%|██████████| 237/237 [00:03<00:00, 60.23it/s]\n",
            "Training Progress: 100%|██████████| 10/10 [00:01<00:00,  5.06it/s]\n",
            "Evaluation Progress: 100%|██████████| 15/15 [00:00<00:00, 368.19it/s]\n",
            "Extracting layer2 relu 6: 100%|██████████| 960/960 [00:17<00:00, 54.09it/s]\n",
            "Extracting layer2 relu 6: 100%|██████████| 237/237 [00:04<00:00, 58.47it/s]\n",
            "Training Progress: 100%|██████████| 10/10 [00:01<00:00,  5.07it/s]\n",
            "Evaluation Progress: 100%|██████████| 15/15 [00:00<00:00, 337.18it/s]\n",
            "Extracting layer2 relu 7: 100%|██████████| 960/960 [00:17<00:00, 54.03it/s]\n",
            "Extracting layer2 relu 7: 100%|██████████| 237/237 [00:04<00:00, 58.57it/s]\n",
            "Training Progress: 100%|██████████| 10/10 [00:02<00:00,  4.91it/s]\n",
            "Evaluation Progress: 100%|██████████| 15/15 [00:00<00:00, 354.35it/s]\n",
            "Extracting layer2 SimAM 4: 100%|██████████| 960/960 [00:17<00:00, 53.54it/s]\n",
            "Extracting layer2 SimAM 4: 100%|██████████| 237/237 [00:03<00:00, 60.36it/s]\n",
            "Training Progress: 100%|██████████| 10/10 [00:01<00:00,  5.13it/s]\n",
            "Evaluation Progress: 100%|██████████| 15/15 [00:00<00:00, 365.46it/s]\n",
            "Extracting layer2 relu 8: 100%|██████████| 960/960 [00:17<00:00, 54.76it/s]\n",
            "Extracting layer2 relu 8: 100%|██████████| 237/237 [00:04<00:00, 58.31it/s]\n",
            "Training Progress: 100%|██████████| 10/10 [00:02<00:00,  4.94it/s]\n",
            "Evaluation Progress: 100%|██████████| 15/15 [00:00<00:00, 365.45it/s]\n",
            "Extracting layer3 relu 1: 100%|██████████| 960/960 [00:17<00:00, 53.73it/s]\n",
            "Extracting layer3 relu 1: 100%|██████████| 237/237 [00:04<00:00, 55.93it/s]\n",
            "Training Progress: 100%|██████████| 10/10 [00:01<00:00,  6.95it/s]\n",
            "Evaluation Progress: 100%|██████████| 15/15 [00:00<00:00, 615.90it/s]\n",
            "Extracting layer3 SimAM 1: 100%|██████████| 960/960 [00:18<00:00, 50.88it/s]\n",
            "Extracting layer3 SimAM 1: 100%|██████████| 237/237 [00:04<00:00, 57.47it/s]\n",
            "Training Progress: 100%|██████████| 10/10 [00:01<00:00,  7.19it/s]\n",
            "Evaluation Progress: 100%|██████████| 15/15 [00:00<00:00, 577.27it/s]\n",
            "Extracting layer3 relu 2: 100%|██████████| 960/960 [00:17<00:00, 53.92it/s]\n",
            "Extracting layer3 relu 2: 100%|██████████| 237/237 [00:04<00:00, 53.70it/s]\n",
            "Training Progress: 100%|██████████| 10/10 [00:01<00:00,  6.93it/s]\n",
            "Evaluation Progress: 100%|██████████| 15/15 [00:00<00:00, 582.36it/s]\n",
            "Extracting layer3 relu 3: 100%|██████████| 960/960 [00:18<00:00, 52.12it/s]\n",
            "Extracting layer3 relu 3: 100%|██████████| 237/237 [00:04<00:00, 54.67it/s]\n",
            "Training Progress: 100%|██████████| 10/10 [00:01<00:00,  7.28it/s]\n",
            "Evaluation Progress: 100%|██████████| 15/15 [00:00<00:00, 635.39it/s]\n",
            "Extracting layer3 SimAM 2: 100%|██████████| 960/960 [00:17<00:00, 56.34it/s]\n",
            "Extracting layer3 SimAM 2: 100%|██████████| 237/237 [00:04<00:00, 54.39it/s]\n",
            "Training Progress: 100%|██████████| 10/10 [00:01<00:00,  7.28it/s]\n",
            "Evaluation Progress: 100%|██████████| 15/15 [00:00<00:00, 634.66it/s]\n",
            "Extracting layer3 relu 4: 100%|██████████| 960/960 [00:16<00:00, 56.81it/s]\n",
            "Extracting layer3 relu 4: 100%|██████████| 237/237 [00:04<00:00, 51.60it/s]\n",
            "Training Progress: 100%|██████████| 10/10 [00:01<00:00,  7.28it/s]\n",
            "Evaluation Progress: 100%|██████████| 15/15 [00:00<00:00, 633.05it/s]\n",
            "Extracting layer3 relu 5: 100%|██████████| 960/960 [00:17<00:00, 56.04it/s]\n",
            "Extracting layer3 relu 5: 100%|██████████| 237/237 [00:04<00:00, 51.33it/s]\n",
            "Training Progress: 100%|██████████| 10/10 [00:01<00:00,  7.34it/s]\n",
            "Evaluation Progress: 100%|██████████| 15/15 [00:00<00:00, 612.63it/s]\n",
            "Extracting layer3 SimAM 3: 100%|██████████| 960/960 [00:16<00:00, 56.65it/s]\n",
            "Extracting layer3 SimAM 3: 100%|██████████| 237/237 [00:04<00:00, 55.28it/s]\n",
            "Training Progress: 100%|██████████| 10/10 [00:01<00:00,  6.49it/s]\n",
            "Evaluation Progress: 100%|██████████| 15/15 [00:00<00:00, 448.05it/s]\n",
            "Extracting layer3 relu 6: 100%|██████████| 960/960 [00:17<00:00, 55.04it/s]\n",
            "Extracting layer3 relu 6: 100%|██████████| 237/237 [00:04<00:00, 57.37it/s]\n",
            "Training Progress: 100%|██████████| 10/10 [00:01<00:00,  6.51it/s]\n",
            "Evaluation Progress: 100%|██████████| 15/15 [00:00<00:00, 480.35it/s]\n",
            "Extracting layer3 relu 7: 100%|██████████| 960/960 [00:17<00:00, 54.72it/s]\n",
            "Extracting layer3 relu 7: 100%|██████████| 237/237 [00:04<00:00, 57.53it/s]\n",
            "Training Progress: 100%|██████████| 10/10 [00:01<00:00,  6.75it/s]\n",
            "Evaluation Progress: 100%|██████████| 15/15 [00:00<00:00, 545.74it/s]\n",
            "Extracting layer3 SimAM 4: 100%|██████████| 960/960 [00:17<00:00, 54.09it/s]\n",
            "Extracting layer3 SimAM 4: 100%|██████████| 237/237 [00:04<00:00, 57.95it/s]\n",
            "Training Progress: 100%|██████████| 10/10 [00:01<00:00,  7.23it/s]\n",
            "Evaluation Progress: 100%|██████████| 15/15 [00:00<00:00, 629.57it/s]\n",
            "Extracting layer3 relu 8: 100%|██████████| 960/960 [00:18<00:00, 53.14it/s]\n",
            "Extracting layer3 relu 8: 100%|██████████| 237/237 [00:04<00:00, 58.72it/s]\n",
            "Training Progress: 100%|██████████| 10/10 [00:01<00:00,  7.21it/s]\n",
            "Evaluation Progress: 100%|██████████| 15/15 [00:00<00:00, 628.15it/s]\n",
            "Extracting layer3 relu 9: 100%|██████████| 960/960 [00:17<00:00, 54.72it/s]\n",
            "Extracting layer3 relu 9: 100%|██████████| 237/237 [00:04<00:00, 58.54it/s]\n",
            "Training Progress: 100%|██████████| 10/10 [00:01<00:00,  7.38it/s]\n",
            "Evaluation Progress: 100%|██████████| 15/15 [00:00<00:00, 614.41it/s]\n",
            "Extracting layer3 SimAM 5: 100%|██████████| 960/960 [00:17<00:00, 53.47it/s]\n",
            "Extracting layer3 SimAM 5: 100%|██████████| 237/237 [00:04<00:00, 58.19it/s]\n",
            "Training Progress: 100%|██████████| 10/10 [00:01<00:00,  7.36it/s]\n",
            "Evaluation Progress: 100%|██████████| 15/15 [00:00<00:00, 609.18it/s]\n",
            "Extracting layer3 relu 10: 100%|██████████| 960/960 [00:17<00:00, 53.76it/s]\n",
            "Extracting layer3 relu 10: 100%|██████████| 237/237 [00:03<00:00, 59.37it/s]\n",
            "Training Progress: 100%|██████████| 10/10 [00:01<00:00,  7.32it/s]\n",
            "Evaluation Progress: 100%|██████████| 15/15 [00:00<00:00, 629.23it/s]\n",
            "Extracting layer3 relu 11: 100%|██████████| 960/960 [00:17<00:00, 55.58it/s]\n",
            "Extracting layer3 relu 11: 100%|██████████| 237/237 [00:04<00:00, 53.87it/s]\n",
            "Training Progress: 100%|██████████| 10/10 [00:01<00:00,  7.27it/s]\n",
            "Evaluation Progress: 100%|██████████| 15/15 [00:00<00:00, 607.72it/s]\n",
            "Extracting layer3 SimAM 6: 100%|██████████| 960/960 [00:16<00:00, 56.64it/s]\n",
            "Extracting layer3 SimAM 6: 100%|██████████| 237/237 [00:04<00:00, 50.74it/s]\n",
            "Training Progress: 100%|██████████| 10/10 [00:01<00:00,  7.36it/s]\n",
            "Evaluation Progress: 100%|██████████| 15/15 [00:00<00:00, 506.89it/s]\n",
            "Extracting layer3 relu 12: 100%|██████████| 960/960 [00:16<00:00, 56.56it/s]\n",
            "Extracting layer3 relu 12: 100%|██████████| 237/237 [00:04<00:00, 51.21it/s]\n",
            "Training Progress: 100%|██████████| 10/10 [00:01<00:00,  7.31it/s]\n",
            "Evaluation Progress: 100%|██████████| 15/15 [00:00<00:00, 628.90it/s]\n",
            "Extracting layer4 relu 1: 100%|██████████| 960/960 [00:16<00:00, 56.53it/s]\n",
            "Extracting layer4 relu 1: 100%|██████████| 237/237 [00:04<00:00, 55.93it/s]\n",
            "Training Progress: 100%|██████████| 10/10 [00:01<00:00,  7.64it/s]\n",
            "Evaluation Progress: 100%|██████████| 15/15 [00:00<00:00, 865.91it/s]\n",
            "Extracting layer4 SimAM 1: 100%|██████████| 960/960 [00:17<00:00, 55.81it/s]\n",
            "Extracting layer4 SimAM 1: 100%|██████████| 237/237 [00:03<00:00, 59.47it/s]\n",
            "Training Progress: 100%|██████████| 10/10 [00:01<00:00,  8.34it/s]\n",
            "Evaluation Progress: 100%|██████████| 15/15 [00:00<00:00, 603.63it/s]\n",
            "Extracting layer4 relu 2: 100%|██████████| 960/960 [00:17<00:00, 54.99it/s]\n",
            "Extracting layer4 relu 2: 100%|██████████| 237/237 [00:04<00:00, 58.85it/s]\n",
            "Training Progress: 100%|██████████| 10/10 [00:01<00:00,  9.31it/s]\n",
            "Evaluation Progress: 100%|██████████| 15/15 [00:00<00:00, 869.97it/s]\n",
            "Extracting layer4 relu 3: 100%|██████████| 960/960 [00:17<00:00, 53.52it/s]\n",
            "Extracting layer4 relu 3: 100%|██████████| 237/237 [00:03<00:00, 59.70it/s]\n",
            "Training Progress: 100%|██████████| 10/10 [00:01<00:00,  9.12it/s]\n",
            "Evaluation Progress: 100%|██████████| 15/15 [00:00<00:00, 827.01it/s]\n",
            "Extracting layer4 SimAM 2: 100%|██████████| 960/960 [00:17<00:00, 54.10it/s]\n",
            "Extracting layer4 SimAM 2: 100%|██████████| 237/237 [00:03<00:00, 59.52it/s]\n",
            "Training Progress: 100%|██████████| 10/10 [00:01<00:00,  9.15it/s]\n",
            "Evaluation Progress: 100%|██████████| 15/15 [00:00<00:00, 756.04it/s]\n",
            "Extracting layer4 relu 4: 100%|██████████| 960/960 [00:17<00:00, 54.29it/s]\n",
            "Extracting layer4 relu 4: 100%|██████████| 237/237 [00:04<00:00, 50.74it/s]\n",
            "Training Progress: 100%|██████████| 10/10 [00:01<00:00,  8.78it/s]\n",
            "Evaluation Progress: 100%|██████████| 15/15 [00:00<00:00, 890.81it/s]\n",
            "Extracting layer4 relu 5: 100%|██████████| 960/960 [00:17<00:00, 54.43it/s]\n",
            "Extracting layer4 relu 5: 100%|██████████| 237/237 [00:04<00:00, 51.01it/s]\n",
            "Training Progress: 100%|██████████| 10/10 [00:01<00:00,  8.74it/s]\n",
            "Evaluation Progress: 100%|██████████| 15/15 [00:00<00:00, 807.17it/s]\n",
            "Extracting layer4 SimAM 3: 100%|██████████| 960/960 [00:17<00:00, 54.20it/s]\n",
            "Extracting layer4 SimAM 3: 100%|██████████| 237/237 [00:04<00:00, 49.50it/s]\n",
            "Training Progress: 100%|██████████| 10/10 [00:01<00:00,  9.01it/s]\n",
            "Evaluation Progress: 100%|██████████| 15/15 [00:00<00:00, 850.23it/s]\n",
            "Extracting layer4 relu 6: 100%|██████████| 960/960 [00:17<00:00, 55.49it/s]\n",
            "Extracting layer4 relu 6: 100%|██████████| 237/237 [00:04<00:00, 50.77it/s]\n",
            "Training Progress: 100%|██████████| 10/10 [00:01<00:00,  9.02it/s]\n",
            "Evaluation Progress: 100%|██████████| 15/15 [00:00<00:00, 895.45it/s]\n",
            "Extracting pooling: 100%|██████████| 960/960 [00:17<00:00, 55.94it/s]\n",
            "Extracting pooling: 100%|██████████| 237/237 [00:04<00:00, 54.33it/s]\n",
            "Training Progress: 100%|██████████| 10/10 [00:01<00:00,  9.15it/s]\n",
            "Evaluation Progress: 100%|██████████| 15/15 [00:00<00:00, 1137.70it/s]\n"
          ]
        }
      ]
    },
    {
      "cell_type": "code",
      "source": [
        "save_metrics(metrics_list, '/content/result/probing.txt')\n",
        "plot_metrics(metrics_list, '/content/result/probing.png')"
      ],
      "metadata": {
        "colab": {
          "base_uri": "https://localhost:8080/",
          "height": 348
        },
        "id": "po_p7PuhKJPt",
        "outputId": "d157f61a-26a8-4969-f5b5-9b8feac669d1"
      },
      "execution_count": 22,
      "outputs": [
        {
          "output_type": "display_data",
          "data": {
            "text/plain": [
              "<Figure size 1000x500 with 2 Axes>"
            ],
            "image/png": "[encoded data removed]"
          },
          "metadata": {}
        }
      ]
    }
  ]
}